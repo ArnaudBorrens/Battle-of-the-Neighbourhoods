{
 "cells": [
  {
   "cell_type": "markdown",
   "metadata": {},
   "source": [
    "# The Battle of Neighborhoods - Final Assignment\n",
    "\n",
    "In this Final Assignment we will examine the Neighborhoods of Brussels in order to identify the best Neighborhoods for a young couple that recently moved to the Belgian capital. The Real Estate company recently added a additional service that offers their clients a tailored service including a detailed report on the best Neighborhoods based on the preferences of the client."
   ]
  },
  {
   "cell_type": "markdown",
   "metadata": {},
   "source": [
    "## 1. Introduction\n",
    "\n",
    "A young couple recently moved to the Belgian capital for work and are wondering which of the Neighborhoods of Brussels will be the best to live in. Their interests include:  \n",
    "1. The outdoors\n",
    "2. Italian Restaurants\n",
    "3. Cultural activities\n",
    "\n",
    "They just saw an advertisment for a tailored service from a Real Estate company that will help them identify the top 3 Neighborhoods to choose based on their interests. Therefore, they contacted this Real Estate company and transmitted their interests.  \n",
    "The young couple both are in their 30s and work full-time and don't know Brussels at all. \n",
    "\n",
    "The Real Estate company analyzes their interests and determines that the best way to come up with the best Neighborhoods they will need the coordinates of Brussels and combine this with the Foursquare location data. "
   ]
  },
  {
   "cell_type": "markdown",
   "metadata": {},
   "source": [
    "## 2. Data\n",
    "\n",
    "In order to determine the best Neighborhoods for the young couple the Real Estate company first analyzes how Brussels is divided. Brussels is the capital of Belgium and is divided in 19 municipalities, whith a defined Postal Code.  \n",
    "Inside the municipalities there are different Neighborhoods, however, as they are only localities and don't have very defined limits nor Postal Codes, the Real Estate company decided to restrict their recommendation to one of the 19 municipalities in Brussels.  \n",
    "\n",
    "To find a list of the 19 Brussels Municipalities the Real Estate company found the Wikipedia page that has a table that lists the 19 municipalities with their corresponding Postal Codes.\n",
    "\n",
    "In order to get the Longitutde and Latitude coordinates of the 19 different municipalities, the Real Estate company has access to the Open Data website of Wallonia and Brussels that hosts a CSV file listing all Belgian Postal Codes with the names of the municipalities as well as their Longitude and Latitudes.\n",
    "\n",
    "Once we have the latitude and longitude of the identified municipalities of Brussels we can then use Foursquare's location data to identify the type of venues in the different municipalities. The type of venues combined with the frequency of these venues inside of the identified municipalities could give us a good idea of which municipality would match the best the criteria's given by the young couple."
   ]
  },
  {
   "cell_type": "markdown",
   "metadata": {},
   "source": [
    "### 2.1 Scrapping and Cleaning the Wikipedia page\n",
    "\n",
    "To start let us scrape the Wikipedia page that hosts the Table of the different 19 municipalities of Brussels.  \n",
    "\n",
    "The first step is to install and import the different modules we will need to scrape and clean the Table. For this operation we will need Pandas and Numpy."
   ]
  },
  {
   "cell_type": "code",
   "execution_count": 1,
   "metadata": {},
   "outputs": [],
   "source": [
    "import pandas as pd\n",
    "import numpy as np"
   ]
  },
  {
   "cell_type": "markdown",
   "metadata": {},
   "source": [
    "To scrape the Wikiwand website we will use the Pandas read_html method that returns HTML tables into a list of DataFrame objects.  \n",
    "\n",
    "The URL of the Wikipedia page that contains the Table is: \"https://fr.wikipedia.org/wiki/R%C3%A9gion_de_Bruxelles-Capitale\""
   ]
  },
  {
   "cell_type": "code",
   "execution_count": 2,
   "metadata": {},
   "outputs": [
    {
     "data": {
      "text/plain": [
       "16"
      ]
     },
     "execution_count": 2,
     "metadata": {},
     "output_type": "execute_result"
    }
   ],
   "source": [
    "url = 'https://fr.wikipedia.org/wiki/R%C3%A9gion_de_Bruxelles-Capitale'\n",
    "\n",
    "df_list = pd.read_html(url)\n",
    "\n",
    "len(df_list)"
   ]
  },
  {
   "cell_type": "markdown",
   "metadata": {},
   "source": [
    "We can see that read_html identified 16 different HTML tables. From navigating to the Wikipedia page we can identify that the table we are interested in is the second HTML table present. Therefore, let's only look at the second DataFrame object."
   ]
  },
  {
   "cell_type": "code",
   "execution_count": 3,
   "metadata": {},
   "outputs": [
    {
     "data": {
      "text/html": [
       "<div>\n",
       "<style scoped>\n",
       "    .dataframe tbody tr th:only-of-type {\n",
       "        vertical-align: middle;\n",
       "    }\n",
       "\n",
       "    .dataframe tbody tr th {\n",
       "        vertical-align: top;\n",
       "    }\n",
       "\n",
       "    .dataframe thead th {\n",
       "        text-align: right;\n",
       "    }\n",
       "</style>\n",
       "<table border=\"1\" class=\"dataframe\">\n",
       "  <thead>\n",
       "    <tr style=\"text-align: right;\">\n",
       "      <th></th>\n",
       "      <th>Repèresur lacarte</th>\n",
       "      <th>Commune</th>\n",
       "      <th>Code postal</th>\n",
       "      <th>Superficie(en km2)</th>\n",
       "      <th>Population(au 1/1/2009)</th>\n",
       "      <th>Population(au 1/1/2010)</th>\n",
       "      <th>Population(au 1/1/2016)</th>\n",
       "      <th>Population(au 1/1/2019)[36]</th>\n",
       "      <th>Population(au 1/1/2020)[37]</th>\n",
       "      <th>Évolution 2010-2020</th>\n",
       "      <th>Δ%</th>\n",
       "    </tr>\n",
       "  </thead>\n",
       "  <tbody>\n",
       "    <tr>\n",
       "      <th>0</th>\n",
       "      <td>1.0</td>\n",
       "      <td>Anderlecht</td>\n",
       "      <td>1070</td>\n",
       "      <td>1774</td>\n",
       "      <td>101 371</td>\n",
       "      <td>104 647</td>\n",
       "      <td>116 494</td>\n",
       "      <td>118 920</td>\n",
       "      <td>120 009</td>\n",
       "      <td>+ 15 362</td>\n",
       "      <td>+ 14,68 %</td>\n",
       "    </tr>\n",
       "    <tr>\n",
       "      <th>1</th>\n",
       "      <td>2.0</td>\n",
       "      <td>Auderghem</td>\n",
       "      <td>1160</td>\n",
       "      <td>903</td>\n",
       "      <td>30 456</td>\n",
       "      <td>30 811</td>\n",
       "      <td>33 085</td>\n",
       "      <td>33 970</td>\n",
       "      <td>34 342</td>\n",
       "      <td>+ 3 531</td>\n",
       "      <td>+ 11,46 %</td>\n",
       "    </tr>\n",
       "    <tr>\n",
       "      <th>2</th>\n",
       "      <td>3.0</td>\n",
       "      <td>Berchem-Sainte-Agathe</td>\n",
       "      <td>1082</td>\n",
       "      <td>295</td>\n",
       "      <td>21 669</td>\n",
       "      <td>22 185</td>\n",
       "      <td>24 176</td>\n",
       "      <td>25 195</td>\n",
       "      <td>25 195</td>\n",
       "      <td>+ 3 010</td>\n",
       "      <td>+ 13,56 %</td>\n",
       "    </tr>\n",
       "    <tr>\n",
       "      <th>3</th>\n",
       "      <td>4.0</td>\n",
       "      <td>Ville de Bruxelles : Bruxelles Laeken Neder-Ov...</td>\n",
       "      <td>Plusieurs : 1000, 1040, 1050 1020 1120 1130</td>\n",
       "      <td>3261</td>\n",
       "      <td>153 377</td>\n",
       "      <td>157 673</td>\n",
       "      <td>176 512</td>\n",
       "      <td>179 797</td>\n",
       "      <td>183 287</td>\n",
       "      <td>+ 25 614</td>\n",
       "      <td>+ 16,24 %</td>\n",
       "    </tr>\n",
       "    <tr>\n",
       "      <th>4</th>\n",
       "      <td>5.0</td>\n",
       "      <td>Etterbeek</td>\n",
       "      <td>1040</td>\n",
       "      <td>315</td>\n",
       "      <td>43 512</td>\n",
       "      <td>44 352</td>\n",
       "      <td>47 023</td>\n",
       "      <td>48 008</td>\n",
       "      <td>48 194</td>\n",
       "      <td>+ 3 842</td>\n",
       "      <td>+ 8,66 %</td>\n",
       "    </tr>\n",
       "    <tr>\n",
       "      <th>5</th>\n",
       "      <td>6.0</td>\n",
       "      <td>Evere</td>\n",
       "      <td>1140</td>\n",
       "      <td>507</td>\n",
       "      <td>35 372</td>\n",
       "      <td>35 803</td>\n",
       "      <td>39 439</td>\n",
       "      <td>41 588</td>\n",
       "      <td>42 444</td>\n",
       "      <td>+ 6 641</td>\n",
       "      <td>+ 18,55 %</td>\n",
       "    </tr>\n",
       "    <tr>\n",
       "      <th>6</th>\n",
       "      <td>7.0</td>\n",
       "      <td>Forest</td>\n",
       "      <td>1190</td>\n",
       "      <td>625</td>\n",
       "      <td>49 757</td>\n",
       "      <td>50 258</td>\n",
       "      <td>55 386</td>\n",
       "      <td>55 925</td>\n",
       "      <td>56 441</td>\n",
       "      <td>+ 6 183</td>\n",
       "      <td>+ 12,30 %</td>\n",
       "    </tr>\n",
       "    <tr>\n",
       "      <th>7</th>\n",
       "      <td>8.0</td>\n",
       "      <td>Ganshoren</td>\n",
       "      <td>1083</td>\n",
       "      <td>246</td>\n",
       "      <td>22 160</td>\n",
       "      <td>22 589</td>\n",
       "      <td>24 128</td>\n",
       "      <td>24 817</td>\n",
       "      <td>25 222</td>\n",
       "      <td>+ 2 633</td>\n",
       "      <td>+ 11,66 %</td>\n",
       "    </tr>\n",
       "    <tr>\n",
       "      <th>8</th>\n",
       "      <td>9.0</td>\n",
       "      <td>Ixelles</td>\n",
       "      <td>1050</td>\n",
       "      <td>634</td>\n",
       "      <td>80 312</td>\n",
       "      <td>80 183</td>\n",
       "      <td>85 274</td>\n",
       "      <td>86 675</td>\n",
       "      <td>87 385</td>\n",
       "      <td>+ 7 202</td>\n",
       "      <td>+ 8,98 %</td>\n",
       "    </tr>\n",
       "    <tr>\n",
       "      <th>9</th>\n",
       "      <td>10.0</td>\n",
       "      <td>Jette</td>\n",
       "      <td>1090</td>\n",
       "      <td>504</td>\n",
       "      <td>45 637</td>\n",
       "      <td>46 818</td>\n",
       "      <td>51 387</td>\n",
       "      <td>52 417</td>\n",
       "      <td>52 459</td>\n",
       "      <td>+ 5 641</td>\n",
       "      <td>+ 12,05 %</td>\n",
       "    </tr>\n",
       "    <tr>\n",
       "      <th>10</th>\n",
       "      <td>11.0</td>\n",
       "      <td>Koekelberg</td>\n",
       "      <td>1081</td>\n",
       "      <td>117</td>\n",
       "      <td>19 380</td>\n",
       "      <td>19 812</td>\n",
       "      <td>21 558</td>\n",
       "      <td>21 961</td>\n",
       "      <td>21 886</td>\n",
       "      <td>+ 2 074</td>\n",
       "      <td>+ 10,47 %</td>\n",
       "    </tr>\n",
       "    <tr>\n",
       "      <th>11</th>\n",
       "      <td>12.0</td>\n",
       "      <td>Molenbeek-Saint-Jean</td>\n",
       "      <td>1080</td>\n",
       "      <td>589</td>\n",
       "      <td>85 735</td>\n",
       "      <td>88 181</td>\n",
       "      <td>95 861</td>\n",
       "      <td>96 501</td>\n",
       "      <td>97 365</td>\n",
       "      <td>+ 9 184</td>\n",
       "      <td>+ 10,41 %</td>\n",
       "    </tr>\n",
       "    <tr>\n",
       "      <th>12</th>\n",
       "      <td>13.0</td>\n",
       "      <td>Saint-Gilles</td>\n",
       "      <td>1060</td>\n",
       "      <td>252</td>\n",
       "      <td>45 712</td>\n",
       "      <td>46 981</td>\n",
       "      <td>50 024</td>\n",
       "      <td>49 715</td>\n",
       "      <td>49 094</td>\n",
       "      <td>+ 2 113</td>\n",
       "      <td>+ 4,50 %</td>\n",
       "    </tr>\n",
       "    <tr>\n",
       "      <th>13</th>\n",
       "      <td>14.0</td>\n",
       "      <td>Saint-Josse-ten-Noode</td>\n",
       "      <td>1210</td>\n",
       "      <td>114</td>\n",
       "      <td>25 185</td>\n",
       "      <td>26 338</td>\n",
       "      <td>27 228</td>\n",
       "      <td>27 087</td>\n",
       "      <td>27 199</td>\n",
       "      <td>+ 861</td>\n",
       "      <td>+ 3,27 %</td>\n",
       "    </tr>\n",
       "    <tr>\n",
       "      <th>14</th>\n",
       "      <td>15.0</td>\n",
       "      <td>Schaerbeek</td>\n",
       "      <td>1030</td>\n",
       "      <td>814</td>\n",
       "      <td>118 275</td>\n",
       "      <td>121 232</td>\n",
       "      <td>131 375</td>\n",
       "      <td>131 547</td>\n",
       "      <td>131 548</td>\n",
       "      <td>+ 10 316</td>\n",
       "      <td>+ 8,51 %</td>\n",
       "    </tr>\n",
       "    <tr>\n",
       "      <th>15</th>\n",
       "      <td>16.0</td>\n",
       "      <td>Uccle</td>\n",
       "      <td>1180</td>\n",
       "      <td>2291</td>\n",
       "      <td>77 336</td>\n",
       "      <td>77 589</td>\n",
       "      <td>81 699</td>\n",
       "      <td>82 742</td>\n",
       "      <td>83 631</td>\n",
       "      <td>+ 6 042</td>\n",
       "      <td>+ 7,79 %</td>\n",
       "    </tr>\n",
       "    <tr>\n",
       "      <th>16</th>\n",
       "      <td>17.0</td>\n",
       "      <td>Watermael-Boitsfort</td>\n",
       "      <td>1170</td>\n",
       "      <td>1293</td>\n",
       "      <td>24 166</td>\n",
       "      <td>24 260</td>\n",
       "      <td>24 614</td>\n",
       "      <td>25 172</td>\n",
       "      <td>25 318</td>\n",
       "      <td>+ 1 058</td>\n",
       "      <td>+ 4,38 %</td>\n",
       "    </tr>\n",
       "    <tr>\n",
       "      <th>17</th>\n",
       "      <td>18.0</td>\n",
       "      <td>Woluwe-Saint-Lambert</td>\n",
       "      <td>1200</td>\n",
       "      <td>722</td>\n",
       "      <td>50 163</td>\n",
       "      <td>50 749</td>\n",
       "      <td>54 144</td>\n",
       "      <td>54 144</td>\n",
       "      <td>57 583</td>\n",
       "      <td>+ 6 834</td>\n",
       "      <td>+ 13,47 %</td>\n",
       "    </tr>\n",
       "    <tr>\n",
       "      <th>18</th>\n",
       "      <td>19.0</td>\n",
       "      <td>Woluwe-Saint-Pierre</td>\n",
       "      <td>1150</td>\n",
       "      <td>885</td>\n",
       "      <td>38 957</td>\n",
       "      <td>39 077</td>\n",
       "      <td>41 124</td>\n",
       "      <td>41 789</td>\n",
       "      <td>42 066</td>\n",
       "      <td>+ 2 989</td>\n",
       "      <td>+ 7,65 %</td>\n",
       "    </tr>\n",
       "    <tr>\n",
       "      <th>19</th>\n",
       "      <td>NaN</td>\n",
       "      <td>Totaux</td>\n",
       "      <td>NaN</td>\n",
       "      <td>16136</td>\n",
       "      <td>1 068 532</td>\n",
       "      <td>1 089 538</td>\n",
       "      <td>1 180 531</td>\n",
       "      <td>1 200 325</td>\n",
       "      <td>1 211 026</td>\n",
       "      <td>+ 121 488</td>\n",
       "      <td>+ 11,15 %</td>\n",
       "    </tr>\n",
       "  </tbody>\n",
       "</table>\n",
       "</div>"
      ],
      "text/plain": [
       "    Repèresur lacarte                                            Commune  \\\n",
       "0                 1.0                                         Anderlecht   \n",
       "1                 2.0                                          Auderghem   \n",
       "2                 3.0                              Berchem-Sainte-Agathe   \n",
       "3                 4.0  Ville de Bruxelles : Bruxelles Laeken Neder-Ov...   \n",
       "4                 5.0                                          Etterbeek   \n",
       "5                 6.0                                              Evere   \n",
       "6                 7.0                                             Forest   \n",
       "7                 8.0                                          Ganshoren   \n",
       "8                 9.0                                            Ixelles   \n",
       "9                10.0                                              Jette   \n",
       "10               11.0                                         Koekelberg   \n",
       "11               12.0                               Molenbeek-Saint-Jean   \n",
       "12               13.0                                       Saint-Gilles   \n",
       "13               14.0                              Saint-Josse-ten-Noode   \n",
       "14               15.0                                         Schaerbeek   \n",
       "15               16.0                                              Uccle   \n",
       "16               17.0                                Watermael-Boitsfort   \n",
       "17               18.0                               Woluwe-Saint-Lambert   \n",
       "18               19.0                                Woluwe-Saint-Pierre   \n",
       "19                NaN                                             Totaux   \n",
       "\n",
       "                                    Code postal  Superficie(en km2)  \\\n",
       "0                                          1070                1774   \n",
       "1                                          1160                 903   \n",
       "2                                          1082                 295   \n",
       "3   Plusieurs : 1000, 1040, 1050 1020 1120 1130                3261   \n",
       "4                                          1040                 315   \n",
       "5                                          1140                 507   \n",
       "6                                          1190                 625   \n",
       "7                                          1083                 246   \n",
       "8                                          1050                 634   \n",
       "9                                          1090                 504   \n",
       "10                                         1081                 117   \n",
       "11                                         1080                 589   \n",
       "12                                         1060                 252   \n",
       "13                                         1210                 114   \n",
       "14                                         1030                 814   \n",
       "15                                         1180                2291   \n",
       "16                                         1170                1293   \n",
       "17                                         1200                 722   \n",
       "18                                         1150                 885   \n",
       "19                                          NaN               16136   \n",
       "\n",
       "   Population(au 1/1/2009) Population(au 1/1/2010) Population(au 1/1/2016)  \\\n",
       "0                  101 371                 104 647                 116 494   \n",
       "1                   30 456                  30 811                  33 085   \n",
       "2                   21 669                  22 185                  24 176   \n",
       "3                  153 377                 157 673                 176 512   \n",
       "4                   43 512                  44 352                  47 023   \n",
       "5                   35 372                  35 803                  39 439   \n",
       "6                   49 757                  50 258                  55 386   \n",
       "7                   22 160                  22 589                  24 128   \n",
       "8                   80 312                  80 183                  85 274   \n",
       "9                   45 637                  46 818                  51 387   \n",
       "10                  19 380                  19 812                  21 558   \n",
       "11                  85 735                  88 181                  95 861   \n",
       "12                  45 712                  46 981                  50 024   \n",
       "13                  25 185                  26 338                  27 228   \n",
       "14                 118 275                 121 232                 131 375   \n",
       "15                  77 336                  77 589                  81 699   \n",
       "16                  24 166                  24 260                  24 614   \n",
       "17                  50 163                  50 749                  54 144   \n",
       "18                  38 957                  39 077                  41 124   \n",
       "19               1 068 532               1 089 538               1 180 531   \n",
       "\n",
       "   Population(au 1/1/2019)[36] Population(au 1/1/2020)[37]  \\\n",
       "0                      118 920                     120 009   \n",
       "1                       33 970                      34 342   \n",
       "2                       25 195                      25 195   \n",
       "3                      179 797                     183 287   \n",
       "4                       48 008                      48 194   \n",
       "5                       41 588                      42 444   \n",
       "6                       55 925                      56 441   \n",
       "7                       24 817                      25 222   \n",
       "8                       86 675                      87 385   \n",
       "9                       52 417                      52 459   \n",
       "10                      21 961                      21 886   \n",
       "11                      96 501                      97 365   \n",
       "12                      49 715                      49 094   \n",
       "13                      27 087                      27 199   \n",
       "14                     131 547                     131 548   \n",
       "15                      82 742                      83 631   \n",
       "16                      25 172                      25 318   \n",
       "17                      54 144                      57 583   \n",
       "18                      41 789                      42 066   \n",
       "19                   1 200 325                   1 211 026   \n",
       "\n",
       "   Évolution 2010-2020         Δ%  \n",
       "0             + 15 362  + 14,68 %  \n",
       "1              + 3 531  + 11,46 %  \n",
       "2              + 3 010  + 13,56 %  \n",
       "3             + 25 614  + 16,24 %  \n",
       "4              + 3 842   + 8,66 %  \n",
       "5              + 6 641  + 18,55 %  \n",
       "6              + 6 183  + 12,30 %  \n",
       "7              + 2 633  + 11,66 %  \n",
       "8              + 7 202   + 8,98 %  \n",
       "9              + 5 641  + 12,05 %  \n",
       "10             + 2 074  + 10,47 %  \n",
       "11             + 9 184  + 10,41 %  \n",
       "12             + 2 113   + 4,50 %  \n",
       "13               + 861   + 3,27 %  \n",
       "14            + 10 316   + 8,51 %  \n",
       "15             + 6 042   + 7,79 %  \n",
       "16             + 1 058   + 4,38 %  \n",
       "17             + 6 834  + 13,47 %  \n",
       "18             + 2 989   + 7,65 %  \n",
       "19           + 121 488  + 11,15 %  "
      ]
     },
     "execution_count": 3,
     "metadata": {},
     "output_type": "execute_result"
    }
   ],
   "source": [
    "brussels_list = df_list[1]\n",
    "\n",
    "brussels_list"
   ]
  },
  {
   "cell_type": "markdown",
   "metadata": {},
   "source": [
    "From the above DataFrame we can see that the table includes a lot of information that we don't need for the moment. Let's only keep the relevant columns, \"Commune\" and \"Code postal\" which translates into \"municipalities\" and \"Postal Code\". "
   ]
  },
  {
   "cell_type": "code",
   "execution_count": 4,
   "metadata": {},
   "outputs": [
    {
     "data": {
      "text/html": [
       "<div>\n",
       "<style scoped>\n",
       "    .dataframe tbody tr th:only-of-type {\n",
       "        vertical-align: middle;\n",
       "    }\n",
       "\n",
       "    .dataframe tbody tr th {\n",
       "        vertical-align: top;\n",
       "    }\n",
       "\n",
       "    .dataframe thead th {\n",
       "        text-align: right;\n",
       "    }\n",
       "</style>\n",
       "<table border=\"1\" class=\"dataframe\">\n",
       "  <thead>\n",
       "    <tr style=\"text-align: right;\">\n",
       "      <th></th>\n",
       "      <th>Commune</th>\n",
       "      <th>Code postal</th>\n",
       "    </tr>\n",
       "  </thead>\n",
       "  <tbody>\n",
       "    <tr>\n",
       "      <th>0</th>\n",
       "      <td>Anderlecht</td>\n",
       "      <td>1070</td>\n",
       "    </tr>\n",
       "    <tr>\n",
       "      <th>1</th>\n",
       "      <td>Auderghem</td>\n",
       "      <td>1160</td>\n",
       "    </tr>\n",
       "    <tr>\n",
       "      <th>2</th>\n",
       "      <td>Berchem-Sainte-Agathe</td>\n",
       "      <td>1082</td>\n",
       "    </tr>\n",
       "    <tr>\n",
       "      <th>3</th>\n",
       "      <td>Ville de Bruxelles : Bruxelles Laeken Neder-Ov...</td>\n",
       "      <td>Plusieurs : 1000, 1040, 1050 1020 1120 1130</td>\n",
       "    </tr>\n",
       "    <tr>\n",
       "      <th>4</th>\n",
       "      <td>Etterbeek</td>\n",
       "      <td>1040</td>\n",
       "    </tr>\n",
       "    <tr>\n",
       "      <th>5</th>\n",
       "      <td>Evere</td>\n",
       "      <td>1140</td>\n",
       "    </tr>\n",
       "    <tr>\n",
       "      <th>6</th>\n",
       "      <td>Forest</td>\n",
       "      <td>1190</td>\n",
       "    </tr>\n",
       "    <tr>\n",
       "      <th>7</th>\n",
       "      <td>Ganshoren</td>\n",
       "      <td>1083</td>\n",
       "    </tr>\n",
       "    <tr>\n",
       "      <th>8</th>\n",
       "      <td>Ixelles</td>\n",
       "      <td>1050</td>\n",
       "    </tr>\n",
       "    <tr>\n",
       "      <th>9</th>\n",
       "      <td>Jette</td>\n",
       "      <td>1090</td>\n",
       "    </tr>\n",
       "    <tr>\n",
       "      <th>10</th>\n",
       "      <td>Koekelberg</td>\n",
       "      <td>1081</td>\n",
       "    </tr>\n",
       "    <tr>\n",
       "      <th>11</th>\n",
       "      <td>Molenbeek-Saint-Jean</td>\n",
       "      <td>1080</td>\n",
       "    </tr>\n",
       "    <tr>\n",
       "      <th>12</th>\n",
       "      <td>Saint-Gilles</td>\n",
       "      <td>1060</td>\n",
       "    </tr>\n",
       "    <tr>\n",
       "      <th>13</th>\n",
       "      <td>Saint-Josse-ten-Noode</td>\n",
       "      <td>1210</td>\n",
       "    </tr>\n",
       "    <tr>\n",
       "      <th>14</th>\n",
       "      <td>Schaerbeek</td>\n",
       "      <td>1030</td>\n",
       "    </tr>\n",
       "    <tr>\n",
       "      <th>15</th>\n",
       "      <td>Uccle</td>\n",
       "      <td>1180</td>\n",
       "    </tr>\n",
       "    <tr>\n",
       "      <th>16</th>\n",
       "      <td>Watermael-Boitsfort</td>\n",
       "      <td>1170</td>\n",
       "    </tr>\n",
       "    <tr>\n",
       "      <th>17</th>\n",
       "      <td>Woluwe-Saint-Lambert</td>\n",
       "      <td>1200</td>\n",
       "    </tr>\n",
       "    <tr>\n",
       "      <th>18</th>\n",
       "      <td>Woluwe-Saint-Pierre</td>\n",
       "      <td>1150</td>\n",
       "    </tr>\n",
       "    <tr>\n",
       "      <th>19</th>\n",
       "      <td>Totaux</td>\n",
       "      <td>NaN</td>\n",
       "    </tr>\n",
       "  </tbody>\n",
       "</table>\n",
       "</div>"
      ],
      "text/plain": [
       "                                              Commune  \\\n",
       "0                                          Anderlecht   \n",
       "1                                           Auderghem   \n",
       "2                               Berchem-Sainte-Agathe   \n",
       "3   Ville de Bruxelles : Bruxelles Laeken Neder-Ov...   \n",
       "4                                           Etterbeek   \n",
       "5                                               Evere   \n",
       "6                                              Forest   \n",
       "7                                           Ganshoren   \n",
       "8                                             Ixelles   \n",
       "9                                               Jette   \n",
       "10                                         Koekelberg   \n",
       "11                               Molenbeek-Saint-Jean   \n",
       "12                                       Saint-Gilles   \n",
       "13                              Saint-Josse-ten-Noode   \n",
       "14                                         Schaerbeek   \n",
       "15                                              Uccle   \n",
       "16                                Watermael-Boitsfort   \n",
       "17                               Woluwe-Saint-Lambert   \n",
       "18                                Woluwe-Saint-Pierre   \n",
       "19                                             Totaux   \n",
       "\n",
       "                                    Code postal  \n",
       "0                                          1070  \n",
       "1                                          1160  \n",
       "2                                          1082  \n",
       "3   Plusieurs : 1000, 1040, 1050 1020 1120 1130  \n",
       "4                                          1040  \n",
       "5                                          1140  \n",
       "6                                          1190  \n",
       "7                                          1083  \n",
       "8                                          1050  \n",
       "9                                          1090  \n",
       "10                                         1081  \n",
       "11                                         1080  \n",
       "12                                         1060  \n",
       "13                                         1210  \n",
       "14                                         1030  \n",
       "15                                         1180  \n",
       "16                                         1170  \n",
       "17                                         1200  \n",
       "18                                         1150  \n",
       "19                                          NaN  "
      ]
     },
     "execution_count": 4,
     "metadata": {},
     "output_type": "execute_result"
    }
   ],
   "source": [
    "brussels_list =  brussels_list [['Commune', 'Code postal']]\n",
    "\n",
    "brussels_list"
   ]
  },
  {
   "cell_type": "markdown",
   "metadata": {},
   "source": [
    "The table looks clean. However, we can see that the fourth row has more than one name and more than one postal code. That's because the central municipality of Brussels includes, aside of itself 3 other regions that formerly were seperate municipalities but are now attached to the municipality of Brussels. As they were formerly municipalities these 3 regions have distinct postal codes.  \n",
    "\n",
    "Therefore, we will add these regions to the complete DataFrame.  \n",
    "\n",
    "First let's have a look to the fourth row in detail."
   ]
  },
  {
   "cell_type": "code",
   "execution_count": 5,
   "metadata": {},
   "outputs": [
    {
     "data": {
      "text/plain": [
       "Commune        Ville de Bruxelles : Bruxelles Laeken Neder-Ov...\n",
       "Code postal          Plusieurs : 1000, 1040, 1050 1020 1120 1130\n",
       "Name: 3, dtype: object"
      ]
     },
     "execution_count": 5,
     "metadata": {},
     "output_type": "execute_result"
    }
   ],
   "source": [
    "city_brussels_PostalCode = brussels_list.iloc[3]\n",
    "\n",
    "city_brussels_PostalCode"
   ]
  },
  {
   "cell_type": "code",
   "execution_count": 6,
   "metadata": {},
   "outputs": [
    {
     "name": "stdout",
     "output_type": "stream",
     "text": [
      "Ville de Bruxelles : Bruxelles Laeken Neder-Over-Heembeek Haren\n"
     ]
    }
   ],
   "source": [
    "city_brussels_name = city_brussels_PostalCode['Commune']\n",
    "\n",
    "print(city_brussels_name)"
   ]
  },
  {
   "cell_type": "markdown",
   "metadata": {},
   "source": [
    "We can see that the row includes 4 distinct names. Namely: Bruxelles, Laeken, Neder-Over-Heembeek, and Haren. Therefore, let's create a list that includes these 4 municipalities names. "
   ]
  },
  {
   "cell_type": "code",
   "execution_count": 7,
   "metadata": {},
   "outputs": [
    {
     "data": {
      "text/plain": [
       "['Ville',\n",
       " 'de',\n",
       " 'Bruxelles\\xa0:',\n",
       " 'Bruxelles',\n",
       " 'Laeken',\n",
       " 'Neder-Over-Heembeek',\n",
       " 'Haren']"
      ]
     },
     "execution_count": 7,
     "metadata": {},
     "output_type": "execute_result"
    }
   ],
   "source": [
    "city_brussels_name_list = city_brussels_name.split(\" \")\n",
    "city_brussels_name_list"
   ]
  },
  {
   "cell_type": "code",
   "execution_count": 8,
   "metadata": {},
   "outputs": [
    {
     "data": {
      "text/plain": [
       "['Bruxelles', 'Laeken', 'Neder-Over-Heembeek', 'Haren']"
      ]
     },
     "execution_count": 8,
     "metadata": {},
     "output_type": "execute_result"
    }
   ],
   "source": [
    "city_brussels_name_lists = city_brussels_name_list[3:7]\n",
    "\n",
    "city_brussels_name_lists"
   ]
  },
  {
   "cell_type": "markdown",
   "metadata": {},
   "source": [
    "Let's have a look at the postal codes in this row. "
   ]
  },
  {
   "cell_type": "code",
   "execution_count": 9,
   "metadata": {},
   "outputs": [
    {
     "data": {
      "text/plain": [
       "['Plusieurs\\xa0:', '1000,', '1040,', '1050', '1020', '1120', '1130']"
      ]
     },
     "execution_count": 9,
     "metadata": {},
     "output_type": "execute_result"
    }
   ],
   "source": [
    "city_brussels_PostalCode_lists = city_brussels_PostalCode['Code postal'].split(\" \")\n",
    "\n",
    "city_brussels_PostalCode_lists"
   ]
  },
  {
   "cell_type": "markdown",
   "metadata": {},
   "source": [
    "We can see that there are more postal codes than names. That's because \"Bruxelles\" had a sub-list of postal codes; 1000, 1040, and 1050. "
   ]
  },
  {
   "cell_type": "code",
   "execution_count": 10,
   "metadata": {},
   "outputs": [
    {
     "data": {
      "text/plain": [
       "['1000,', '1040,', '1050', '1020', '1120', '1130']"
      ]
     },
     "execution_count": 10,
     "metadata": {},
     "output_type": "execute_result"
    }
   ],
   "source": [
    "city_brussels_PostalCode_lists = city_brussels_PostalCode_lists[1:7]\n",
    "\n",
    "city_brussels_PostalCode_lists"
   ]
  },
  {
   "cell_type": "markdown",
   "metadata": {},
   "source": [
    "Upon further inspection we can see that two of these postal codes; 1040 and 1050, are already present in the table. Therefore, we will only keep 1000 for Bruxelles."
   ]
  },
  {
   "cell_type": "code",
   "execution_count": 11,
   "metadata": {},
   "outputs": [],
   "source": [
    "del city_brussels_PostalCode_lists[1:3]"
   ]
  },
  {
   "cell_type": "markdown",
   "metadata": {},
   "source": [
    "The last step is to remove the comma that appears after 1000."
   ]
  },
  {
   "cell_type": "code",
   "execution_count": 12,
   "metadata": {},
   "outputs": [
    {
     "data": {
      "text/plain": [
       "['1000', '1020', '1120', '1130']"
      ]
     },
     "execution_count": 12,
     "metadata": {},
     "output_type": "execute_result"
    }
   ],
   "source": [
    "city_brussels_PostalCode_lists = [city_brussels_PostalCode_lists[0].replace('1000,', '1000'), city_brussels_PostalCode_lists[1],city_brussels_PostalCode_lists[2], city_brussels_PostalCode_lists[3]]\n",
    "\n",
    "city_brussels_PostalCode_lists"
   ]
  },
  {
   "cell_type": "markdown",
   "metadata": {},
   "source": [
    "With both list clean we are ready to merge them and create a sub-DataFrame."
   ]
  },
  {
   "cell_type": "code",
   "execution_count": 13,
   "metadata": {},
   "outputs": [
    {
     "data": {
      "text/html": [
       "<div>\n",
       "<style scoped>\n",
       "    .dataframe tbody tr th:only-of-type {\n",
       "        vertical-align: middle;\n",
       "    }\n",
       "\n",
       "    .dataframe tbody tr th {\n",
       "        vertical-align: top;\n",
       "    }\n",
       "\n",
       "    .dataframe thead th {\n",
       "        text-align: right;\n",
       "    }\n",
       "</style>\n",
       "<table border=\"1\" class=\"dataframe\">\n",
       "  <thead>\n",
       "    <tr style=\"text-align: right;\">\n",
       "      <th></th>\n",
       "      <th>Commune</th>\n",
       "      <th>Code postal</th>\n",
       "    </tr>\n",
       "  </thead>\n",
       "  <tbody>\n",
       "    <tr>\n",
       "      <th>0</th>\n",
       "      <td>Bruxelles</td>\n",
       "      <td>1000</td>\n",
       "    </tr>\n",
       "    <tr>\n",
       "      <th>1</th>\n",
       "      <td>Laeken</td>\n",
       "      <td>1020</td>\n",
       "    </tr>\n",
       "    <tr>\n",
       "      <th>2</th>\n",
       "      <td>Neder-Over-Heembeek</td>\n",
       "      <td>1120</td>\n",
       "    </tr>\n",
       "    <tr>\n",
       "      <th>3</th>\n",
       "      <td>Haren</td>\n",
       "      <td>1130</td>\n",
       "    </tr>\n",
       "  </tbody>\n",
       "</table>\n",
       "</div>"
      ],
      "text/plain": [
       "               Commune Code postal\n",
       "0            Bruxelles        1000\n",
       "1               Laeken        1020\n",
       "2  Neder-Over-Heembeek        1120\n",
       "3                Haren        1130"
      ]
     },
     "execution_count": 13,
     "metadata": {},
     "output_type": "execute_result"
    }
   ],
   "source": [
    "brussels_city_df = pd.DataFrame({'Commune':city_brussels_name_lists, 'Code postal': city_brussels_PostalCode_lists})\n",
    "\n",
    "brussels_city_df"
   ]
  },
  {
   "cell_type": "markdown",
   "metadata": {},
   "source": [
    "Now its time to fuse the two DataFrames together."
   ]
  },
  {
   "cell_type": "code",
   "execution_count": 14,
   "metadata": {},
   "outputs": [
    {
     "data": {
      "text/html": [
       "<div>\n",
       "<style scoped>\n",
       "    .dataframe tbody tr th:only-of-type {\n",
       "        vertical-align: middle;\n",
       "    }\n",
       "\n",
       "    .dataframe tbody tr th {\n",
       "        vertical-align: top;\n",
       "    }\n",
       "\n",
       "    .dataframe thead th {\n",
       "        text-align: right;\n",
       "    }\n",
       "</style>\n",
       "<table border=\"1\" class=\"dataframe\">\n",
       "  <thead>\n",
       "    <tr style=\"text-align: right;\">\n",
       "      <th></th>\n",
       "      <th>Commune</th>\n",
       "      <th>Code postal</th>\n",
       "    </tr>\n",
       "  </thead>\n",
       "  <tbody>\n",
       "    <tr>\n",
       "      <th>0</th>\n",
       "      <td>Anderlecht</td>\n",
       "      <td>1070</td>\n",
       "    </tr>\n",
       "    <tr>\n",
       "      <th>1</th>\n",
       "      <td>Auderghem</td>\n",
       "      <td>1160</td>\n",
       "    </tr>\n",
       "    <tr>\n",
       "      <th>2</th>\n",
       "      <td>Berchem-Sainte-Agathe</td>\n",
       "      <td>1082</td>\n",
       "    </tr>\n",
       "    <tr>\n",
       "      <th>3</th>\n",
       "      <td>Ville de Bruxelles : Bruxelles Laeken Neder-Ov...</td>\n",
       "      <td>Plusieurs : 1000, 1040, 1050 1020 1120 1130</td>\n",
       "    </tr>\n",
       "    <tr>\n",
       "      <th>4</th>\n",
       "      <td>Etterbeek</td>\n",
       "      <td>1040</td>\n",
       "    </tr>\n",
       "    <tr>\n",
       "      <th>5</th>\n",
       "      <td>Evere</td>\n",
       "      <td>1140</td>\n",
       "    </tr>\n",
       "    <tr>\n",
       "      <th>6</th>\n",
       "      <td>Forest</td>\n",
       "      <td>1190</td>\n",
       "    </tr>\n",
       "    <tr>\n",
       "      <th>7</th>\n",
       "      <td>Ganshoren</td>\n",
       "      <td>1083</td>\n",
       "    </tr>\n",
       "    <tr>\n",
       "      <th>8</th>\n",
       "      <td>Ixelles</td>\n",
       "      <td>1050</td>\n",
       "    </tr>\n",
       "    <tr>\n",
       "      <th>9</th>\n",
       "      <td>Jette</td>\n",
       "      <td>1090</td>\n",
       "    </tr>\n",
       "    <tr>\n",
       "      <th>10</th>\n",
       "      <td>Koekelberg</td>\n",
       "      <td>1081</td>\n",
       "    </tr>\n",
       "    <tr>\n",
       "      <th>11</th>\n",
       "      <td>Molenbeek-Saint-Jean</td>\n",
       "      <td>1080</td>\n",
       "    </tr>\n",
       "    <tr>\n",
       "      <th>12</th>\n",
       "      <td>Saint-Gilles</td>\n",
       "      <td>1060</td>\n",
       "    </tr>\n",
       "    <tr>\n",
       "      <th>13</th>\n",
       "      <td>Saint-Josse-ten-Noode</td>\n",
       "      <td>1210</td>\n",
       "    </tr>\n",
       "    <tr>\n",
       "      <th>14</th>\n",
       "      <td>Schaerbeek</td>\n",
       "      <td>1030</td>\n",
       "    </tr>\n",
       "    <tr>\n",
       "      <th>15</th>\n",
       "      <td>Uccle</td>\n",
       "      <td>1180</td>\n",
       "    </tr>\n",
       "    <tr>\n",
       "      <th>16</th>\n",
       "      <td>Watermael-Boitsfort</td>\n",
       "      <td>1170</td>\n",
       "    </tr>\n",
       "    <tr>\n",
       "      <th>17</th>\n",
       "      <td>Woluwe-Saint-Lambert</td>\n",
       "      <td>1200</td>\n",
       "    </tr>\n",
       "    <tr>\n",
       "      <th>18</th>\n",
       "      <td>Woluwe-Saint-Pierre</td>\n",
       "      <td>1150</td>\n",
       "    </tr>\n",
       "    <tr>\n",
       "      <th>19</th>\n",
       "      <td>Totaux</td>\n",
       "      <td>NaN</td>\n",
       "    </tr>\n",
       "    <tr>\n",
       "      <th>20</th>\n",
       "      <td>Bruxelles</td>\n",
       "      <td>1000</td>\n",
       "    </tr>\n",
       "    <tr>\n",
       "      <th>21</th>\n",
       "      <td>Laeken</td>\n",
       "      <td>1020</td>\n",
       "    </tr>\n",
       "    <tr>\n",
       "      <th>22</th>\n",
       "      <td>Neder-Over-Heembeek</td>\n",
       "      <td>1120</td>\n",
       "    </tr>\n",
       "    <tr>\n",
       "      <th>23</th>\n",
       "      <td>Haren</td>\n",
       "      <td>1130</td>\n",
       "    </tr>\n",
       "  </tbody>\n",
       "</table>\n",
       "</div>"
      ],
      "text/plain": [
       "                                              Commune  \\\n",
       "0                                          Anderlecht   \n",
       "1                                           Auderghem   \n",
       "2                               Berchem-Sainte-Agathe   \n",
       "3   Ville de Bruxelles : Bruxelles Laeken Neder-Ov...   \n",
       "4                                           Etterbeek   \n",
       "5                                               Evere   \n",
       "6                                              Forest   \n",
       "7                                           Ganshoren   \n",
       "8                                             Ixelles   \n",
       "9                                               Jette   \n",
       "10                                         Koekelberg   \n",
       "11                               Molenbeek-Saint-Jean   \n",
       "12                                       Saint-Gilles   \n",
       "13                              Saint-Josse-ten-Noode   \n",
       "14                                         Schaerbeek   \n",
       "15                                              Uccle   \n",
       "16                                Watermael-Boitsfort   \n",
       "17                               Woluwe-Saint-Lambert   \n",
       "18                                Woluwe-Saint-Pierre   \n",
       "19                                             Totaux   \n",
       "20                                          Bruxelles   \n",
       "21                                             Laeken   \n",
       "22                                Neder-Over-Heembeek   \n",
       "23                                              Haren   \n",
       "\n",
       "                                    Code postal  \n",
       "0                                          1070  \n",
       "1                                          1160  \n",
       "2                                          1082  \n",
       "3   Plusieurs : 1000, 1040, 1050 1020 1120 1130  \n",
       "4                                          1040  \n",
       "5                                          1140  \n",
       "6                                          1190  \n",
       "7                                          1083  \n",
       "8                                          1050  \n",
       "9                                          1090  \n",
       "10                                         1081  \n",
       "11                                         1080  \n",
       "12                                         1060  \n",
       "13                                         1210  \n",
       "14                                         1030  \n",
       "15                                         1180  \n",
       "16                                         1170  \n",
       "17                                         1200  \n",
       "18                                         1150  \n",
       "19                                          NaN  \n",
       "20                                         1000  \n",
       "21                                         1020  \n",
       "22                                         1120  \n",
       "23                                         1130  "
      ]
     },
     "execution_count": 14,
     "metadata": {},
     "output_type": "execute_result"
    }
   ],
   "source": [
    "full_df = brussels_list.append(brussels_city_df, ignore_index=True)\n",
    "\n",
    "full_df"
   ]
  },
  {
   "cell_type": "markdown",
   "metadata": {},
   "source": [
    "We can see that this Dataframe still includes the 'faulty' row. Furthermore, it includes a Total row that has a *NaN* value. Therefore, let's drop these two rows."
   ]
  },
  {
   "cell_type": "code",
   "execution_count": 15,
   "metadata": {},
   "outputs": [],
   "source": [
    "full_df.drop([3, 19], inplace=True)"
   ]
  },
  {
   "cell_type": "markdown",
   "metadata": {},
   "source": [
    "Lastly, let's sort the DataFrame by increasing number of postal code."
   ]
  },
  {
   "cell_type": "code",
   "execution_count": 16,
   "metadata": {},
   "outputs": [
    {
     "data": {
      "text/html": [
       "<div>\n",
       "<style scoped>\n",
       "    .dataframe tbody tr th:only-of-type {\n",
       "        vertical-align: middle;\n",
       "    }\n",
       "\n",
       "    .dataframe tbody tr th {\n",
       "        vertical-align: top;\n",
       "    }\n",
       "\n",
       "    .dataframe thead th {\n",
       "        text-align: right;\n",
       "    }\n",
       "</style>\n",
       "<table border=\"1\" class=\"dataframe\">\n",
       "  <thead>\n",
       "    <tr style=\"text-align: right;\">\n",
       "      <th></th>\n",
       "      <th>Commune</th>\n",
       "      <th>Code postal</th>\n",
       "    </tr>\n",
       "  </thead>\n",
       "  <tbody>\n",
       "    <tr>\n",
       "      <th>0</th>\n",
       "      <td>Bruxelles</td>\n",
       "      <td>1000</td>\n",
       "    </tr>\n",
       "    <tr>\n",
       "      <th>1</th>\n",
       "      <td>Laeken</td>\n",
       "      <td>1020</td>\n",
       "    </tr>\n",
       "    <tr>\n",
       "      <th>2</th>\n",
       "      <td>Schaerbeek</td>\n",
       "      <td>1030</td>\n",
       "    </tr>\n",
       "    <tr>\n",
       "      <th>3</th>\n",
       "      <td>Etterbeek</td>\n",
       "      <td>1040</td>\n",
       "    </tr>\n",
       "    <tr>\n",
       "      <th>4</th>\n",
       "      <td>Ixelles</td>\n",
       "      <td>1050</td>\n",
       "    </tr>\n",
       "    <tr>\n",
       "      <th>5</th>\n",
       "      <td>Saint-Gilles</td>\n",
       "      <td>1060</td>\n",
       "    </tr>\n",
       "    <tr>\n",
       "      <th>6</th>\n",
       "      <td>Anderlecht</td>\n",
       "      <td>1070</td>\n",
       "    </tr>\n",
       "    <tr>\n",
       "      <th>7</th>\n",
       "      <td>Molenbeek-Saint-Jean</td>\n",
       "      <td>1080</td>\n",
       "    </tr>\n",
       "    <tr>\n",
       "      <th>8</th>\n",
       "      <td>Koekelberg</td>\n",
       "      <td>1081</td>\n",
       "    </tr>\n",
       "    <tr>\n",
       "      <th>9</th>\n",
       "      <td>Berchem-Sainte-Agathe</td>\n",
       "      <td>1082</td>\n",
       "    </tr>\n",
       "    <tr>\n",
       "      <th>10</th>\n",
       "      <td>Ganshoren</td>\n",
       "      <td>1083</td>\n",
       "    </tr>\n",
       "    <tr>\n",
       "      <th>11</th>\n",
       "      <td>Jette</td>\n",
       "      <td>1090</td>\n",
       "    </tr>\n",
       "    <tr>\n",
       "      <th>12</th>\n",
       "      <td>Neder-Over-Heembeek</td>\n",
       "      <td>1120</td>\n",
       "    </tr>\n",
       "    <tr>\n",
       "      <th>13</th>\n",
       "      <td>Haren</td>\n",
       "      <td>1130</td>\n",
       "    </tr>\n",
       "    <tr>\n",
       "      <th>14</th>\n",
       "      <td>Evere</td>\n",
       "      <td>1140</td>\n",
       "    </tr>\n",
       "    <tr>\n",
       "      <th>15</th>\n",
       "      <td>Woluwe-Saint-Pierre</td>\n",
       "      <td>1150</td>\n",
       "    </tr>\n",
       "    <tr>\n",
       "      <th>16</th>\n",
       "      <td>Auderghem</td>\n",
       "      <td>1160</td>\n",
       "    </tr>\n",
       "    <tr>\n",
       "      <th>17</th>\n",
       "      <td>Watermael-Boitsfort</td>\n",
       "      <td>1170</td>\n",
       "    </tr>\n",
       "    <tr>\n",
       "      <th>18</th>\n",
       "      <td>Uccle</td>\n",
       "      <td>1180</td>\n",
       "    </tr>\n",
       "    <tr>\n",
       "      <th>19</th>\n",
       "      <td>Forest</td>\n",
       "      <td>1190</td>\n",
       "    </tr>\n",
       "    <tr>\n",
       "      <th>20</th>\n",
       "      <td>Woluwe-Saint-Lambert</td>\n",
       "      <td>1200</td>\n",
       "    </tr>\n",
       "    <tr>\n",
       "      <th>21</th>\n",
       "      <td>Saint-Josse-ten-Noode</td>\n",
       "      <td>1210</td>\n",
       "    </tr>\n",
       "  </tbody>\n",
       "</table>\n",
       "</div>"
      ],
      "text/plain": [
       "                  Commune Code postal\n",
       "0               Bruxelles        1000\n",
       "1                  Laeken        1020\n",
       "2              Schaerbeek        1030\n",
       "3               Etterbeek        1040\n",
       "4                 Ixelles        1050\n",
       "5            Saint-Gilles        1060\n",
       "6              Anderlecht        1070\n",
       "7    Molenbeek-Saint-Jean        1080\n",
       "8              Koekelberg        1081\n",
       "9   Berchem-Sainte-Agathe        1082\n",
       "10              Ganshoren        1083\n",
       "11                  Jette        1090\n",
       "12    Neder-Over-Heembeek        1120\n",
       "13                  Haren        1130\n",
       "14                  Evere        1140\n",
       "15    Woluwe-Saint-Pierre        1150\n",
       "16              Auderghem        1160\n",
       "17    Watermael-Boitsfort        1170\n",
       "18                  Uccle        1180\n",
       "19                 Forest        1190\n",
       "20   Woluwe-Saint-Lambert        1200\n",
       "21  Saint-Josse-ten-Noode        1210"
      ]
     },
     "execution_count": 16,
     "metadata": {},
     "output_type": "execute_result"
    }
   ],
   "source": [
    "full_df.sort_values(by=['Code postal'], ignore_index=True)"
   ]
  },
  {
   "cell_type": "code",
   "execution_count": 17,
   "metadata": {},
   "outputs": [
    {
     "data": {
      "text/plain": [
       "(22, 2)"
      ]
     },
     "execution_count": 17,
     "metadata": {},
     "output_type": "execute_result"
    }
   ],
   "source": [
    "full_df.shape"
   ]
  },
  {
   "cell_type": "markdown",
   "metadata": {},
   "source": [
    "We see that the DataFrame now includes 21 postal codes, which corresponds to the 19 municipalities of Brussels plus the two added sub-regions of the Brussels municipality."
   ]
  },
  {
   "cell_type": "markdown",
   "metadata": {},
   "source": [
    "## 2.2 Adding the Latitude and Longitude data to the municipalities.\n",
    "\n",
    "In this section we will explore how to add the Latitude and Longitude coordinates to the municipalities using the postal codes as an index. \n",
    "\n",
    "The CSV used is openly accessible from the Open Data Wallonie-Bruxelles platform. [Link](https://www.odwb.be/explore/dataset/code-postaux-belge/information/)\n",
    "\n",
    "As this CSV uses a semicolon to seperate the data we will have to specify this when reading the CSV into a DataFrame."
   ]
  },
  {
   "cell_type": "code",
   "execution_count": 18,
   "metadata": {},
   "outputs": [
    {
     "data": {
      "text/html": [
       "<div>\n",
       "<style scoped>\n",
       "    .dataframe tbody tr th:only-of-type {\n",
       "        vertical-align: middle;\n",
       "    }\n",
       "\n",
       "    .dataframe tbody tr th {\n",
       "        vertical-align: top;\n",
       "    }\n",
       "\n",
       "    .dataframe thead th {\n",
       "        text-align: right;\n",
       "    }\n",
       "</style>\n",
       "<table border=\"1\" class=\"dataframe\">\n",
       "  <thead>\n",
       "    <tr style=\"text-align: right;\">\n",
       "      <th></th>\n",
       "      <th>Code</th>\n",
       "      <th>Localite</th>\n",
       "      <th>Longitude</th>\n",
       "      <th>Latitude</th>\n",
       "      <th>Coordonnees</th>\n",
       "      <th>Geom</th>\n",
       "    </tr>\n",
       "  </thead>\n",
       "  <tbody>\n",
       "    <tr>\n",
       "      <th>0</th>\n",
       "      <td>1050</td>\n",
       "      <td>Ixelles</td>\n",
       "      <td>4.381571</td>\n",
       "      <td>50.822285</td>\n",
       "      <td>50.8222854,4.3815707</td>\n",
       "      <td>NaN</td>\n",
       "    </tr>\n",
       "    <tr>\n",
       "      <th>1</th>\n",
       "      <td>1081</td>\n",
       "      <td>Koekelberg</td>\n",
       "      <td>4.325708</td>\n",
       "      <td>50.862263</td>\n",
       "      <td>50.8622633,4.3257084</td>\n",
       "      <td>NaN</td>\n",
       "    </tr>\n",
       "    <tr>\n",
       "      <th>2</th>\n",
       "      <td>1130</td>\n",
       "      <td>Haren</td>\n",
       "      <td>4.412571</td>\n",
       "      <td>50.891966</td>\n",
       "      <td>50.8919661,4.41257087324</td>\n",
       "      <td>NaN</td>\n",
       "    </tr>\n",
       "    <tr>\n",
       "      <th>3</th>\n",
       "      <td>1150</td>\n",
       "      <td>Woluwe-Saint-Pierre</td>\n",
       "      <td>4.443297</td>\n",
       "      <td>50.829243</td>\n",
       "      <td>50.8292429,4.4432967</td>\n",
       "      <td>NaN</td>\n",
       "    </tr>\n",
       "    <tr>\n",
       "      <th>4</th>\n",
       "      <td>1315</td>\n",
       "      <td>Incourt</td>\n",
       "      <td>4.798944</td>\n",
       "      <td>50.691800</td>\n",
       "      <td>50.6918004,4.798944</td>\n",
       "      <td>NaN</td>\n",
       "    </tr>\n",
       "  </tbody>\n",
       "</table>\n",
       "</div>"
      ],
      "text/plain": [
       "   Code             Localite  Longitude   Latitude               Coordonnees  \\\n",
       "0  1050              Ixelles   4.381571  50.822285      50.8222854,4.3815707   \n",
       "1  1081           Koekelberg   4.325708  50.862263      50.8622633,4.3257084   \n",
       "2  1130                Haren   4.412571  50.891966  50.8919661,4.41257087324   \n",
       "3  1150  Woluwe-Saint-Pierre   4.443297  50.829243      50.8292429,4.4432967   \n",
       "4  1315              Incourt   4.798944  50.691800       50.6918004,4.798944   \n",
       "\n",
       "   Geom  \n",
       "0   NaN  \n",
       "1   NaN  \n",
       "2   NaN  \n",
       "3   NaN  \n",
       "4   NaN  "
      ]
     },
     "execution_count": 18,
     "metadata": {},
     "output_type": "execute_result"
    }
   ],
   "source": [
    "csv = 'https://www.odwb.be/explore/dataset/code-postaux-belge/download/?format=csv&timezone=Europe/Berlin&lang=fr&use_labels_for_header=true&csv_separator=%3B'\n",
    "\n",
    "lat_long = pd.read_csv(csv, sep=';')\n",
    "\n",
    "lat_long.head()"
   ]
  },
  {
   "cell_type": "markdown",
   "metadata": {},
   "source": [
    "Like before, we don't need all the columns present in the CSV. The columns that interest us are the Longitude and Latitude. Furthermore, we will need one column to act as a key when we will merge the two DataFrame together. As the postal code is unique the 'Code' column will also have to be kept."
   ]
  },
  {
   "cell_type": "code",
   "execution_count": 19,
   "metadata": {},
   "outputs": [],
   "source": [
    "lat_long = lat_long[['Code', 'Latitude', 'Longitude']]"
   ]
  },
  {
   "cell_type": "markdown",
   "metadata": {},
   "source": [
    "Moreover, in order to use the postal code as an index we will have to rename the column to match the column of the postal code in our **brussels_df** DataFrame. "
   ]
  },
  {
   "cell_type": "code",
   "execution_count": 20,
   "metadata": {},
   "outputs": [],
   "source": [
    "lat_long.rename(columns = {'Code': 'Code postal'}, inplace = True)"
   ]
  },
  {
   "cell_type": "markdown",
   "metadata": {},
   "source": [
    "We are ready to merge the **full_df** DataFrame with the **lat_long** DataFrame on the common column 'Code postal'. \n",
    "This will add the latitude and longitude coordinate to each municipality identified previously."
   ]
  },
  {
   "cell_type": "code",
   "execution_count": 28,
   "metadata": {},
   "outputs": [
    {
     "ename": "ValueError",
     "evalue": "You are trying to merge on object and int64 columns. If you wish to proceed you should use pd.concat",
     "output_type": "error",
     "traceback": [
      "\u001b[1;31m---------------------------------------------------------------------------\u001b[0m",
      "\u001b[1;31mValueError\u001b[0m                                Traceback (most recent call last)",
      "\u001b[1;32m<ipython-input-28-ab29549eabc8>\u001b[0m in \u001b[0;36m<module>\u001b[1;34m\u001b[0m\n\u001b[1;32m----> 1\u001b[1;33m \u001b[0mbrussels_df\u001b[0m \u001b[1;33m=\u001b[0m \u001b[0mfull_df\u001b[0m\u001b[1;33m.\u001b[0m\u001b[0mmerge\u001b[0m\u001b[1;33m(\u001b[0m\u001b[0mlat_long\u001b[0m\u001b[1;33m,\u001b[0m\u001b[0mon\u001b[0m\u001b[1;33m=\u001b[0m\u001b[1;33m[\u001b[0m\u001b[1;34m'Code postal'\u001b[0m\u001b[1;33m]\u001b[0m\u001b[1;33m)\u001b[0m\u001b[1;33m\u001b[0m\u001b[1;33m\u001b[0m\u001b[0m\n\u001b[0m",
      "\u001b[1;32m~\\anaconda3\\lib\\site-packages\\pandas\\core\\frame.py\u001b[0m in \u001b[0;36mmerge\u001b[1;34m(self, right, how, on, left_on, right_on, left_index, right_index, sort, suffixes, copy, indicator, validate)\u001b[0m\n\u001b[0;32m   7282\u001b[0m         \u001b[1;32mfrom\u001b[0m \u001b[0mpandas\u001b[0m\u001b[1;33m.\u001b[0m\u001b[0mcore\u001b[0m\u001b[1;33m.\u001b[0m\u001b[0mreshape\u001b[0m\u001b[1;33m.\u001b[0m\u001b[0mmerge\u001b[0m \u001b[1;32mimport\u001b[0m \u001b[0mmerge\u001b[0m\u001b[1;33m\u001b[0m\u001b[1;33m\u001b[0m\u001b[0m\n\u001b[0;32m   7283\u001b[0m \u001b[1;33m\u001b[0m\u001b[0m\n\u001b[1;32m-> 7284\u001b[1;33m         return merge(\n\u001b[0m\u001b[0;32m   7285\u001b[0m             \u001b[0mself\u001b[0m\u001b[1;33m,\u001b[0m\u001b[1;33m\u001b[0m\u001b[1;33m\u001b[0m\u001b[0m\n\u001b[0;32m   7286\u001b[0m             \u001b[0mright\u001b[0m\u001b[1;33m,\u001b[0m\u001b[1;33m\u001b[0m\u001b[1;33m\u001b[0m\u001b[0m\n",
      "\u001b[1;32m~\\anaconda3\\lib\\site-packages\\pandas\\core\\reshape\\merge.py\u001b[0m in \u001b[0;36mmerge\u001b[1;34m(left, right, how, on, left_on, right_on, left_index, right_index, sort, suffixes, copy, indicator, validate)\u001b[0m\n\u001b[0;32m     71\u001b[0m     \u001b[0mvalidate\u001b[0m\u001b[1;33m=\u001b[0m\u001b[1;32mNone\u001b[0m\u001b[1;33m,\u001b[0m\u001b[1;33m\u001b[0m\u001b[1;33m\u001b[0m\u001b[0m\n\u001b[0;32m     72\u001b[0m ) -> \"DataFrame\":\n\u001b[1;32m---> 73\u001b[1;33m     op = _MergeOperation(\n\u001b[0m\u001b[0;32m     74\u001b[0m         \u001b[0mleft\u001b[0m\u001b[1;33m,\u001b[0m\u001b[1;33m\u001b[0m\u001b[1;33m\u001b[0m\u001b[0m\n\u001b[0;32m     75\u001b[0m         \u001b[0mright\u001b[0m\u001b[1;33m,\u001b[0m\u001b[1;33m\u001b[0m\u001b[1;33m\u001b[0m\u001b[0m\n",
      "\u001b[1;32m~\\anaconda3\\lib\\site-packages\\pandas\\core\\reshape\\merge.py\u001b[0m in \u001b[0;36m__init__\u001b[1;34m(self, left, right, how, on, left_on, right_on, axis, left_index, right_index, sort, suffixes, copy, indicator, validate)\u001b[0m\n\u001b[0;32m    629\u001b[0m         \u001b[1;31m# validate the merge keys dtypes. We may need to coerce\u001b[0m\u001b[1;33m\u001b[0m\u001b[1;33m\u001b[0m\u001b[1;33m\u001b[0m\u001b[0m\n\u001b[0;32m    630\u001b[0m         \u001b[1;31m# to avoid incompat dtypes\u001b[0m\u001b[1;33m\u001b[0m\u001b[1;33m\u001b[0m\u001b[1;33m\u001b[0m\u001b[0m\n\u001b[1;32m--> 631\u001b[1;33m         \u001b[0mself\u001b[0m\u001b[1;33m.\u001b[0m\u001b[0m_maybe_coerce_merge_keys\u001b[0m\u001b[1;33m(\u001b[0m\u001b[1;33m)\u001b[0m\u001b[1;33m\u001b[0m\u001b[1;33m\u001b[0m\u001b[0m\n\u001b[0m\u001b[0;32m    632\u001b[0m \u001b[1;33m\u001b[0m\u001b[0m\n\u001b[0;32m    633\u001b[0m         \u001b[1;31m# If argument passed to validate,\u001b[0m\u001b[1;33m\u001b[0m\u001b[1;33m\u001b[0m\u001b[1;33m\u001b[0m\u001b[0m\n",
      "\u001b[1;32m~\\anaconda3\\lib\\site-packages\\pandas\\core\\reshape\\merge.py\u001b[0m in \u001b[0;36m_maybe_coerce_merge_keys\u001b[1;34m(self)\u001b[0m\n\u001b[0;32m   1144\u001b[0m                     \u001b[0minferred_right\u001b[0m \u001b[1;32min\u001b[0m \u001b[0mstring_types\u001b[0m \u001b[1;32mand\u001b[0m \u001b[0minferred_left\u001b[0m \u001b[1;32mnot\u001b[0m \u001b[1;32min\u001b[0m \u001b[0mstring_types\u001b[0m\u001b[1;33m\u001b[0m\u001b[1;33m\u001b[0m\u001b[0m\n\u001b[0;32m   1145\u001b[0m                 ):\n\u001b[1;32m-> 1146\u001b[1;33m                     \u001b[1;32mraise\u001b[0m \u001b[0mValueError\u001b[0m\u001b[1;33m(\u001b[0m\u001b[0mmsg\u001b[0m\u001b[1;33m)\u001b[0m\u001b[1;33m\u001b[0m\u001b[1;33m\u001b[0m\u001b[0m\n\u001b[0m\u001b[0;32m   1147\u001b[0m \u001b[1;33m\u001b[0m\u001b[0m\n\u001b[0;32m   1148\u001b[0m             \u001b[1;31m# datetimelikes must match exactly\u001b[0m\u001b[1;33m\u001b[0m\u001b[1;33m\u001b[0m\u001b[1;33m\u001b[0m\u001b[0m\n",
      "\u001b[1;31mValueError\u001b[0m: You are trying to merge on object and int64 columns. If you wish to proceed you should use pd.concat"
     ]
    }
   ],
   "source": [
    "brussels_df = full_df.merge(lat_long,on=['Code postal'])"
   ]
  },
  {
   "cell_type": "markdown",
   "metadata": {},
   "source": [
    "The error message indicated that the columns in the two DataFrames 'Code postal' used as a unique key don't have the same datatype. Let's have a look at both DataFrames and identify the data types of each column."
   ]
  },
  {
   "cell_type": "code",
   "execution_count": 29,
   "metadata": {},
   "outputs": [
    {
     "data": {
      "text/plain": [
       "Commune        object\n",
       "Code postal    object\n",
       "dtype: object"
      ]
     },
     "execution_count": 29,
     "metadata": {},
     "output_type": "execute_result"
    }
   ],
   "source": [
    "full_df.dtypes"
   ]
  },
  {
   "cell_type": "markdown",
   "metadata": {},
   "source": [
    "We can see that the two columns of the **full_df** DataFrame have the data type object. This is correct for the 'Commune' columns as we are speaking about the names of the municipalities. However, the 'Code postal' column should not have the object datatype but a numeric data type.  \n",
    "\n",
    "Now let's look at the data types of the **lat_long** DataFrame."
   ]
  },
  {
   "cell_type": "code",
   "execution_count": 30,
   "metadata": {},
   "outputs": [
    {
     "data": {
      "text/plain": [
       "Code postal      int64\n",
       "Latitude       float64\n",
       "Longitude      float64\n",
       "dtype: object"
      ]
     },
     "execution_count": 30,
     "metadata": {},
     "output_type": "execute_result"
    }
   ],
   "source": [
    "lat_long.dtypes"
   ]
  },
  {
   "cell_type": "markdown",
   "metadata": {},
   "source": [
    "We see that the column 'Code postal' of the **lat_long** DataFrame has the data type *int64*. Therefore, let's convert the 'Code postal' of the **full_df** DataFrame to int64.  \n",
    "That way can then finally merge both DataFrames. "
   ]
  },
  {
   "cell_type": "code",
   "execution_count": 44,
   "metadata": {},
   "outputs": [],
   "source": [
    "full_df = full_df.astype({'Code postal':'int64'})"
   ]
  },
  {
   "cell_type": "markdown",
   "metadata": {},
   "source": [
    "Let's verify if the data type has been well converted."
   ]
  },
  {
   "cell_type": "code",
   "execution_count": 37,
   "metadata": {},
   "outputs": [
    {
     "data": {
      "text/plain": [
       "Commune        object\n",
       "Code postal     int64\n",
       "dtype: object"
      ]
     },
     "execution_count": 37,
     "metadata": {},
     "output_type": "execute_result"
    }
   ],
   "source": [
    "full_df.dtypes"
   ]
  },
  {
   "cell_type": "markdown",
   "metadata": {},
   "source": [
    "We can see now that the 'Code postal' column in both DataFrames have the same data type and can be safely merged on this column."
   ]
  },
  {
   "cell_type": "code",
   "execution_count": 38,
   "metadata": {},
   "outputs": [],
   "source": [
    "brussels_df = full_df.merge(lat_long,on=['Code postal'])"
   ]
  },
  {
   "cell_type": "code",
   "execution_count": 40,
   "metadata": {},
   "outputs": [
    {
     "data": {
      "text/html": [
       "<div>\n",
       "<style scoped>\n",
       "    .dataframe tbody tr th:only-of-type {\n",
       "        vertical-align: middle;\n",
       "    }\n",
       "\n",
       "    .dataframe tbody tr th {\n",
       "        vertical-align: top;\n",
       "    }\n",
       "\n",
       "    .dataframe thead th {\n",
       "        text-align: right;\n",
       "    }\n",
       "</style>\n",
       "<table border=\"1\" class=\"dataframe\">\n",
       "  <thead>\n",
       "    <tr style=\"text-align: right;\">\n",
       "      <th></th>\n",
       "      <th>Commune</th>\n",
       "      <th>Code postal</th>\n",
       "      <th>Latitude</th>\n",
       "      <th>Longitude</th>\n",
       "    </tr>\n",
       "  </thead>\n",
       "  <tbody>\n",
       "    <tr>\n",
       "      <th>0</th>\n",
       "      <td>Anderlecht</td>\n",
       "      <td>1070</td>\n",
       "      <td>50.838141</td>\n",
       "      <td>4.312340</td>\n",
       "    </tr>\n",
       "    <tr>\n",
       "      <th>1</th>\n",
       "      <td>Auderghem</td>\n",
       "      <td>1160</td>\n",
       "      <td>50.815657</td>\n",
       "      <td>4.433139</td>\n",
       "    </tr>\n",
       "    <tr>\n",
       "      <th>2</th>\n",
       "      <td>Berchem-Sainte-Agathe</td>\n",
       "      <td>1082</td>\n",
       "      <td>50.863984</td>\n",
       "      <td>4.292702</td>\n",
       "    </tr>\n",
       "    <tr>\n",
       "      <th>3</th>\n",
       "      <td>Etterbeek</td>\n",
       "      <td>1040</td>\n",
       "      <td>50.836851</td>\n",
       "      <td>4.389510</td>\n",
       "    </tr>\n",
       "    <tr>\n",
       "      <th>4</th>\n",
       "      <td>Evere</td>\n",
       "      <td>1140</td>\n",
       "      <td>50.870452</td>\n",
       "      <td>4.402160</td>\n",
       "    </tr>\n",
       "    <tr>\n",
       "      <th>5</th>\n",
       "      <td>Forest</td>\n",
       "      <td>1190</td>\n",
       "      <td>50.809143</td>\n",
       "      <td>4.317751</td>\n",
       "    </tr>\n",
       "    <tr>\n",
       "      <th>6</th>\n",
       "      <td>Ganshoren</td>\n",
       "      <td>1083</td>\n",
       "      <td>50.871240</td>\n",
       "      <td>4.317510</td>\n",
       "    </tr>\n",
       "    <tr>\n",
       "      <th>7</th>\n",
       "      <td>Ixelles</td>\n",
       "      <td>1050</td>\n",
       "      <td>50.822285</td>\n",
       "      <td>4.381571</td>\n",
       "    </tr>\n",
       "    <tr>\n",
       "      <th>8</th>\n",
       "      <td>Jette</td>\n",
       "      <td>1090</td>\n",
       "      <td>50.877763</td>\n",
       "      <td>4.326090</td>\n",
       "    </tr>\n",
       "    <tr>\n",
       "      <th>9</th>\n",
       "      <td>Koekelberg</td>\n",
       "      <td>1081</td>\n",
       "      <td>50.862263</td>\n",
       "      <td>4.325708</td>\n",
       "    </tr>\n",
       "    <tr>\n",
       "      <th>10</th>\n",
       "      <td>Molenbeek-Saint-Jean</td>\n",
       "      <td>1080</td>\n",
       "      <td>50.854355</td>\n",
       "      <td>4.322778</td>\n",
       "    </tr>\n",
       "    <tr>\n",
       "      <th>11</th>\n",
       "      <td>Saint-Gilles</td>\n",
       "      <td>1060</td>\n",
       "      <td>50.826741</td>\n",
       "      <td>4.345668</td>\n",
       "    </tr>\n",
       "    <tr>\n",
       "      <th>12</th>\n",
       "      <td>Saint-Josse-ten-Noode</td>\n",
       "      <td>1210</td>\n",
       "      <td>50.853074</td>\n",
       "      <td>4.372336</td>\n",
       "    </tr>\n",
       "    <tr>\n",
       "      <th>13</th>\n",
       "      <td>Schaerbeek</td>\n",
       "      <td>1030</td>\n",
       "      <td>50.867604</td>\n",
       "      <td>4.373712</td>\n",
       "    </tr>\n",
       "    <tr>\n",
       "      <th>14</th>\n",
       "      <td>Uccle</td>\n",
       "      <td>1180</td>\n",
       "      <td>50.801820</td>\n",
       "      <td>4.337235</td>\n",
       "    </tr>\n",
       "    <tr>\n",
       "      <th>15</th>\n",
       "      <td>Watermael-Boitsfort</td>\n",
       "      <td>1170</td>\n",
       "      <td>50.799394</td>\n",
       "      <td>4.415818</td>\n",
       "    </tr>\n",
       "    <tr>\n",
       "      <th>16</th>\n",
       "      <td>Woluwe-Saint-Lambert</td>\n",
       "      <td>1200</td>\n",
       "      <td>50.846693</td>\n",
       "      <td>4.428484</td>\n",
       "    </tr>\n",
       "    <tr>\n",
       "      <th>17</th>\n",
       "      <td>Woluwe-Saint-Pierre</td>\n",
       "      <td>1150</td>\n",
       "      <td>50.829243</td>\n",
       "      <td>4.443297</td>\n",
       "    </tr>\n",
       "    <tr>\n",
       "      <th>18</th>\n",
       "      <td>Bruxelles</td>\n",
       "      <td>1000</td>\n",
       "      <td>50.846557</td>\n",
       "      <td>4.351697</td>\n",
       "    </tr>\n",
       "    <tr>\n",
       "      <th>19</th>\n",
       "      <td>Laeken</td>\n",
       "      <td>1020</td>\n",
       "      <td>50.883392</td>\n",
       "      <td>4.348713</td>\n",
       "    </tr>\n",
       "    <tr>\n",
       "      <th>20</th>\n",
       "      <td>Neder-Over-Heembeek</td>\n",
       "      <td>1120</td>\n",
       "      <td>50.897796</td>\n",
       "      <td>4.390489</td>\n",
       "    </tr>\n",
       "    <tr>\n",
       "      <th>21</th>\n",
       "      <td>Haren</td>\n",
       "      <td>1130</td>\n",
       "      <td>50.891966</td>\n",
       "      <td>4.412571</td>\n",
       "    </tr>\n",
       "  </tbody>\n",
       "</table>\n",
       "</div>"
      ],
      "text/plain": [
       "                  Commune  Code postal   Latitude  Longitude\n",
       "0              Anderlecht         1070  50.838141   4.312340\n",
       "1               Auderghem         1160  50.815657   4.433139\n",
       "2   Berchem-Sainte-Agathe         1082  50.863984   4.292702\n",
       "3               Etterbeek         1040  50.836851   4.389510\n",
       "4                   Evere         1140  50.870452   4.402160\n",
       "5                  Forest         1190  50.809143   4.317751\n",
       "6               Ganshoren         1083  50.871240   4.317510\n",
       "7                 Ixelles         1050  50.822285   4.381571\n",
       "8                   Jette         1090  50.877763   4.326090\n",
       "9              Koekelberg         1081  50.862263   4.325708\n",
       "10   Molenbeek-Saint-Jean         1080  50.854355   4.322778\n",
       "11           Saint-Gilles         1060  50.826741   4.345668\n",
       "12  Saint-Josse-ten-Noode         1210  50.853074   4.372336\n",
       "13             Schaerbeek         1030  50.867604   4.373712\n",
       "14                  Uccle         1180  50.801820   4.337235\n",
       "15    Watermael-Boitsfort         1170  50.799394   4.415818\n",
       "16   Woluwe-Saint-Lambert         1200  50.846693   4.428484\n",
       "17    Woluwe-Saint-Pierre         1150  50.829243   4.443297\n",
       "18              Bruxelles         1000  50.846557   4.351697\n",
       "19                 Laeken         1020  50.883392   4.348713\n",
       "20    Neder-Over-Heembeek         1120  50.897796   4.390489\n",
       "21                  Haren         1130  50.891966   4.412571"
      ]
     },
     "execution_count": 40,
     "metadata": {},
     "output_type": "execute_result"
    }
   ],
   "source": [
    "brussels_df"
   ]
  },
  {
   "cell_type": "markdown",
   "metadata": {},
   "source": [
    "The brussels_df DataFrame now includes the names of the municipalities, their corresponding postal code, and their latitude and longitude coordinates. This DataFrame can then be used to identify the municipalities on a map."
   ]
  },
  {
   "cell_type": "markdown",
   "metadata": {},
   "source": [
    "## 2.3 Visualization of the municipalities\n",
    "\n",
    "In this section we will visualize the identified municipalities on a Map of Brussels.  \n",
    "\n",
    "First lets install and import the need packages and modules."
   ]
  },
  {
   "cell_type": "code",
   "execution_count": 41,
   "metadata": {},
   "outputs": [
    {
     "name": "stdout",
     "output_type": "stream",
     "text": [
      "packages installed and imported\n"
     ]
    }
   ],
   "source": [
    "import folium #package used to visualize a map\n",
    "\n",
    "from geopy.geocoders import Nominatim # convert an address into latitude and longitude values\n",
    "\n",
    "# Matplotlib and associated plotting modules\n",
    "import matplotlib.cm as cm\n",
    "import matplotlib.colors as colors\n",
    "\n",
    "# import k-means from clustering stage\n",
    "from sklearn.cluster import KMeans\n",
    "\n",
    "import numpy as np # library to handle data in a vectorized manner\n",
    "\n",
    "print('packages installed and imported')\n",
    "\n",
    "import json"
   ]
  },
  {
   "cell_type": "markdown",
   "metadata": {},
   "source": [
    "Let's use the Nominatim geolocator to find out the latitude and longitude of Brussels. "
   ]
  },
  {
   "cell_type": "code",
   "execution_count": 42,
   "metadata": {},
   "outputs": [
    {
     "name": "stdout",
     "output_type": "stream",
     "text": [
      "The geograpical coordinate of Brussels are: 50.8465573, 4.351697.\n"
     ]
    }
   ],
   "source": [
    "address = 'Brussels'\n",
    "\n",
    "geolocator = Nominatim(user_agent=\"br_explorer\")\n",
    "location = geolocator.geocode(address)\n",
    "latitude = location.latitude\n",
    "longitude = location.longitude\n",
    "print('The geograpical coordinate of Brussels are: {}, {}.'.format(latitude, longitude))"
   ]
  },
  {
   "cell_type": "markdown",
   "metadata": {},
   "source": [
    "We'll use Brussels latitude and longtiude to center the Folium map and add markers to the identified municipalities on the map. "
   ]
  },
  {
   "cell_type": "code",
   "execution_count": 43,
   "metadata": {},
   "outputs": [
    {
     "data": {
      "text/html": [
       "<div style=\"width:100%;\"><div style=\"position:relative;width:100%;height:0;padding-bottom:60%;\"><span style=\"color:#565656\">Make this Notebook Trusted to load map: File -> Trust Notebook</span><iframe src=\"about:blank\" style=\"position:absolute;width:100%;height:100%;left:0;top:0;border:none !important;\" data-html=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 onload=\"this.contentDocument.open();this.contentDocument.write(atob(this.getAttribute('data-html')));this.contentDocument.close();\" allowfullscreen webkitallowfullscreen mozallowfullscreen></iframe></div></div>"
      ],
      "text/plain": [
       "<folium.folium.Map at 0x1b1b9ef27c0>"
      ]
     },
     "execution_count": 43,
     "metadata": {},
     "output_type": "execute_result"
    }
   ],
   "source": [
    "map_brussels = folium.Map(location=[latitude, longitude], zoom_start=10)\n",
    "\n",
    "# add markers to map\n",
    "for lat, lng, municipality in zip(brussels_df['Latitude'], brussels_df['Longitude'], brussels_df['Commune']):\n",
    "    label = '{}'.format(municipality)\n",
    "    label = folium.Popup(label, parse_html=True)\n",
    "    folium.CircleMarker(\n",
    "        [lat, lng],\n",
    "        radius=5,\n",
    "        popup=label,\n",
    "        color='blue',\n",
    "        fill=True,\n",
    "        fill_color='#3186cc',\n",
    "        fill_opacity=0.7,\n",
    "        parse_html=False).add_to(map_brussels)  \n",
    "    \n",
    "map_brussels"
   ]
  },
  {
   "cell_type": "markdown",
   "metadata": {},
   "source": [
    "## 3. Methodology \n",
    "\n",
    "This section will use the Foursquare API to identify the different types of venues present in the different municipalities. Calculating the frequency of appearance of the different types of venues by municipalities will in turn be used to cluster the municipalities in similar municipalities.  \n",
    "From there we wil analyze the different clusters in order to identify the clusters that respond the best to the criteria's given by the young couple. "
   ]
  },
  {
   "cell_type": "code",
   "execution_count": null,
   "metadata": {},
   "outputs": [],
   "source": []
  }
 ],
 "metadata": {
  "kernelspec": {
   "display_name": "Python 3",
   "language": "python",
   "name": "python3"
  },
  "language_info": {
   "codemirror_mode": {
    "name": "ipython",
    "version": 3
   },
   "file_extension": ".py",
   "mimetype": "text/x-python",
   "name": "python",
   "nbconvert_exporter": "python",
   "pygments_lexer": "ipython3",
   "version": "3.8.3"
  }
 },
 "nbformat": 4,
 "nbformat_minor": 4
}
