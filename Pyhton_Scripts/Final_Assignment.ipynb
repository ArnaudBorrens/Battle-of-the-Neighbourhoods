{
 "cells": [
  {
   "cell_type": "markdown",
   "metadata": {},
   "source": [
    "# The Battle of Neighborhoods - Final Assignment\n",
    "\n",
    "In this Final Assignment we will examine the Neighborhoods of Brussels in order to identify the best Neighborhoods for a young couple that recently moved to the Belgian capital. The Real Estate company recently added a additional service that offers their clients a tailored service including a detailed report on the best Neighborhoods based on the preferences of the client.  \n",
    "\n",
    "### Table of Content\n",
    "\n",
    "* [1. Introduction: Business Problem](#Introduction)\n",
    "* [2. Data](#Data)\n",
    "    * [2.1 Scrapping and Cleaning](#Scrapping_and_Cleaning)\n",
    "    * [2.2 Latitude and Longitude Data](#Latitude_and_Longitude)\n",
    "    * [2.3 Visualize the map](#Visualize_Map)\n",
    "    * [2.4 List of venues](#Foursquare_venues)\n",
    "* [3. Methodology](#Methodology)"
   ]
  },
  {
   "cell_type": "markdown",
   "metadata": {},
   "source": [
    "## 1. Introduction: Business Problem <a class=\"anchor\" id=\"Introduction\"></a>\n",
    "\n",
    "A young couple recently moved to the Belgian capital for work and are wondering which of the Neighborhoods of Brussels will be the best to live in. Their interests include:  \n",
    "1. The outdoors\n",
    "2. Italian Restaurants\n",
    "3. Cultural activities\n",
    "\n",
    "They just saw an advertisment for a tailored service from a Real Estate company that will help them identify the top 3 Neighborhoods to choose based on their interests. Therefore, they contacted this Real Estate company and transmitted their interests.  \n",
    "The young couple both are in their 30s and work full-time and don't know Brussels at all. As they will have to move in the next weeks to the Belgian capital they will need to find a new appartment quickly. \n",
    "The Real Estate company told them that they could find them an appartment in two weeks. The first week would be dedicated in coming up with the top 3 Neighbourhoods tailored to the couple and the second week would be used to find appartments in these Neighbourhoods.\n",
    "\n",
    "The young couple are quite excited in seeing the analysis of the Real Estate and are curious what kind of Neighborhoods the Real Estate company will come up with. As they don't have any aquaintance in the city they depend 100% from the Real Estate company.\n",
    "\n",
    "The Real Estate company analyzes their interests and determines that the best way to come up with the best Neighborhoods they will need the coordinates of Brussels and combine this with the Foursquare location data. "
   ]
  },
  {
   "cell_type": "markdown",
   "metadata": {},
   "source": [
    "## 2. Data <a class=\"anchor\" id=\"Data\"></a>\n",
    "\n",
    "In order to determine the best Neighborhoods for the young couple the Real Estate company first analyzes how Brussels is divided.  \n",
    "Brussels is the capital of Belgium and is divided in 19 municipalities, each whith a defined Postal Code.  \n",
    "The municipalities can also be divided in different Neighborhoods. However, the Real Estate company finds out that these smaller sections don't have very defined limits and no specific Postal Codes.\n",
    "\n",
    "Therefore, they decided to restrict their recommendation to one of the 19 municipalities of Brussels.  \n",
    "\n",
    "Furthermore regarding these findings the Real Estate company decides that the data they will need is:\n",
    "\n",
    "       - A list of each 19 municipalities of Brussels combined with their postal code and the geographic coordinates.\n",
    "       - Categories of the venues inside these 19 municipalities. "
   ]
  },
  {
   "cell_type": "markdown",
   "metadata": {},
   "source": [
    "1. *List of 19 municipalities*  \n",
    "For the list of each 19 municipalities of Brussels, the Real Estate company found a Wikipedia page that includes the 19 municipalities with their corresponding postal codes. They will scrap the Wikipedia page to extract the table.  \n",
    "However, they still need to get the latitude and longitude coordinates for each postal code. For this they found a CSV file from the Open Data platform of Wallonia and Brussels that gives the full list of each postal code in Belgium combined with its respective longitude and latitude data.  "
   ]
  },
  {
   "cell_type": "markdown",
   "metadata": {},
   "source": [
    "2. *Categories of venues*  \n",
    "In order to get a list of venues and their categories the Real Estate company decides to use the Foursquare API and create a venue list based on the geographic coordinates identified previously.  "
   ]
  },
  {
   "cell_type": "markdown",
   "metadata": {},
   "source": [
    "To find a list of the 19 Brussels Municipalities the Real Estate company found the Wikipedia page that has a table that lists the 19 municipalities with their corresponding Postal Codes."
   ]
  },
  {
   "cell_type": "markdown",
   "metadata": {},
   "source": [
    "### 2.1 Scrapping and Cleaning the Wikipedia page <a class=\"anchor\" id=\"Scrapping_and_Cleaning\"></a>\n",
    "\n",
    "To start the company scrapes the Wikipedia page that hosts the Table of the different 19 municipalities of Brussels.  \n",
    "\n",
    "The first step is to install and import the different modules we will need to scrape and clean the Table. For this operation we will need Pandas and Numpy."
   ]
  },
  {
   "cell_type": "code",
   "execution_count": 1,
   "metadata": {},
   "outputs": [],
   "source": [
    "import pandas as pd\n",
    "import numpy as np"
   ]
  },
  {
   "cell_type": "markdown",
   "metadata": {},
   "source": [
    "To scrape the Wikipedia page the company decides to use the Pandas read_html method that returns HTML tables into a list of DataFrame objects.  They prefer this method to the BeautifulSoup package as the pandas method is more straightforward for extracting table data from a HTML page.\n",
    "\n",
    "The URL of the Wikipedia page that contains the Table is: \"https://fr.wikipedia.org/wiki/R%C3%A9gion_de_Bruxelles-Capitale\""
   ]
  },
  {
   "cell_type": "code",
   "execution_count": 2,
   "metadata": {},
   "outputs": [
    {
     "data": {
      "text/plain": [
       "16"
      ]
     },
     "execution_count": 2,
     "metadata": {},
     "output_type": "execute_result"
    }
   ],
   "source": [
    "url = 'https://fr.wikipedia.org/wiki/R%C3%A9gion_de_Bruxelles-Capitale'\n",
    "\n",
    "df_list = pd.read_html(url)\n",
    "\n",
    "len(df_list)"
   ]
  },
  {
   "cell_type": "markdown",
   "metadata": {},
   "source": [
    "We can see that read_html identified 16 different HTML tables. From navigating to the Wikipedia page we can identify that the table we are interested in is the second HTML table present. Therefore, let's only look at the second DataFrame object."
   ]
  },
  {
   "cell_type": "code",
   "execution_count": 3,
   "metadata": {},
   "outputs": [
    {
     "data": {
      "text/html": [
       "<div>\n",
       "<style scoped>\n",
       "    .dataframe tbody tr th:only-of-type {\n",
       "        vertical-align: middle;\n",
       "    }\n",
       "\n",
       "    .dataframe tbody tr th {\n",
       "        vertical-align: top;\n",
       "    }\n",
       "\n",
       "    .dataframe thead th {\n",
       "        text-align: right;\n",
       "    }\n",
       "</style>\n",
       "<table border=\"1\" class=\"dataframe\">\n",
       "  <thead>\n",
       "    <tr style=\"text-align: right;\">\n",
       "      <th></th>\n",
       "      <th>Repèresur lacarte</th>\n",
       "      <th>Commune</th>\n",
       "      <th>Code postal</th>\n",
       "      <th>Superficie(en km2)</th>\n",
       "      <th>Population(au 1/1/2009)</th>\n",
       "      <th>Population(au 1/1/2010)</th>\n",
       "      <th>Population(au 1/1/2016)</th>\n",
       "      <th>Population(au 1/1/2019)[36]</th>\n",
       "      <th>Population(au 1/1/2020)[37]</th>\n",
       "      <th>Évolution 2010-2020</th>\n",
       "      <th>Δ%</th>\n",
       "    </tr>\n",
       "  </thead>\n",
       "  <tbody>\n",
       "    <tr>\n",
       "      <th>0</th>\n",
       "      <td>1.0</td>\n",
       "      <td>Anderlecht</td>\n",
       "      <td>1070</td>\n",
       "      <td>1774</td>\n",
       "      <td>101 371</td>\n",
       "      <td>104 647</td>\n",
       "      <td>116 494</td>\n",
       "      <td>118 920</td>\n",
       "      <td>120 009</td>\n",
       "      <td>+ 15 362</td>\n",
       "      <td>+ 14,68 %</td>\n",
       "    </tr>\n",
       "    <tr>\n",
       "      <th>1</th>\n",
       "      <td>2.0</td>\n",
       "      <td>Auderghem</td>\n",
       "      <td>1160</td>\n",
       "      <td>903</td>\n",
       "      <td>30 456</td>\n",
       "      <td>30 811</td>\n",
       "      <td>33 085</td>\n",
       "      <td>33 970</td>\n",
       "      <td>34 342</td>\n",
       "      <td>+ 3 531</td>\n",
       "      <td>+ 11,46 %</td>\n",
       "    </tr>\n",
       "    <tr>\n",
       "      <th>2</th>\n",
       "      <td>3.0</td>\n",
       "      <td>Berchem-Sainte-Agathe</td>\n",
       "      <td>1082</td>\n",
       "      <td>295</td>\n",
       "      <td>21 669</td>\n",
       "      <td>22 185</td>\n",
       "      <td>24 176</td>\n",
       "      <td>25 195</td>\n",
       "      <td>25 195</td>\n",
       "      <td>+ 3 010</td>\n",
       "      <td>+ 13,56 %</td>\n",
       "    </tr>\n",
       "    <tr>\n",
       "      <th>3</th>\n",
       "      <td>4.0</td>\n",
       "      <td>Ville de Bruxelles : Bruxelles Laeken Neder-Ov...</td>\n",
       "      <td>Plusieurs : 1000, 1040, 1050 1020 1120 1130</td>\n",
       "      <td>3261</td>\n",
       "      <td>153 377</td>\n",
       "      <td>157 673</td>\n",
       "      <td>176 512</td>\n",
       "      <td>179 797</td>\n",
       "      <td>183 287</td>\n",
       "      <td>+ 25 614</td>\n",
       "      <td>+ 16,24 %</td>\n",
       "    </tr>\n",
       "    <tr>\n",
       "      <th>4</th>\n",
       "      <td>5.0</td>\n",
       "      <td>Etterbeek</td>\n",
       "      <td>1040</td>\n",
       "      <td>315</td>\n",
       "      <td>43 512</td>\n",
       "      <td>44 352</td>\n",
       "      <td>47 023</td>\n",
       "      <td>48 008</td>\n",
       "      <td>48 194</td>\n",
       "      <td>+ 3 842</td>\n",
       "      <td>+ 8,66 %</td>\n",
       "    </tr>\n",
       "  </tbody>\n",
       "</table>\n",
       "</div>"
      ],
      "text/plain": [
       "   Repèresur lacarte                                            Commune  \\\n",
       "0                1.0                                         Anderlecht   \n",
       "1                2.0                                          Auderghem   \n",
       "2                3.0                              Berchem-Sainte-Agathe   \n",
       "3                4.0  Ville de Bruxelles : Bruxelles Laeken Neder-Ov...   \n",
       "4                5.0                                          Etterbeek   \n",
       "\n",
       "                                   Code postal  Superficie(en km2)  \\\n",
       "0                                         1070                1774   \n",
       "1                                         1160                 903   \n",
       "2                                         1082                 295   \n",
       "3  Plusieurs : 1000, 1040, 1050 1020 1120 1130                3261   \n",
       "4                                         1040                 315   \n",
       "\n",
       "  Population(au 1/1/2009) Population(au 1/1/2010) Population(au 1/1/2016)  \\\n",
       "0                 101 371                 104 647                 116 494   \n",
       "1                  30 456                  30 811                  33 085   \n",
       "2                  21 669                  22 185                  24 176   \n",
       "3                 153 377                 157 673                 176 512   \n",
       "4                  43 512                  44 352                  47 023   \n",
       "\n",
       "  Population(au 1/1/2019)[36] Population(au 1/1/2020)[37] Évolution 2010-2020  \\\n",
       "0                     118 920                     120 009            + 15 362   \n",
       "1                      33 970                      34 342             + 3 531   \n",
       "2                      25 195                      25 195             + 3 010   \n",
       "3                     179 797                     183 287            + 25 614   \n",
       "4                      48 008                      48 194             + 3 842   \n",
       "\n",
       "          Δ%  \n",
       "0  + 14,68 %  \n",
       "1  + 11,46 %  \n",
       "2  + 13,56 %  \n",
       "3  + 16,24 %  \n",
       "4   + 8,66 %  "
      ]
     },
     "execution_count": 3,
     "metadata": {},
     "output_type": "execute_result"
    }
   ],
   "source": [
    "brussels_list = df_list[1]\n",
    "\n",
    "brussels_list.head()"
   ]
  },
  {
   "cell_type": "markdown",
   "metadata": {},
   "source": [
    "From the above DataFrame we can see that the table includes a lot of information that we don't need for the moment. Let's only keep the relevant columns, \"Commune\" and \"Code postal\" which translates into \"municipalities\" and \"Postal Code\". "
   ]
  },
  {
   "cell_type": "code",
   "execution_count": 4,
   "metadata": {},
   "outputs": [
    {
     "data": {
      "text/html": [
       "<div>\n",
       "<style scoped>\n",
       "    .dataframe tbody tr th:only-of-type {\n",
       "        vertical-align: middle;\n",
       "    }\n",
       "\n",
       "    .dataframe tbody tr th {\n",
       "        vertical-align: top;\n",
       "    }\n",
       "\n",
       "    .dataframe thead th {\n",
       "        text-align: right;\n",
       "    }\n",
       "</style>\n",
       "<table border=\"1\" class=\"dataframe\">\n",
       "  <thead>\n",
       "    <tr style=\"text-align: right;\">\n",
       "      <th></th>\n",
       "      <th>Commune</th>\n",
       "      <th>Code postal</th>\n",
       "    </tr>\n",
       "  </thead>\n",
       "  <tbody>\n",
       "    <tr>\n",
       "      <th>0</th>\n",
       "      <td>Anderlecht</td>\n",
       "      <td>1070</td>\n",
       "    </tr>\n",
       "    <tr>\n",
       "      <th>1</th>\n",
       "      <td>Auderghem</td>\n",
       "      <td>1160</td>\n",
       "    </tr>\n",
       "    <tr>\n",
       "      <th>2</th>\n",
       "      <td>Berchem-Sainte-Agathe</td>\n",
       "      <td>1082</td>\n",
       "    </tr>\n",
       "    <tr>\n",
       "      <th>3</th>\n",
       "      <td>Ville de Bruxelles : Bruxelles Laeken Neder-Ov...</td>\n",
       "      <td>Plusieurs : 1000, 1040, 1050 1020 1120 1130</td>\n",
       "    </tr>\n",
       "    <tr>\n",
       "      <th>4</th>\n",
       "      <td>Etterbeek</td>\n",
       "      <td>1040</td>\n",
       "    </tr>\n",
       "    <tr>\n",
       "      <th>5</th>\n",
       "      <td>Evere</td>\n",
       "      <td>1140</td>\n",
       "    </tr>\n",
       "    <tr>\n",
       "      <th>6</th>\n",
       "      <td>Forest</td>\n",
       "      <td>1190</td>\n",
       "    </tr>\n",
       "    <tr>\n",
       "      <th>7</th>\n",
       "      <td>Ganshoren</td>\n",
       "      <td>1083</td>\n",
       "    </tr>\n",
       "    <tr>\n",
       "      <th>8</th>\n",
       "      <td>Ixelles</td>\n",
       "      <td>1050</td>\n",
       "    </tr>\n",
       "    <tr>\n",
       "      <th>9</th>\n",
       "      <td>Jette</td>\n",
       "      <td>1090</td>\n",
       "    </tr>\n",
       "    <tr>\n",
       "      <th>10</th>\n",
       "      <td>Koekelberg</td>\n",
       "      <td>1081</td>\n",
       "    </tr>\n",
       "    <tr>\n",
       "      <th>11</th>\n",
       "      <td>Molenbeek-Saint-Jean</td>\n",
       "      <td>1080</td>\n",
       "    </tr>\n",
       "    <tr>\n",
       "      <th>12</th>\n",
       "      <td>Saint-Gilles</td>\n",
       "      <td>1060</td>\n",
       "    </tr>\n",
       "    <tr>\n",
       "      <th>13</th>\n",
       "      <td>Saint-Josse-ten-Noode</td>\n",
       "      <td>1210</td>\n",
       "    </tr>\n",
       "    <tr>\n",
       "      <th>14</th>\n",
       "      <td>Schaerbeek</td>\n",
       "      <td>1030</td>\n",
       "    </tr>\n",
       "    <tr>\n",
       "      <th>15</th>\n",
       "      <td>Uccle</td>\n",
       "      <td>1180</td>\n",
       "    </tr>\n",
       "    <tr>\n",
       "      <th>16</th>\n",
       "      <td>Watermael-Boitsfort</td>\n",
       "      <td>1170</td>\n",
       "    </tr>\n",
       "    <tr>\n",
       "      <th>17</th>\n",
       "      <td>Woluwe-Saint-Lambert</td>\n",
       "      <td>1200</td>\n",
       "    </tr>\n",
       "    <tr>\n",
       "      <th>18</th>\n",
       "      <td>Woluwe-Saint-Pierre</td>\n",
       "      <td>1150</td>\n",
       "    </tr>\n",
       "    <tr>\n",
       "      <th>19</th>\n",
       "      <td>Totaux</td>\n",
       "      <td>NaN</td>\n",
       "    </tr>\n",
       "  </tbody>\n",
       "</table>\n",
       "</div>"
      ],
      "text/plain": [
       "                                              Commune  \\\n",
       "0                                          Anderlecht   \n",
       "1                                           Auderghem   \n",
       "2                               Berchem-Sainte-Agathe   \n",
       "3   Ville de Bruxelles : Bruxelles Laeken Neder-Ov...   \n",
       "4                                           Etterbeek   \n",
       "5                                               Evere   \n",
       "6                                              Forest   \n",
       "7                                           Ganshoren   \n",
       "8                                             Ixelles   \n",
       "9                                               Jette   \n",
       "10                                         Koekelberg   \n",
       "11                               Molenbeek-Saint-Jean   \n",
       "12                                       Saint-Gilles   \n",
       "13                              Saint-Josse-ten-Noode   \n",
       "14                                         Schaerbeek   \n",
       "15                                              Uccle   \n",
       "16                                Watermael-Boitsfort   \n",
       "17                               Woluwe-Saint-Lambert   \n",
       "18                                Woluwe-Saint-Pierre   \n",
       "19                                             Totaux   \n",
       "\n",
       "                                    Code postal  \n",
       "0                                          1070  \n",
       "1                                          1160  \n",
       "2                                          1082  \n",
       "3   Plusieurs : 1000, 1040, 1050 1020 1120 1130  \n",
       "4                                          1040  \n",
       "5                                          1140  \n",
       "6                                          1190  \n",
       "7                                          1083  \n",
       "8                                          1050  \n",
       "9                                          1090  \n",
       "10                                         1081  \n",
       "11                                         1080  \n",
       "12                                         1060  \n",
       "13                                         1210  \n",
       "14                                         1030  \n",
       "15                                         1180  \n",
       "16                                         1170  \n",
       "17                                         1200  \n",
       "18                                         1150  \n",
       "19                                          NaN  "
      ]
     },
     "execution_count": 4,
     "metadata": {},
     "output_type": "execute_result"
    }
   ],
   "source": [
    "brussels_list =  brussels_list [['Commune', 'Code postal']]\n",
    "\n",
    "brussels_list"
   ]
  },
  {
   "cell_type": "markdown",
   "metadata": {},
   "source": [
    "The table looks clean. However, we can see that the fourth row has more than one name and more than one postal code. That's because the central municipality of Brussels includes, aside of itself 3 other regions that formerly were seperate municipalities but are now attached to the municipality of Brussels. As they were formerly municipalities these 3 regions have distinct postal codes.  \n",
    "\n",
    "Therefore, we will add these regions to the complete DataFrame.  \n",
    "\n",
    "First let's have a look to the fourth row in detail."
   ]
  },
  {
   "cell_type": "code",
   "execution_count": 5,
   "metadata": {},
   "outputs": [
    {
     "data": {
      "text/plain": [
       "Commune        Ville de Bruxelles : Bruxelles Laeken Neder-Ov...\n",
       "Code postal          Plusieurs : 1000, 1040, 1050 1020 1120 1130\n",
       "Name: 3, dtype: object"
      ]
     },
     "execution_count": 5,
     "metadata": {},
     "output_type": "execute_result"
    }
   ],
   "source": [
    "city_brussels_PostalCode = brussels_list.iloc[3]\n",
    "\n",
    "city_brussels_PostalCode"
   ]
  },
  {
   "cell_type": "code",
   "execution_count": 6,
   "metadata": {},
   "outputs": [
    {
     "name": "stdout",
     "output_type": "stream",
     "text": [
      "Ville de Bruxelles : Bruxelles Laeken Neder-Over-Heembeek Haren\n"
     ]
    }
   ],
   "source": [
    "city_brussels_name = city_brussels_PostalCode['Commune']\n",
    "\n",
    "print(city_brussels_name)"
   ]
  },
  {
   "cell_type": "markdown",
   "metadata": {},
   "source": [
    "We can see that the row includes 4 distinct names. Namely: Bruxelles, Laeken, Neder-Over-Heembeek, and Haren. Therefore, let's create a list that includes these 4 municipalities names. "
   ]
  },
  {
   "cell_type": "code",
   "execution_count": 7,
   "metadata": {},
   "outputs": [
    {
     "data": {
      "text/plain": [
       "['Ville',\n",
       " 'de',\n",
       " 'Bruxelles\\xa0:',\n",
       " 'Bruxelles',\n",
       " 'Laeken',\n",
       " 'Neder-Over-Heembeek',\n",
       " 'Haren']"
      ]
     },
     "execution_count": 7,
     "metadata": {},
     "output_type": "execute_result"
    }
   ],
   "source": [
    "city_brussels_name_list = city_brussels_name.split(\" \")\n",
    "city_brussels_name_list"
   ]
  },
  {
   "cell_type": "code",
   "execution_count": 8,
   "metadata": {},
   "outputs": [
    {
     "data": {
      "text/plain": [
       "['Bruxelles', 'Laeken', 'Neder-Over-Heembeek', 'Haren']"
      ]
     },
     "execution_count": 8,
     "metadata": {},
     "output_type": "execute_result"
    }
   ],
   "source": [
    "city_brussels_name_lists = city_brussels_name_list[3:7]\n",
    "\n",
    "city_brussels_name_lists"
   ]
  },
  {
   "cell_type": "markdown",
   "metadata": {},
   "source": [
    "Let's have a look at the postal codes in this row. "
   ]
  },
  {
   "cell_type": "code",
   "execution_count": 9,
   "metadata": {},
   "outputs": [
    {
     "data": {
      "text/plain": [
       "['Plusieurs\\xa0:', '1000,', '1040,', '1050', '1020', '1120', '1130']"
      ]
     },
     "execution_count": 9,
     "metadata": {},
     "output_type": "execute_result"
    }
   ],
   "source": [
    "city_brussels_PostalCode_lists = city_brussels_PostalCode['Code postal'].split(\" \")\n",
    "\n",
    "city_brussels_PostalCode_lists"
   ]
  },
  {
   "cell_type": "markdown",
   "metadata": {},
   "source": [
    "We can see that there are more postal codes than names. That's because \"Bruxelles\" had a sub-list of postal codes; 1000, 1040, and 1050. "
   ]
  },
  {
   "cell_type": "code",
   "execution_count": 10,
   "metadata": {},
   "outputs": [
    {
     "data": {
      "text/plain": [
       "['1000,', '1040,', '1050', '1020', '1120', '1130']"
      ]
     },
     "execution_count": 10,
     "metadata": {},
     "output_type": "execute_result"
    }
   ],
   "source": [
    "city_brussels_PostalCode_lists = city_brussels_PostalCode_lists[1:7]\n",
    "\n",
    "city_brussels_PostalCode_lists"
   ]
  },
  {
   "cell_type": "markdown",
   "metadata": {},
   "source": [
    "Upon further inspection we can see that two of these postal codes; 1040 and 1050, are already present in the table. Therefore, we will only keep 1000 for Bruxelles."
   ]
  },
  {
   "cell_type": "code",
   "execution_count": 11,
   "metadata": {},
   "outputs": [],
   "source": [
    "del city_brussels_PostalCode_lists[1:3]"
   ]
  },
  {
   "cell_type": "markdown",
   "metadata": {},
   "source": [
    "The last step is to remove the comma that appears after 1000."
   ]
  },
  {
   "cell_type": "code",
   "execution_count": 12,
   "metadata": {},
   "outputs": [
    {
     "data": {
      "text/plain": [
       "['1000', '1020', '1120', '1130']"
      ]
     },
     "execution_count": 12,
     "metadata": {},
     "output_type": "execute_result"
    }
   ],
   "source": [
    "city_brussels_PostalCode_lists = [city_brussels_PostalCode_lists[0].replace('1000,', '1000'), city_brussels_PostalCode_lists[1],city_brussels_PostalCode_lists[2], city_brussels_PostalCode_lists[3]]\n",
    "\n",
    "city_brussels_PostalCode_lists"
   ]
  },
  {
   "cell_type": "markdown",
   "metadata": {},
   "source": [
    "With both list clean we are ready to merge them and create a sub-DataFrame."
   ]
  },
  {
   "cell_type": "code",
   "execution_count": 13,
   "metadata": {},
   "outputs": [
    {
     "data": {
      "text/html": [
       "<div>\n",
       "<style scoped>\n",
       "    .dataframe tbody tr th:only-of-type {\n",
       "        vertical-align: middle;\n",
       "    }\n",
       "\n",
       "    .dataframe tbody tr th {\n",
       "        vertical-align: top;\n",
       "    }\n",
       "\n",
       "    .dataframe thead th {\n",
       "        text-align: right;\n",
       "    }\n",
       "</style>\n",
       "<table border=\"1\" class=\"dataframe\">\n",
       "  <thead>\n",
       "    <tr style=\"text-align: right;\">\n",
       "      <th></th>\n",
       "      <th>Commune</th>\n",
       "      <th>Code postal</th>\n",
       "    </tr>\n",
       "  </thead>\n",
       "  <tbody>\n",
       "    <tr>\n",
       "      <th>0</th>\n",
       "      <td>Bruxelles</td>\n",
       "      <td>1000</td>\n",
       "    </tr>\n",
       "    <tr>\n",
       "      <th>1</th>\n",
       "      <td>Laeken</td>\n",
       "      <td>1020</td>\n",
       "    </tr>\n",
       "    <tr>\n",
       "      <th>2</th>\n",
       "      <td>Neder-Over-Heembeek</td>\n",
       "      <td>1120</td>\n",
       "    </tr>\n",
       "    <tr>\n",
       "      <th>3</th>\n",
       "      <td>Haren</td>\n",
       "      <td>1130</td>\n",
       "    </tr>\n",
       "  </tbody>\n",
       "</table>\n",
       "</div>"
      ],
      "text/plain": [
       "               Commune Code postal\n",
       "0            Bruxelles        1000\n",
       "1               Laeken        1020\n",
       "2  Neder-Over-Heembeek        1120\n",
       "3                Haren        1130"
      ]
     },
     "execution_count": 13,
     "metadata": {},
     "output_type": "execute_result"
    }
   ],
   "source": [
    "brussels_city_df = pd.DataFrame({'Commune':city_brussels_name_lists, 'Code postal': city_brussels_PostalCode_lists})\n",
    "\n",
    "brussels_city_df"
   ]
  },
  {
   "cell_type": "markdown",
   "metadata": {},
   "source": [
    "Now its time to fuse the two DataFrames together."
   ]
  },
  {
   "cell_type": "code",
   "execution_count": 14,
   "metadata": {},
   "outputs": [
    {
     "data": {
      "text/html": [
       "<div>\n",
       "<style scoped>\n",
       "    .dataframe tbody tr th:only-of-type {\n",
       "        vertical-align: middle;\n",
       "    }\n",
       "\n",
       "    .dataframe tbody tr th {\n",
       "        vertical-align: top;\n",
       "    }\n",
       "\n",
       "    .dataframe thead th {\n",
       "        text-align: right;\n",
       "    }\n",
       "</style>\n",
       "<table border=\"1\" class=\"dataframe\">\n",
       "  <thead>\n",
       "    <tr style=\"text-align: right;\">\n",
       "      <th></th>\n",
       "      <th>Commune</th>\n",
       "      <th>Code postal</th>\n",
       "    </tr>\n",
       "  </thead>\n",
       "  <tbody>\n",
       "    <tr>\n",
       "      <th>0</th>\n",
       "      <td>Anderlecht</td>\n",
       "      <td>1070</td>\n",
       "    </tr>\n",
       "    <tr>\n",
       "      <th>1</th>\n",
       "      <td>Auderghem</td>\n",
       "      <td>1160</td>\n",
       "    </tr>\n",
       "    <tr>\n",
       "      <th>2</th>\n",
       "      <td>Berchem-Sainte-Agathe</td>\n",
       "      <td>1082</td>\n",
       "    </tr>\n",
       "    <tr>\n",
       "      <th>3</th>\n",
       "      <td>Ville de Bruxelles : Bruxelles Laeken Neder-Ov...</td>\n",
       "      <td>Plusieurs : 1000, 1040, 1050 1020 1120 1130</td>\n",
       "    </tr>\n",
       "    <tr>\n",
       "      <th>4</th>\n",
       "      <td>Etterbeek</td>\n",
       "      <td>1040</td>\n",
       "    </tr>\n",
       "    <tr>\n",
       "      <th>5</th>\n",
       "      <td>Evere</td>\n",
       "      <td>1140</td>\n",
       "    </tr>\n",
       "    <tr>\n",
       "      <th>6</th>\n",
       "      <td>Forest</td>\n",
       "      <td>1190</td>\n",
       "    </tr>\n",
       "    <tr>\n",
       "      <th>7</th>\n",
       "      <td>Ganshoren</td>\n",
       "      <td>1083</td>\n",
       "    </tr>\n",
       "    <tr>\n",
       "      <th>8</th>\n",
       "      <td>Ixelles</td>\n",
       "      <td>1050</td>\n",
       "    </tr>\n",
       "    <tr>\n",
       "      <th>9</th>\n",
       "      <td>Jette</td>\n",
       "      <td>1090</td>\n",
       "    </tr>\n",
       "    <tr>\n",
       "      <th>10</th>\n",
       "      <td>Koekelberg</td>\n",
       "      <td>1081</td>\n",
       "    </tr>\n",
       "    <tr>\n",
       "      <th>11</th>\n",
       "      <td>Molenbeek-Saint-Jean</td>\n",
       "      <td>1080</td>\n",
       "    </tr>\n",
       "    <tr>\n",
       "      <th>12</th>\n",
       "      <td>Saint-Gilles</td>\n",
       "      <td>1060</td>\n",
       "    </tr>\n",
       "    <tr>\n",
       "      <th>13</th>\n",
       "      <td>Saint-Josse-ten-Noode</td>\n",
       "      <td>1210</td>\n",
       "    </tr>\n",
       "    <tr>\n",
       "      <th>14</th>\n",
       "      <td>Schaerbeek</td>\n",
       "      <td>1030</td>\n",
       "    </tr>\n",
       "    <tr>\n",
       "      <th>15</th>\n",
       "      <td>Uccle</td>\n",
       "      <td>1180</td>\n",
       "    </tr>\n",
       "    <tr>\n",
       "      <th>16</th>\n",
       "      <td>Watermael-Boitsfort</td>\n",
       "      <td>1170</td>\n",
       "    </tr>\n",
       "    <tr>\n",
       "      <th>17</th>\n",
       "      <td>Woluwe-Saint-Lambert</td>\n",
       "      <td>1200</td>\n",
       "    </tr>\n",
       "    <tr>\n",
       "      <th>18</th>\n",
       "      <td>Woluwe-Saint-Pierre</td>\n",
       "      <td>1150</td>\n",
       "    </tr>\n",
       "    <tr>\n",
       "      <th>19</th>\n",
       "      <td>Totaux</td>\n",
       "      <td>NaN</td>\n",
       "    </tr>\n",
       "    <tr>\n",
       "      <th>20</th>\n",
       "      <td>Bruxelles</td>\n",
       "      <td>1000</td>\n",
       "    </tr>\n",
       "    <tr>\n",
       "      <th>21</th>\n",
       "      <td>Laeken</td>\n",
       "      <td>1020</td>\n",
       "    </tr>\n",
       "    <tr>\n",
       "      <th>22</th>\n",
       "      <td>Neder-Over-Heembeek</td>\n",
       "      <td>1120</td>\n",
       "    </tr>\n",
       "    <tr>\n",
       "      <th>23</th>\n",
       "      <td>Haren</td>\n",
       "      <td>1130</td>\n",
       "    </tr>\n",
       "  </tbody>\n",
       "</table>\n",
       "</div>"
      ],
      "text/plain": [
       "                                              Commune  \\\n",
       "0                                          Anderlecht   \n",
       "1                                           Auderghem   \n",
       "2                               Berchem-Sainte-Agathe   \n",
       "3   Ville de Bruxelles : Bruxelles Laeken Neder-Ov...   \n",
       "4                                           Etterbeek   \n",
       "5                                               Evere   \n",
       "6                                              Forest   \n",
       "7                                           Ganshoren   \n",
       "8                                             Ixelles   \n",
       "9                                               Jette   \n",
       "10                                         Koekelberg   \n",
       "11                               Molenbeek-Saint-Jean   \n",
       "12                                       Saint-Gilles   \n",
       "13                              Saint-Josse-ten-Noode   \n",
       "14                                         Schaerbeek   \n",
       "15                                              Uccle   \n",
       "16                                Watermael-Boitsfort   \n",
       "17                               Woluwe-Saint-Lambert   \n",
       "18                                Woluwe-Saint-Pierre   \n",
       "19                                             Totaux   \n",
       "20                                          Bruxelles   \n",
       "21                                             Laeken   \n",
       "22                                Neder-Over-Heembeek   \n",
       "23                                              Haren   \n",
       "\n",
       "                                    Code postal  \n",
       "0                                          1070  \n",
       "1                                          1160  \n",
       "2                                          1082  \n",
       "3   Plusieurs : 1000, 1040, 1050 1020 1120 1130  \n",
       "4                                          1040  \n",
       "5                                          1140  \n",
       "6                                          1190  \n",
       "7                                          1083  \n",
       "8                                          1050  \n",
       "9                                          1090  \n",
       "10                                         1081  \n",
       "11                                         1080  \n",
       "12                                         1060  \n",
       "13                                         1210  \n",
       "14                                         1030  \n",
       "15                                         1180  \n",
       "16                                         1170  \n",
       "17                                         1200  \n",
       "18                                         1150  \n",
       "19                                          NaN  \n",
       "20                                         1000  \n",
       "21                                         1020  \n",
       "22                                         1120  \n",
       "23                                         1130  "
      ]
     },
     "execution_count": 14,
     "metadata": {},
     "output_type": "execute_result"
    }
   ],
   "source": [
    "full_df = brussels_list.append(brussels_city_df, ignore_index=True)\n",
    "\n",
    "full_df"
   ]
  },
  {
   "cell_type": "markdown",
   "metadata": {},
   "source": [
    "We can see that this Dataframe still includes the 'faulty' row. Furthermore, it includes a Total row that has a *NaN* value. Therefore, let's drop these two rows."
   ]
  },
  {
   "cell_type": "code",
   "execution_count": 15,
   "metadata": {},
   "outputs": [],
   "source": [
    "full_df.drop([3, 19], inplace=True)"
   ]
  },
  {
   "cell_type": "markdown",
   "metadata": {},
   "source": [
    "Lastly, let's sort the DataFrame by increasing number of postal code."
   ]
  },
  {
   "cell_type": "code",
   "execution_count": 16,
   "metadata": {},
   "outputs": [
    {
     "data": {
      "text/html": [
       "<div>\n",
       "<style scoped>\n",
       "    .dataframe tbody tr th:only-of-type {\n",
       "        vertical-align: middle;\n",
       "    }\n",
       "\n",
       "    .dataframe tbody tr th {\n",
       "        vertical-align: top;\n",
       "    }\n",
       "\n",
       "    .dataframe thead th {\n",
       "        text-align: right;\n",
       "    }\n",
       "</style>\n",
       "<table border=\"1\" class=\"dataframe\">\n",
       "  <thead>\n",
       "    <tr style=\"text-align: right;\">\n",
       "      <th></th>\n",
       "      <th>Commune</th>\n",
       "      <th>Code postal</th>\n",
       "    </tr>\n",
       "  </thead>\n",
       "  <tbody>\n",
       "    <tr>\n",
       "      <th>0</th>\n",
       "      <td>Bruxelles</td>\n",
       "      <td>1000</td>\n",
       "    </tr>\n",
       "    <tr>\n",
       "      <th>1</th>\n",
       "      <td>Laeken</td>\n",
       "      <td>1020</td>\n",
       "    </tr>\n",
       "    <tr>\n",
       "      <th>2</th>\n",
       "      <td>Schaerbeek</td>\n",
       "      <td>1030</td>\n",
       "    </tr>\n",
       "    <tr>\n",
       "      <th>3</th>\n",
       "      <td>Etterbeek</td>\n",
       "      <td>1040</td>\n",
       "    </tr>\n",
       "    <tr>\n",
       "      <th>4</th>\n",
       "      <td>Ixelles</td>\n",
       "      <td>1050</td>\n",
       "    </tr>\n",
       "    <tr>\n",
       "      <th>5</th>\n",
       "      <td>Saint-Gilles</td>\n",
       "      <td>1060</td>\n",
       "    </tr>\n",
       "    <tr>\n",
       "      <th>6</th>\n",
       "      <td>Anderlecht</td>\n",
       "      <td>1070</td>\n",
       "    </tr>\n",
       "    <tr>\n",
       "      <th>7</th>\n",
       "      <td>Molenbeek-Saint-Jean</td>\n",
       "      <td>1080</td>\n",
       "    </tr>\n",
       "    <tr>\n",
       "      <th>8</th>\n",
       "      <td>Koekelberg</td>\n",
       "      <td>1081</td>\n",
       "    </tr>\n",
       "    <tr>\n",
       "      <th>9</th>\n",
       "      <td>Berchem-Sainte-Agathe</td>\n",
       "      <td>1082</td>\n",
       "    </tr>\n",
       "    <tr>\n",
       "      <th>10</th>\n",
       "      <td>Ganshoren</td>\n",
       "      <td>1083</td>\n",
       "    </tr>\n",
       "    <tr>\n",
       "      <th>11</th>\n",
       "      <td>Jette</td>\n",
       "      <td>1090</td>\n",
       "    </tr>\n",
       "    <tr>\n",
       "      <th>12</th>\n",
       "      <td>Neder-Over-Heembeek</td>\n",
       "      <td>1120</td>\n",
       "    </tr>\n",
       "    <tr>\n",
       "      <th>13</th>\n",
       "      <td>Haren</td>\n",
       "      <td>1130</td>\n",
       "    </tr>\n",
       "    <tr>\n",
       "      <th>14</th>\n",
       "      <td>Evere</td>\n",
       "      <td>1140</td>\n",
       "    </tr>\n",
       "    <tr>\n",
       "      <th>15</th>\n",
       "      <td>Woluwe-Saint-Pierre</td>\n",
       "      <td>1150</td>\n",
       "    </tr>\n",
       "    <tr>\n",
       "      <th>16</th>\n",
       "      <td>Auderghem</td>\n",
       "      <td>1160</td>\n",
       "    </tr>\n",
       "    <tr>\n",
       "      <th>17</th>\n",
       "      <td>Watermael-Boitsfort</td>\n",
       "      <td>1170</td>\n",
       "    </tr>\n",
       "    <tr>\n",
       "      <th>18</th>\n",
       "      <td>Uccle</td>\n",
       "      <td>1180</td>\n",
       "    </tr>\n",
       "    <tr>\n",
       "      <th>19</th>\n",
       "      <td>Forest</td>\n",
       "      <td>1190</td>\n",
       "    </tr>\n",
       "    <tr>\n",
       "      <th>20</th>\n",
       "      <td>Woluwe-Saint-Lambert</td>\n",
       "      <td>1200</td>\n",
       "    </tr>\n",
       "    <tr>\n",
       "      <th>21</th>\n",
       "      <td>Saint-Josse-ten-Noode</td>\n",
       "      <td>1210</td>\n",
       "    </tr>\n",
       "  </tbody>\n",
       "</table>\n",
       "</div>"
      ],
      "text/plain": [
       "                  Commune Code postal\n",
       "0               Bruxelles        1000\n",
       "1                  Laeken        1020\n",
       "2              Schaerbeek        1030\n",
       "3               Etterbeek        1040\n",
       "4                 Ixelles        1050\n",
       "5            Saint-Gilles        1060\n",
       "6              Anderlecht        1070\n",
       "7    Molenbeek-Saint-Jean        1080\n",
       "8              Koekelberg        1081\n",
       "9   Berchem-Sainte-Agathe        1082\n",
       "10              Ganshoren        1083\n",
       "11                  Jette        1090\n",
       "12    Neder-Over-Heembeek        1120\n",
       "13                  Haren        1130\n",
       "14                  Evere        1140\n",
       "15    Woluwe-Saint-Pierre        1150\n",
       "16              Auderghem        1160\n",
       "17    Watermael-Boitsfort        1170\n",
       "18                  Uccle        1180\n",
       "19                 Forest        1190\n",
       "20   Woluwe-Saint-Lambert        1200\n",
       "21  Saint-Josse-ten-Noode        1210"
      ]
     },
     "execution_count": 16,
     "metadata": {},
     "output_type": "execute_result"
    }
   ],
   "source": [
    "full_df.sort_values(by=['Code postal'], ignore_index=True)"
   ]
  },
  {
   "cell_type": "code",
   "execution_count": 17,
   "metadata": {},
   "outputs": [
    {
     "data": {
      "text/plain": [
       "(22, 2)"
      ]
     },
     "execution_count": 17,
     "metadata": {},
     "output_type": "execute_result"
    }
   ],
   "source": [
    "full_df.shape"
   ]
  },
  {
   "cell_type": "markdown",
   "metadata": {},
   "source": [
    "We see that the DataFrame now includes 21 postal codes, which corresponds to the 19 municipalities of Brussels plus the two added sub-regions of the Brussels municipality."
   ]
  },
  {
   "cell_type": "markdown",
   "metadata": {},
   "source": [
    "In order to get the longitutde and latitude coordinates of the 19 different municipalities, the Real Estate company has access to the Open Data website of Wallonia and Brussels that hosts a CSV file listing all Belgian Postal Codes with the names of the municipalities as well as their longitude and latitudes.\n",
    "\n",
    "\n",
    "## 2.2 Adding the Latitude and Longitude data to the municipalities. <a class=\"anchor\" id=\"Latitude_and_Longitude\"></a>\n",
    "\n",
    "In this section we will explore how to add the Latitude and Longitude coordinates to the municipalities using the postal codes as an index. \n",
    "\n",
    "The CSV used is openly accessible from the Open Data Wallonie-Bruxelles platform. [Link](https://www.odwb.be/explore/dataset/code-postaux-belge/information/)\n",
    "\n",
    "As this CSV uses a semicolon to seperate the data we will have to specify this when reading the CSV into a DataFrame."
   ]
  },
  {
   "cell_type": "code",
   "execution_count": 18,
   "metadata": {},
   "outputs": [
    {
     "data": {
      "text/html": [
       "<div>\n",
       "<style scoped>\n",
       "    .dataframe tbody tr th:only-of-type {\n",
       "        vertical-align: middle;\n",
       "    }\n",
       "\n",
       "    .dataframe tbody tr th {\n",
       "        vertical-align: top;\n",
       "    }\n",
       "\n",
       "    .dataframe thead th {\n",
       "        text-align: right;\n",
       "    }\n",
       "</style>\n",
       "<table border=\"1\" class=\"dataframe\">\n",
       "  <thead>\n",
       "    <tr style=\"text-align: right;\">\n",
       "      <th></th>\n",
       "      <th>Code</th>\n",
       "      <th>Localite</th>\n",
       "      <th>Longitude</th>\n",
       "      <th>Latitude</th>\n",
       "      <th>Coordonnees</th>\n",
       "      <th>Geom</th>\n",
       "    </tr>\n",
       "  </thead>\n",
       "  <tbody>\n",
       "    <tr>\n",
       "      <th>0</th>\n",
       "      <td>1050</td>\n",
       "      <td>Ixelles</td>\n",
       "      <td>4.381571</td>\n",
       "      <td>50.822285</td>\n",
       "      <td>50.8222854,4.3815707</td>\n",
       "      <td>NaN</td>\n",
       "    </tr>\n",
       "    <tr>\n",
       "      <th>1</th>\n",
       "      <td>1081</td>\n",
       "      <td>Koekelberg</td>\n",
       "      <td>4.325708</td>\n",
       "      <td>50.862263</td>\n",
       "      <td>50.8622633,4.3257084</td>\n",
       "      <td>NaN</td>\n",
       "    </tr>\n",
       "    <tr>\n",
       "      <th>2</th>\n",
       "      <td>1130</td>\n",
       "      <td>Haren</td>\n",
       "      <td>4.412571</td>\n",
       "      <td>50.891966</td>\n",
       "      <td>50.8919661,4.41257087324</td>\n",
       "      <td>NaN</td>\n",
       "    </tr>\n",
       "    <tr>\n",
       "      <th>3</th>\n",
       "      <td>1150</td>\n",
       "      <td>Woluwe-Saint-Pierre</td>\n",
       "      <td>4.443297</td>\n",
       "      <td>50.829243</td>\n",
       "      <td>50.8292429,4.4432967</td>\n",
       "      <td>NaN</td>\n",
       "    </tr>\n",
       "    <tr>\n",
       "      <th>4</th>\n",
       "      <td>1315</td>\n",
       "      <td>Incourt</td>\n",
       "      <td>4.798944</td>\n",
       "      <td>50.691800</td>\n",
       "      <td>50.6918004,4.798944</td>\n",
       "      <td>NaN</td>\n",
       "    </tr>\n",
       "  </tbody>\n",
       "</table>\n",
       "</div>"
      ],
      "text/plain": [
       "   Code             Localite  Longitude   Latitude               Coordonnees  \\\n",
       "0  1050              Ixelles   4.381571  50.822285      50.8222854,4.3815707   \n",
       "1  1081           Koekelberg   4.325708  50.862263      50.8622633,4.3257084   \n",
       "2  1130                Haren   4.412571  50.891966  50.8919661,4.41257087324   \n",
       "3  1150  Woluwe-Saint-Pierre   4.443297  50.829243      50.8292429,4.4432967   \n",
       "4  1315              Incourt   4.798944  50.691800       50.6918004,4.798944   \n",
       "\n",
       "   Geom  \n",
       "0   NaN  \n",
       "1   NaN  \n",
       "2   NaN  \n",
       "3   NaN  \n",
       "4   NaN  "
      ]
     },
     "execution_count": 18,
     "metadata": {},
     "output_type": "execute_result"
    }
   ],
   "source": [
    "csv = 'https://www.odwb.be/explore/dataset/code-postaux-belge/download/?format=csv&timezone=Europe/Berlin&lang=fr&use_labels_for_header=true&csv_separator=%3B'\n",
    "\n",
    "lat_long = pd.read_csv(csv, sep=';')\n",
    "\n",
    "lat_long.head()"
   ]
  },
  {
   "cell_type": "markdown",
   "metadata": {},
   "source": [
    "Like before, we don't need all the columns present in the CSV. The columns that interest us are the Longitude and Latitude. Furthermore, we will need one column to act as a key when we will merge the two DataFrame together. As the postal code is unique the 'Code' column will also have to be kept."
   ]
  },
  {
   "cell_type": "code",
   "execution_count": 19,
   "metadata": {},
   "outputs": [],
   "source": [
    "lat_long = lat_long[['Code', 'Latitude', 'Longitude']]"
   ]
  },
  {
   "cell_type": "markdown",
   "metadata": {},
   "source": [
    "Moreover, in order to use the postal code as an index we will have to rename the column to match the column of the postal code in our **brussels_df** DataFrame. "
   ]
  },
  {
   "cell_type": "code",
   "execution_count": 20,
   "metadata": {},
   "outputs": [],
   "source": [
    "lat_long.rename(columns = {'Code': 'Code postal'}, inplace = True)"
   ]
  },
  {
   "cell_type": "markdown",
   "metadata": {},
   "source": [
    "We are ready to merge the **full_df** DataFrame with the **lat_long** DataFrame on the common column 'Code postal'. \n",
    "This will add the latitude and longitude coordinate to each municipality identified previously."
   ]
  },
  {
   "cell_type": "code",
   "execution_count": 21,
   "metadata": {},
   "outputs": [
    {
     "ename": "ValueError",
     "evalue": "You are trying to merge on object and int64 columns. If you wish to proceed you should use pd.concat",
     "output_type": "error",
     "traceback": [
      "\u001b[1;31m---------------------------------------------------------------------------\u001b[0m",
      "\u001b[1;31mValueError\u001b[0m                                Traceback (most recent call last)",
      "\u001b[1;32m<ipython-input-21-ab29549eabc8>\u001b[0m in \u001b[0;36m<module>\u001b[1;34m\u001b[0m\n\u001b[1;32m----> 1\u001b[1;33m \u001b[0mbrussels_df\u001b[0m \u001b[1;33m=\u001b[0m \u001b[0mfull_df\u001b[0m\u001b[1;33m.\u001b[0m\u001b[0mmerge\u001b[0m\u001b[1;33m(\u001b[0m\u001b[0mlat_long\u001b[0m\u001b[1;33m,\u001b[0m\u001b[0mon\u001b[0m\u001b[1;33m=\u001b[0m\u001b[1;33m[\u001b[0m\u001b[1;34m'Code postal'\u001b[0m\u001b[1;33m]\u001b[0m\u001b[1;33m)\u001b[0m\u001b[1;33m\u001b[0m\u001b[1;33m\u001b[0m\u001b[0m\n\u001b[0m",
      "\u001b[1;32m~\\anaconda3\\lib\\site-packages\\pandas\\core\\frame.py\u001b[0m in \u001b[0;36mmerge\u001b[1;34m(self, right, how, on, left_on, right_on, left_index, right_index, sort, suffixes, copy, indicator, validate)\u001b[0m\n\u001b[0;32m   7282\u001b[0m         \u001b[1;32mfrom\u001b[0m \u001b[0mpandas\u001b[0m\u001b[1;33m.\u001b[0m\u001b[0mcore\u001b[0m\u001b[1;33m.\u001b[0m\u001b[0mreshape\u001b[0m\u001b[1;33m.\u001b[0m\u001b[0mmerge\u001b[0m \u001b[1;32mimport\u001b[0m \u001b[0mmerge\u001b[0m\u001b[1;33m\u001b[0m\u001b[1;33m\u001b[0m\u001b[0m\n\u001b[0;32m   7283\u001b[0m \u001b[1;33m\u001b[0m\u001b[0m\n\u001b[1;32m-> 7284\u001b[1;33m         return merge(\n\u001b[0m\u001b[0;32m   7285\u001b[0m             \u001b[0mself\u001b[0m\u001b[1;33m,\u001b[0m\u001b[1;33m\u001b[0m\u001b[1;33m\u001b[0m\u001b[0m\n\u001b[0;32m   7286\u001b[0m             \u001b[0mright\u001b[0m\u001b[1;33m,\u001b[0m\u001b[1;33m\u001b[0m\u001b[1;33m\u001b[0m\u001b[0m\n",
      "\u001b[1;32m~\\anaconda3\\lib\\site-packages\\pandas\\core\\reshape\\merge.py\u001b[0m in \u001b[0;36mmerge\u001b[1;34m(left, right, how, on, left_on, right_on, left_index, right_index, sort, suffixes, copy, indicator, validate)\u001b[0m\n\u001b[0;32m     71\u001b[0m     \u001b[0mvalidate\u001b[0m\u001b[1;33m=\u001b[0m\u001b[1;32mNone\u001b[0m\u001b[1;33m,\u001b[0m\u001b[1;33m\u001b[0m\u001b[1;33m\u001b[0m\u001b[0m\n\u001b[0;32m     72\u001b[0m ) -> \"DataFrame\":\n\u001b[1;32m---> 73\u001b[1;33m     op = _MergeOperation(\n\u001b[0m\u001b[0;32m     74\u001b[0m         \u001b[0mleft\u001b[0m\u001b[1;33m,\u001b[0m\u001b[1;33m\u001b[0m\u001b[1;33m\u001b[0m\u001b[0m\n\u001b[0;32m     75\u001b[0m         \u001b[0mright\u001b[0m\u001b[1;33m,\u001b[0m\u001b[1;33m\u001b[0m\u001b[1;33m\u001b[0m\u001b[0m\n",
      "\u001b[1;32m~\\anaconda3\\lib\\site-packages\\pandas\\core\\reshape\\merge.py\u001b[0m in \u001b[0;36m__init__\u001b[1;34m(self, left, right, how, on, left_on, right_on, axis, left_index, right_index, sort, suffixes, copy, indicator, validate)\u001b[0m\n\u001b[0;32m    629\u001b[0m         \u001b[1;31m# validate the merge keys dtypes. We may need to coerce\u001b[0m\u001b[1;33m\u001b[0m\u001b[1;33m\u001b[0m\u001b[1;33m\u001b[0m\u001b[0m\n\u001b[0;32m    630\u001b[0m         \u001b[1;31m# to avoid incompat dtypes\u001b[0m\u001b[1;33m\u001b[0m\u001b[1;33m\u001b[0m\u001b[1;33m\u001b[0m\u001b[0m\n\u001b[1;32m--> 631\u001b[1;33m         \u001b[0mself\u001b[0m\u001b[1;33m.\u001b[0m\u001b[0m_maybe_coerce_merge_keys\u001b[0m\u001b[1;33m(\u001b[0m\u001b[1;33m)\u001b[0m\u001b[1;33m\u001b[0m\u001b[1;33m\u001b[0m\u001b[0m\n\u001b[0m\u001b[0;32m    632\u001b[0m \u001b[1;33m\u001b[0m\u001b[0m\n\u001b[0;32m    633\u001b[0m         \u001b[1;31m# If argument passed to validate,\u001b[0m\u001b[1;33m\u001b[0m\u001b[1;33m\u001b[0m\u001b[1;33m\u001b[0m\u001b[0m\n",
      "\u001b[1;32m~\\anaconda3\\lib\\site-packages\\pandas\\core\\reshape\\merge.py\u001b[0m in \u001b[0;36m_maybe_coerce_merge_keys\u001b[1;34m(self)\u001b[0m\n\u001b[0;32m   1144\u001b[0m                     \u001b[0minferred_right\u001b[0m \u001b[1;32min\u001b[0m \u001b[0mstring_types\u001b[0m \u001b[1;32mand\u001b[0m \u001b[0minferred_left\u001b[0m \u001b[1;32mnot\u001b[0m \u001b[1;32min\u001b[0m \u001b[0mstring_types\u001b[0m\u001b[1;33m\u001b[0m\u001b[1;33m\u001b[0m\u001b[0m\n\u001b[0;32m   1145\u001b[0m                 ):\n\u001b[1;32m-> 1146\u001b[1;33m                     \u001b[1;32mraise\u001b[0m \u001b[0mValueError\u001b[0m\u001b[1;33m(\u001b[0m\u001b[0mmsg\u001b[0m\u001b[1;33m)\u001b[0m\u001b[1;33m\u001b[0m\u001b[1;33m\u001b[0m\u001b[0m\n\u001b[0m\u001b[0;32m   1147\u001b[0m \u001b[1;33m\u001b[0m\u001b[0m\n\u001b[0;32m   1148\u001b[0m             \u001b[1;31m# datetimelikes must match exactly\u001b[0m\u001b[1;33m\u001b[0m\u001b[1;33m\u001b[0m\u001b[1;33m\u001b[0m\u001b[0m\n",
      "\u001b[1;31mValueError\u001b[0m: You are trying to merge on object and int64 columns. If you wish to proceed you should use pd.concat"
     ]
    }
   ],
   "source": [
    "brussels_df = full_df.merge(lat_long,on=['Code postal'])"
   ]
  },
  {
   "cell_type": "markdown",
   "metadata": {},
   "source": [
    "The error message indicated that the columns in the two DataFrames 'Code postal' used as a unique key don't have the same datatype. Let's have a look at both DataFrames and identify the data types of each column."
   ]
  },
  {
   "cell_type": "code",
   "execution_count": 22,
   "metadata": {},
   "outputs": [
    {
     "data": {
      "text/plain": [
       "Commune        object\n",
       "Code postal    object\n",
       "dtype: object"
      ]
     },
     "execution_count": 22,
     "metadata": {},
     "output_type": "execute_result"
    }
   ],
   "source": [
    "full_df.dtypes"
   ]
  },
  {
   "cell_type": "markdown",
   "metadata": {},
   "source": [
    "We can see that the two columns of the **full_df** DataFrame have the data type object. This is correct for the 'Commune' columns as we are speaking about the names of the municipalities. However, the 'Code postal' column should not have the object datatype but a numeric data type.  \n",
    "\n",
    "Now let's look at the data types of the **lat_long** DataFrame."
   ]
  },
  {
   "cell_type": "code",
   "execution_count": 23,
   "metadata": {},
   "outputs": [
    {
     "data": {
      "text/plain": [
       "Code postal      int64\n",
       "Latitude       float64\n",
       "Longitude      float64\n",
       "dtype: object"
      ]
     },
     "execution_count": 23,
     "metadata": {},
     "output_type": "execute_result"
    }
   ],
   "source": [
    "lat_long.dtypes"
   ]
  },
  {
   "cell_type": "markdown",
   "metadata": {},
   "source": [
    "We see that the column 'Code postal' of the **lat_long** DataFrame has the data type *int64*. Therefore, let's convert the 'Code postal' of the **full_df** DataFrame to int64.  \n",
    "That way can then finally merge both DataFrames. "
   ]
  },
  {
   "cell_type": "code",
   "execution_count": 24,
   "metadata": {},
   "outputs": [],
   "source": [
    "full_df = full_df.astype({'Code postal':'int64'})"
   ]
  },
  {
   "cell_type": "markdown",
   "metadata": {},
   "source": [
    "Let's verify if the data type has been well converted."
   ]
  },
  {
   "cell_type": "code",
   "execution_count": 25,
   "metadata": {},
   "outputs": [
    {
     "data": {
      "text/plain": [
       "Commune        object\n",
       "Code postal     int64\n",
       "dtype: object"
      ]
     },
     "execution_count": 25,
     "metadata": {},
     "output_type": "execute_result"
    }
   ],
   "source": [
    "full_df.dtypes"
   ]
  },
  {
   "cell_type": "markdown",
   "metadata": {},
   "source": [
    "We can see now that the 'Code postal' column in both DataFrames have the same data type and can be safely merged on this column."
   ]
  },
  {
   "cell_type": "code",
   "execution_count": 26,
   "metadata": {},
   "outputs": [],
   "source": [
    "brussels_df = full_df.merge(lat_long,on=['Code postal'])"
   ]
  },
  {
   "cell_type": "code",
   "execution_count": 27,
   "metadata": {},
   "outputs": [
    {
     "data": {
      "text/html": [
       "<div>\n",
       "<style scoped>\n",
       "    .dataframe tbody tr th:only-of-type {\n",
       "        vertical-align: middle;\n",
       "    }\n",
       "\n",
       "    .dataframe tbody tr th {\n",
       "        vertical-align: top;\n",
       "    }\n",
       "\n",
       "    .dataframe thead th {\n",
       "        text-align: right;\n",
       "    }\n",
       "</style>\n",
       "<table border=\"1\" class=\"dataframe\">\n",
       "  <thead>\n",
       "    <tr style=\"text-align: right;\">\n",
       "      <th></th>\n",
       "      <th>Commune</th>\n",
       "      <th>Code postal</th>\n",
       "      <th>Latitude</th>\n",
       "      <th>Longitude</th>\n",
       "    </tr>\n",
       "  </thead>\n",
       "  <tbody>\n",
       "    <tr>\n",
       "      <th>0</th>\n",
       "      <td>Anderlecht</td>\n",
       "      <td>1070</td>\n",
       "      <td>50.838141</td>\n",
       "      <td>4.312340</td>\n",
       "    </tr>\n",
       "    <tr>\n",
       "      <th>1</th>\n",
       "      <td>Auderghem</td>\n",
       "      <td>1160</td>\n",
       "      <td>50.815657</td>\n",
       "      <td>4.433139</td>\n",
       "    </tr>\n",
       "    <tr>\n",
       "      <th>2</th>\n",
       "      <td>Berchem-Sainte-Agathe</td>\n",
       "      <td>1082</td>\n",
       "      <td>50.863984</td>\n",
       "      <td>4.292702</td>\n",
       "    </tr>\n",
       "    <tr>\n",
       "      <th>3</th>\n",
       "      <td>Etterbeek</td>\n",
       "      <td>1040</td>\n",
       "      <td>50.836851</td>\n",
       "      <td>4.389510</td>\n",
       "    </tr>\n",
       "    <tr>\n",
       "      <th>4</th>\n",
       "      <td>Evere</td>\n",
       "      <td>1140</td>\n",
       "      <td>50.870452</td>\n",
       "      <td>4.402160</td>\n",
       "    </tr>\n",
       "    <tr>\n",
       "      <th>5</th>\n",
       "      <td>Forest</td>\n",
       "      <td>1190</td>\n",
       "      <td>50.809143</td>\n",
       "      <td>4.317751</td>\n",
       "    </tr>\n",
       "    <tr>\n",
       "      <th>6</th>\n",
       "      <td>Ganshoren</td>\n",
       "      <td>1083</td>\n",
       "      <td>50.871240</td>\n",
       "      <td>4.317510</td>\n",
       "    </tr>\n",
       "    <tr>\n",
       "      <th>7</th>\n",
       "      <td>Ixelles</td>\n",
       "      <td>1050</td>\n",
       "      <td>50.822285</td>\n",
       "      <td>4.381571</td>\n",
       "    </tr>\n",
       "    <tr>\n",
       "      <th>8</th>\n",
       "      <td>Jette</td>\n",
       "      <td>1090</td>\n",
       "      <td>50.877763</td>\n",
       "      <td>4.326090</td>\n",
       "    </tr>\n",
       "    <tr>\n",
       "      <th>9</th>\n",
       "      <td>Koekelberg</td>\n",
       "      <td>1081</td>\n",
       "      <td>50.862263</td>\n",
       "      <td>4.325708</td>\n",
       "    </tr>\n",
       "    <tr>\n",
       "      <th>10</th>\n",
       "      <td>Molenbeek-Saint-Jean</td>\n",
       "      <td>1080</td>\n",
       "      <td>50.854355</td>\n",
       "      <td>4.322778</td>\n",
       "    </tr>\n",
       "    <tr>\n",
       "      <th>11</th>\n",
       "      <td>Saint-Gilles</td>\n",
       "      <td>1060</td>\n",
       "      <td>50.826741</td>\n",
       "      <td>4.345668</td>\n",
       "    </tr>\n",
       "    <tr>\n",
       "      <th>12</th>\n",
       "      <td>Saint-Josse-ten-Noode</td>\n",
       "      <td>1210</td>\n",
       "      <td>50.853074</td>\n",
       "      <td>4.372336</td>\n",
       "    </tr>\n",
       "    <tr>\n",
       "      <th>13</th>\n",
       "      <td>Schaerbeek</td>\n",
       "      <td>1030</td>\n",
       "      <td>50.867604</td>\n",
       "      <td>4.373712</td>\n",
       "    </tr>\n",
       "    <tr>\n",
       "      <th>14</th>\n",
       "      <td>Uccle</td>\n",
       "      <td>1180</td>\n",
       "      <td>50.801820</td>\n",
       "      <td>4.337235</td>\n",
       "    </tr>\n",
       "    <tr>\n",
       "      <th>15</th>\n",
       "      <td>Watermael-Boitsfort</td>\n",
       "      <td>1170</td>\n",
       "      <td>50.799394</td>\n",
       "      <td>4.415818</td>\n",
       "    </tr>\n",
       "    <tr>\n",
       "      <th>16</th>\n",
       "      <td>Woluwe-Saint-Lambert</td>\n",
       "      <td>1200</td>\n",
       "      <td>50.846693</td>\n",
       "      <td>4.428484</td>\n",
       "    </tr>\n",
       "    <tr>\n",
       "      <th>17</th>\n",
       "      <td>Woluwe-Saint-Pierre</td>\n",
       "      <td>1150</td>\n",
       "      <td>50.829243</td>\n",
       "      <td>4.443297</td>\n",
       "    </tr>\n",
       "    <tr>\n",
       "      <th>18</th>\n",
       "      <td>Bruxelles</td>\n",
       "      <td>1000</td>\n",
       "      <td>50.846557</td>\n",
       "      <td>4.351697</td>\n",
       "    </tr>\n",
       "    <tr>\n",
       "      <th>19</th>\n",
       "      <td>Laeken</td>\n",
       "      <td>1020</td>\n",
       "      <td>50.883392</td>\n",
       "      <td>4.348713</td>\n",
       "    </tr>\n",
       "    <tr>\n",
       "      <th>20</th>\n",
       "      <td>Neder-Over-Heembeek</td>\n",
       "      <td>1120</td>\n",
       "      <td>50.897796</td>\n",
       "      <td>4.390489</td>\n",
       "    </tr>\n",
       "    <tr>\n",
       "      <th>21</th>\n",
       "      <td>Haren</td>\n",
       "      <td>1130</td>\n",
       "      <td>50.891966</td>\n",
       "      <td>4.412571</td>\n",
       "    </tr>\n",
       "  </tbody>\n",
       "</table>\n",
       "</div>"
      ],
      "text/plain": [
       "                  Commune  Code postal   Latitude  Longitude\n",
       "0              Anderlecht         1070  50.838141   4.312340\n",
       "1               Auderghem         1160  50.815657   4.433139\n",
       "2   Berchem-Sainte-Agathe         1082  50.863984   4.292702\n",
       "3               Etterbeek         1040  50.836851   4.389510\n",
       "4                   Evere         1140  50.870452   4.402160\n",
       "5                  Forest         1190  50.809143   4.317751\n",
       "6               Ganshoren         1083  50.871240   4.317510\n",
       "7                 Ixelles         1050  50.822285   4.381571\n",
       "8                   Jette         1090  50.877763   4.326090\n",
       "9              Koekelberg         1081  50.862263   4.325708\n",
       "10   Molenbeek-Saint-Jean         1080  50.854355   4.322778\n",
       "11           Saint-Gilles         1060  50.826741   4.345668\n",
       "12  Saint-Josse-ten-Noode         1210  50.853074   4.372336\n",
       "13             Schaerbeek         1030  50.867604   4.373712\n",
       "14                  Uccle         1180  50.801820   4.337235\n",
       "15    Watermael-Boitsfort         1170  50.799394   4.415818\n",
       "16   Woluwe-Saint-Lambert         1200  50.846693   4.428484\n",
       "17    Woluwe-Saint-Pierre         1150  50.829243   4.443297\n",
       "18              Bruxelles         1000  50.846557   4.351697\n",
       "19                 Laeken         1020  50.883392   4.348713\n",
       "20    Neder-Over-Heembeek         1120  50.897796   4.390489\n",
       "21                  Haren         1130  50.891966   4.412571"
      ]
     },
     "execution_count": 27,
     "metadata": {},
     "output_type": "execute_result"
    }
   ],
   "source": [
    "brussels_df"
   ]
  },
  {
   "cell_type": "markdown",
   "metadata": {},
   "source": [
    "The brussels_df DataFrame now includes the names of the municipalities, their corresponding postal code, and their latitude and longitude coordinates. This DataFrame can then be used to identify the municipalities on a map."
   ]
  },
  {
   "cell_type": "markdown",
   "metadata": {},
   "source": [
    "## 2.3 Visualization of the municipalities on a map <a class=\"anchor\" id=\"Visualize_Map\"></a>\n",
    "\n",
    "In this section we will visualize the identified municipalities on a Map of Brussels.  \n",
    "\n",
    "First lets install and import the need packages and modules."
   ]
  },
  {
   "cell_type": "code",
   "execution_count": 28,
   "metadata": {},
   "outputs": [
    {
     "name": "stdout",
     "output_type": "stream",
     "text": [
      "packages installed and imported\n"
     ]
    }
   ],
   "source": [
    "import folium #package used to visualize a map\n",
    "\n",
    "from geopy.geocoders import Nominatim # convert an address into latitude and longitude values\n",
    "\n",
    "# Matplotlib and associated plotting modules\n",
    "import matplotlib.cm as cm\n",
    "import matplotlib.colors as colors\n",
    "\n",
    "# import k-means from clustering stage\n",
    "from sklearn.cluster import KMeans\n",
    "\n",
    "import numpy as np # library to handle data in a vectorized manner\n",
    "\n",
    "print('packages installed and imported')\n",
    "\n",
    "import json\n",
    "\n",
    "import requests"
   ]
  },
  {
   "cell_type": "markdown",
   "metadata": {},
   "source": [
    "Let's use the Nominatim geolocator to find out the latitude and longitude of Brussels. "
   ]
  },
  {
   "cell_type": "code",
   "execution_count": 29,
   "metadata": {},
   "outputs": [
    {
     "name": "stdout",
     "output_type": "stream",
     "text": [
      "The geograpical coordinate of Brussels are: 50.8465573, 4.351697.\n"
     ]
    }
   ],
   "source": [
    "address = 'Brussels'\n",
    "\n",
    "geolocator = Nominatim(user_agent=\"br_explorer\")\n",
    "location = geolocator.geocode(address)\n",
    "latitude = location.latitude\n",
    "longitude = location.longitude\n",
    "print('The geograpical coordinate of Brussels are: {}, {}.'.format(latitude, longitude))"
   ]
  },
  {
   "cell_type": "markdown",
   "metadata": {},
   "source": [
    "We'll use Brussels latitude and longtiude to center the Folium map and add markers to the identified municipalities on the map. "
   ]
  },
  {
   "cell_type": "code",
   "execution_count": 30,
   "metadata": {},
   "outputs": [
    {
     "data": {
      "text/html": [
       "<div style=\"width:100%;\"><div style=\"position:relative;width:100%;height:0;padding-bottom:60%;\"><span style=\"color:#565656\">Make this Notebook Trusted to load map: File -> Trust Notebook</span><iframe src=\"about:blank\" style=\"position:absolute;width:100%;height:100%;left:0;top:0;border:none !important;\" data-html=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 onload=\"this.contentDocument.open();this.contentDocument.write(atob(this.getAttribute('data-html')));this.contentDocument.close();\" allowfullscreen webkitallowfullscreen mozallowfullscreen></iframe></div></div>"
      ],
      "text/plain": [
       "<folium.folium.Map at 0x197fbef07f0>"
      ]
     },
     "execution_count": 30,
     "metadata": {},
     "output_type": "execute_result"
    }
   ],
   "source": [
    "map_brussels = folium.Map(location=[latitude, longitude], zoom_start=10)\n",
    "\n",
    "# add markers to map\n",
    "for lat, lng, municipality in zip(brussels_df['Latitude'], brussels_df['Longitude'], brussels_df['Commune']):\n",
    "    label = '{}'.format(municipality)\n",
    "    label = folium.Popup(label, parse_html=True)\n",
    "    folium.CircleMarker(\n",
    "        [lat, lng],\n",
    "        radius=5,\n",
    "        popup=label,\n",
    "        color='blue',\n",
    "        fill=True,\n",
    "        fill_color='#3186cc',\n",
    "        fill_opacity=0.7,\n",
    "        parse_html=False).add_to(map_brussels)  \n",
    "    \n",
    "map_brussels"
   ]
  },
  {
   "cell_type": "markdown",
   "metadata": {},
   "source": [
    "Once we have the latitude and longitude of the identified municipalities of Brussels we can then use Foursquare's location data to identify the type of venues in the different municipalities. The type of venues combined with the frequency of these venues inside of the identified municipalities could give us a good idea of which municipality would match the best the criteria's given by the young couple."
   ]
  },
  {
   "cell_type": "markdown",
   "metadata": {},
   "source": [
    "## 2.4 List of venues in the municipalities by Category <a class=\"anchor\" id=\"Foursquare_venues\"></a>\n",
    "\n",
    "In this section we will make an API call to the Foursquare API in order to get information about the venues that are located within the municipalities we identifed earlier. For this we will create a function called getNearbyVenues and that will read into a new DataFrame the name of the venue combined with the municipality in which it is located and the coordinates of that municipality as well as the coordinates of the venues location and its category. "
   ]
  },
  {
   "cell_type": "markdown",
   "metadata": {},
   "source": [
    "First lets define the Foursquare API credentials to make it easier afterwards to recall the needed information."
   ]
  },
  {
   "cell_type": "code",
   "execution_count": 31,
   "metadata": {},
   "outputs": [],
   "source": [
    "CLIENT_ID = 'NIDDKXAR0Y1JRGEEWFFQHC234U455BN21PQDFE3EFDRP1GJC' # your Foursquare ID\n",
    "CLIENT_SECRET = '2FO3JXOSKZJLNJKOYE3L120JFVE1T2S5UKDCJC5NGP2PKVST' # your Foursquare Secret\n",
    "VERSION = '20180605' # Foursquare API version\n",
    "LIMIT = 100 # A default Foursquare API limit value"
   ]
  },
  {
   "cell_type": "markdown",
   "metadata": {},
   "source": [
    "Secondly, we will define the function called getNearbyVenues that will loop through the names of the municipalities and return data about the venues that are located within these municipalities. The radius was set at 500m and the API limit is set at 100. "
   ]
  },
  {
   "cell_type": "code",
   "execution_count": 32,
   "metadata": {},
   "outputs": [],
   "source": [
    "def getNearbyVenues(names, latitudes, longitudes, radius=500):\n",
    "    \n",
    "    venues_list=[]\n",
    "    for name, lat, lng in zip(names, latitudes, longitudes):\n",
    "        print(name)\n",
    "            \n",
    "        # create the API request URL\n",
    "        url = 'https://api.foursquare.com/v2/venues/explore?&client_id={}&client_secret={}&v={}&ll={},{}&radius={}&limit={}'.format(\n",
    "            CLIENT_ID, \n",
    "            CLIENT_SECRET, \n",
    "            VERSION, \n",
    "            lat, \n",
    "            lng, \n",
    "            radius, \n",
    "            LIMIT)\n",
    "            \n",
    "        # make the GET request\n",
    "        results = requests.get(url).json()[\"response\"]['groups'][0]['items']\n",
    "        \n",
    "        # return only relevant information for each nearby venue\n",
    "        venues_list.append([(\n",
    "            name, \n",
    "            lat, \n",
    "            lng, \n",
    "            v['venue']['name'], \n",
    "            v['venue']['location']['lat'], \n",
    "            v['venue']['location']['lng'],  \n",
    "            v['venue']['categories'][0]['name']) for v in results])\n",
    "\n",
    "    nearby_venues = pd.DataFrame([item for venue_list in venues_list for item in venue_list])\n",
    "    nearby_venues.columns = ['Neighborhood', \n",
    "                  'Neighborhood Latitude', \n",
    "                  'Neighborhood Longitude', \n",
    "                  'Venue', \n",
    "                  'Venue Latitude', \n",
    "                  'Venue Longitude', \n",
    "                  'Venue Category']\n",
    "    \n",
    "    return(nearby_venues)"
   ]
  },
  {
   "cell_type": "markdown",
   "metadata": {},
   "source": [
    "Now let's make use of this new function and read the **brussels_df** into it."
   ]
  },
  {
   "cell_type": "code",
   "execution_count": 33,
   "metadata": {},
   "outputs": [
    {
     "name": "stdout",
     "output_type": "stream",
     "text": [
      "Anderlecht\n",
      "Auderghem\n",
      "Berchem-Sainte-Agathe\n",
      "Etterbeek\n",
      "Evere\n",
      "Forest\n",
      "Ganshoren\n",
      "Ixelles\n",
      "Jette\n",
      "Koekelberg\n",
      "Molenbeek-Saint-Jean\n",
      "Saint-Gilles\n",
      "Saint-Josse-ten-Noode\n",
      "Schaerbeek\n",
      "Uccle\n",
      "Watermael-Boitsfort\n",
      "Woluwe-Saint-Lambert\n",
      "Woluwe-Saint-Pierre\n",
      "Bruxelles\n",
      "Laeken\n",
      "Neder-Over-Heembeek\n",
      "Haren\n"
     ]
    }
   ],
   "source": [
    "brussels_venues = getNearbyVenues(names=brussels_df['Commune'], latitudes = brussels_df['Latitude'], longitudes=brussels_df['Longitude'])"
   ]
  },
  {
   "cell_type": "markdown",
   "metadata": {},
   "source": [
    "Let's have look at the first 5 rows of the venues identified thanks to the Foursquare API call. "
   ]
  },
  {
   "cell_type": "code",
   "execution_count": 34,
   "metadata": {},
   "outputs": [
    {
     "data": {
      "text/html": [
       "<div>\n",
       "<style scoped>\n",
       "    .dataframe tbody tr th:only-of-type {\n",
       "        vertical-align: middle;\n",
       "    }\n",
       "\n",
       "    .dataframe tbody tr th {\n",
       "        vertical-align: top;\n",
       "    }\n",
       "\n",
       "    .dataframe thead th {\n",
       "        text-align: right;\n",
       "    }\n",
       "</style>\n",
       "<table border=\"1\" class=\"dataframe\">\n",
       "  <thead>\n",
       "    <tr style=\"text-align: right;\">\n",
       "      <th></th>\n",
       "      <th>Neighborhood</th>\n",
       "      <th>Neighborhood Latitude</th>\n",
       "      <th>Neighborhood Longitude</th>\n",
       "      <th>Venue</th>\n",
       "      <th>Venue Latitude</th>\n",
       "      <th>Venue Longitude</th>\n",
       "      <th>Venue Category</th>\n",
       "    </tr>\n",
       "  </thead>\n",
       "  <tbody>\n",
       "    <tr>\n",
       "      <th>0</th>\n",
       "      <td>Anderlecht</td>\n",
       "      <td>50.838141</td>\n",
       "      <td>4.31234</td>\n",
       "      <td>Friture René</td>\n",
       "      <td>50.835846</td>\n",
       "      <td>4.311632</td>\n",
       "      <td>Belgian Restaurant</td>\n",
       "    </tr>\n",
       "    <tr>\n",
       "      <th>1</th>\n",
       "      <td>Anderlecht</td>\n",
       "      <td>50.838141</td>\n",
       "      <td>4.31234</td>\n",
       "      <td>Snack Mirvan</td>\n",
       "      <td>50.835176</td>\n",
       "      <td>4.308543</td>\n",
       "      <td>Snack Place</td>\n",
       "    </tr>\n",
       "    <tr>\n",
       "      <th>2</th>\n",
       "      <td>Anderlecht</td>\n",
       "      <td>50.838141</td>\n",
       "      <td>4.31234</td>\n",
       "      <td>Ulysse</td>\n",
       "      <td>50.838612</td>\n",
       "      <td>4.306860</td>\n",
       "      <td>Greek Restaurant</td>\n",
       "    </tr>\n",
       "    <tr>\n",
       "      <th>3</th>\n",
       "      <td>Anderlecht</td>\n",
       "      <td>50.838141</td>\n",
       "      <td>4.31234</td>\n",
       "      <td>Erasmushuis / Maison d'Erasme (Erasmushuis)</td>\n",
       "      <td>50.836507</td>\n",
       "      <td>4.307860</td>\n",
       "      <td>History Museum</td>\n",
       "    </tr>\n",
       "    <tr>\n",
       "      <th>4</th>\n",
       "      <td>Anderlecht</td>\n",
       "      <td>50.838141</td>\n",
       "      <td>4.31234</td>\n",
       "      <td>Le Chapeau Blanc</td>\n",
       "      <td>50.835034</td>\n",
       "      <td>4.307790</td>\n",
       "      <td>Restaurant</td>\n",
       "    </tr>\n",
       "  </tbody>\n",
       "</table>\n",
       "</div>"
      ],
      "text/plain": [
       "  Neighborhood  Neighborhood Latitude  Neighborhood Longitude  \\\n",
       "0   Anderlecht              50.838141                 4.31234   \n",
       "1   Anderlecht              50.838141                 4.31234   \n",
       "2   Anderlecht              50.838141                 4.31234   \n",
       "3   Anderlecht              50.838141                 4.31234   \n",
       "4   Anderlecht              50.838141                 4.31234   \n",
       "\n",
       "                                         Venue  Venue Latitude  \\\n",
       "0                                 Friture René       50.835846   \n",
       "1                                 Snack Mirvan       50.835176   \n",
       "2                                       Ulysse       50.838612   \n",
       "3  Erasmushuis / Maison d'Erasme (Erasmushuis)       50.836507   \n",
       "4                             Le Chapeau Blanc       50.835034   \n",
       "\n",
       "   Venue Longitude      Venue Category  \n",
       "0         4.311632  Belgian Restaurant  \n",
       "1         4.308543         Snack Place  \n",
       "2         4.306860    Greek Restaurant  \n",
       "3         4.307860      History Museum  \n",
       "4         4.307790          Restaurant  "
      ]
     },
     "execution_count": 34,
     "metadata": {},
     "output_type": "execute_result"
    }
   ],
   "source": [
    "brussels_venues.head()"
   ]
  },
  {
   "cell_type": "markdown",
   "metadata": {},
   "source": [
    "Furthermore, let's see how many venues were identified for all the municipalities of Brussels."
   ]
  },
  {
   "cell_type": "code",
   "execution_count": 35,
   "metadata": {},
   "outputs": [
    {
     "name": "stdout",
     "output_type": "stream",
     "text": [
      "(684, 7)\n"
     ]
    }
   ],
   "source": [
    "print(brussels_venues.shape)"
   ]
  },
  {
   "cell_type": "markdown",
   "metadata": {},
   "source": [
    "We see that we identified **684** different venues located in the municipalities of Brussels.  \n",
    "\n",
    "In the next steps we will analyse these venues and identify the municipalities that include the most venues corresponding to the criterias stated by the young couple."
   ]
  },
  {
   "cell_type": "markdown",
   "metadata": {},
   "source": [
    "## 3. Methodology \n",
    "\n",
    "This section will use the Foursquare API to identify the different types of venues present in the different municipalities. Calculating the frequency of appearance of the different types of venues by municipalities will in turn be used to cluster the municipalities in similar municipalities.  \n",
    "From there we wil analyze the different clusters in order to identify the clusters that respond the best to the criteria's given by the young couple. "
   ]
  },
  {
   "cell_type": "code",
   "execution_count": null,
   "metadata": {},
   "outputs": [],
   "source": []
  }
 ],
 "metadata": {
  "kernelspec": {
   "display_name": "Python 3",
   "language": "python",
   "name": "python3"
  },
  "language_info": {
   "codemirror_mode": {
    "name": "ipython",
    "version": 3
   },
   "file_extension": ".py",
   "mimetype": "text/x-python",
   "name": "python",
   "nbconvert_exporter": "python",
   "pygments_lexer": "ipython3",
   "version": "3.8.3"
  }
 },
 "nbformat": 4,
 "nbformat_minor": 4
}
