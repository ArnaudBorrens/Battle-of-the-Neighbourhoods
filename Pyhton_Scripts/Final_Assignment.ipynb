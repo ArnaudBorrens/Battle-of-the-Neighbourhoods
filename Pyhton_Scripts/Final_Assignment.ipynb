{
 "cells": [
  {
   "cell_type": "markdown",
   "metadata": {},
   "source": [
    "# The Battle of Neighborhoods - Final Assignment\n",
    "\n",
    "In this Final Assignment we will examine the Neighborhoods of Brussels in order to identify the best Neighborhoods for a young couple that recently moved to the Belgian capital. The Real Estate company recently added a additional service that offers their clients a tailored service including a detailed report on the best Neighborhoods based on the preferences of the client.  \n",
    "\n",
    "### Table of Content\n",
    "\n",
    "* [1. Introduction: Business Problem](#Introduction)\n",
    "* [2. Data](#Data)\n",
    "    * [2.1 Scrapping and Cleaning](#Scrapping_and_Cleaning)\n",
    "    * [2.2 Latitude and Longitude Data](#Latitude_and_Longitude)\n",
    "    * [2.3 Visualize the map](#Visualize_Map)\n",
    "    * [2.4 List of venues](#Foursquare_venues)\n",
    "* [3. Methodology](#Methodology)\n",
    "* [4. Results](#Results)\n",
    "* [5. Discussions](#Discussion)\n",
    "* [6. Conclusion](#Conclusion)"
   ]
  },
  {
   "cell_type": "markdown",
   "metadata": {},
   "source": [
    "## 1. Introduction: Business Problem <a class=\"anchor\" id=\"Introduction\"></a>\n",
    "\n",
    "A young couple recently moved to the Belgian capital for work and are wondering which of the Neighborhoods of Brussels will be the best to live in. Their interests include:  \n",
    "1. The outdoors\n",
    "2. Italian Restaurants\n",
    "3. Cultural activities\n",
    "\n",
    "They just saw an advertisment for a tailored service from a Real Estate company that will help them identify the top 3 Neighborhoods to choose based on their interests. Therefore, they contacted this Real Estate company and transmitted their interests.  \n",
    "The young couple both are in their 30s and work full-time and don't know Brussels at all. As they will have to move in the next weeks to the Belgian capital they will need to find a new appartment quickly. \n",
    "The Real Estate company told them that they could find them an appartment in two weeks. The first week would be dedicated in coming up with the top 3 Neighborhoods tailored to the couple and the second week would be used to find appartments in these Neighborhoods.\n",
    "\n",
    "The young couple are quite excited in seeing the analysis of the Real Estate and are curious what kind of Neighborhoods the Real Estate company will come up with. As they don't have any aquaintance in the city they depend 100% from the Real Estate company.\n",
    "\n",
    "The Real Estate company analyzes their interests and determines that the best way to come up with the best Neighborhoods they will need the coordinates of Brussels and combine this with the Foursquare location data. "
   ]
  },
  {
   "cell_type": "markdown",
   "metadata": {},
   "source": [
    "## 2. Data <a class=\"anchor\" id=\"Data\"></a>\n",
    "\n",
    "In order to determine the best Neighborhoods for the young couple the Real Estate company first analyzes how Brussels is divided.  \n",
    "Brussels is the capital of Belgium and is divided in 19 municipalities, each whith a defined Postal Code.  \n",
    "The municipalities can also be divided in different Neighborhoods. However, the Real Estate company finds out that these smaller sections don't have very defined limits and no specific Postal Codes.\n",
    "\n",
    "Therefore, they decided to restrict their recommendation to one of the 19 municipalities of Brussels.  \n",
    "\n",
    "Furthermore regarding these findings the Real Estate company decides that the data they will need is:\n",
    "\n",
    "       - A list of each 19 municipalities of Brussels combined with their postal code and the geographic coordinates.\n",
    "       - Categories of the venues inside these 19 municipalities. "
   ]
  },
  {
   "cell_type": "markdown",
   "metadata": {},
   "source": [
    "1. *List of 19 municipalities*  \n",
    "For the list of each 19 municipalities of Brussels, the Real Estate company found a Wikipedia page that includes the 19 municipalities with their corresponding postal codes. They will scrap the Wikipedia page to extract the table.  \n",
    "However, they still need to get the latitude and longitude coordinates for each postal code. For this they found a CSV file from the Open Data platform of Wallonia and Brussels that gives the full list of each postal code in Belgium combined with its respective longitude and latitude data.  "
   ]
  },
  {
   "cell_type": "markdown",
   "metadata": {},
   "source": [
    "2. *Categories of venues*  \n",
    "In order to get a list of venues and their categories the Real Estate company decides to use the Foursquare API and create a venue list based on the geographic coordinates identified previously.  "
   ]
  },
  {
   "cell_type": "markdown",
   "metadata": {},
   "source": [
    "To find a list of the 19 Brussels Municipalities the Real Estate company found the Wikipedia page that has a table that lists the 19 municipalities with their corresponding Postal Codes."
   ]
  },
  {
   "cell_type": "markdown",
   "metadata": {},
   "source": [
    "### 2.1 Scrapping and Cleaning the Wikipedia page <a class=\"anchor\" id=\"Scrapping_and_Cleaning\"></a>\n",
    "\n",
    "To start the company scrapes the Wikipedia page that hosts the Table of the different 19 municipalities of Brussels.  \n",
    "\n",
    "The first step is to install and import the different modules we will need to scrape and clean the Table. For this operation we will need Pandas and Numpy."
   ]
  },
  {
   "cell_type": "code",
   "execution_count": 1,
   "metadata": {},
   "outputs": [],
   "source": [
    "import pandas as pd\n",
    "import numpy as np"
   ]
  },
  {
   "cell_type": "markdown",
   "metadata": {},
   "source": [
    "To scrape the Wikipedia page the company decides to use the Pandas read_html method that returns HTML tables into a list of DataFrame objects.  They prefer this method to the BeautifulSoup package as the pandas method is more straightforward for extracting table data from a HTML page.\n",
    "\n",
    "The URL of the Wikipedia page that contains the Table is: \"https://fr.wikipedia.org/wiki/R%C3%A9gion_de_Bruxelles-Capitale\""
   ]
  },
  {
   "cell_type": "code",
   "execution_count": 2,
   "metadata": {},
   "outputs": [
    {
     "data": {
      "text/plain": [
       "16"
      ]
     },
     "execution_count": 2,
     "metadata": {},
     "output_type": "execute_result"
    }
   ],
   "source": [
    "url = 'https://fr.wikipedia.org/wiki/R%C3%A9gion_de_Bruxelles-Capitale'\n",
    "\n",
    "df_list = pd.read_html(url)\n",
    "\n",
    "len(df_list)"
   ]
  },
  {
   "cell_type": "markdown",
   "metadata": {},
   "source": [
    "We can see that read_html identified 16 different HTML tables. From navigating to the Wikipedia page we can identify that the table we are interested in is the second HTML table present. Therefore, let's only look at the second DataFrame object."
   ]
  },
  {
   "cell_type": "code",
   "execution_count": 3,
   "metadata": {},
   "outputs": [
    {
     "data": {
      "text/html": [
       "<div>\n",
       "<style scoped>\n",
       "    .dataframe tbody tr th:only-of-type {\n",
       "        vertical-align: middle;\n",
       "    }\n",
       "\n",
       "    .dataframe tbody tr th {\n",
       "        vertical-align: top;\n",
       "    }\n",
       "\n",
       "    .dataframe thead th {\n",
       "        text-align: right;\n",
       "    }\n",
       "</style>\n",
       "<table border=\"1\" class=\"dataframe\">\n",
       "  <thead>\n",
       "    <tr style=\"text-align: right;\">\n",
       "      <th></th>\n",
       "      <th>Repèresur lacarte</th>\n",
       "      <th>Commune</th>\n",
       "      <th>Code postal</th>\n",
       "      <th>Superficie(en km2)</th>\n",
       "      <th>Population(au 1/1/2009)</th>\n",
       "      <th>Population(au 1/1/2010)</th>\n",
       "      <th>Population(au 1/1/2016)</th>\n",
       "      <th>Population(au 1/1/2019)[36]</th>\n",
       "      <th>Population(au 1/1/2020)[37]</th>\n",
       "      <th>Évolution 2010-2020</th>\n",
       "      <th>Δ%</th>\n",
       "    </tr>\n",
       "  </thead>\n",
       "  <tbody>\n",
       "    <tr>\n",
       "      <th>0</th>\n",
       "      <td>1.0</td>\n",
       "      <td>Anderlecht</td>\n",
       "      <td>1070</td>\n",
       "      <td>1774</td>\n",
       "      <td>101 371</td>\n",
       "      <td>104 647</td>\n",
       "      <td>116 494</td>\n",
       "      <td>118 920</td>\n",
       "      <td>120 009</td>\n",
       "      <td>+ 15 362</td>\n",
       "      <td>+ 14,68 %</td>\n",
       "    </tr>\n",
       "    <tr>\n",
       "      <th>1</th>\n",
       "      <td>2.0</td>\n",
       "      <td>Auderghem</td>\n",
       "      <td>1160</td>\n",
       "      <td>903</td>\n",
       "      <td>30 456</td>\n",
       "      <td>30 811</td>\n",
       "      <td>33 085</td>\n",
       "      <td>33 970</td>\n",
       "      <td>34 342</td>\n",
       "      <td>+ 3 531</td>\n",
       "      <td>+ 11,46 %</td>\n",
       "    </tr>\n",
       "    <tr>\n",
       "      <th>2</th>\n",
       "      <td>3.0</td>\n",
       "      <td>Berchem-Sainte-Agathe</td>\n",
       "      <td>1082</td>\n",
       "      <td>295</td>\n",
       "      <td>21 669</td>\n",
       "      <td>22 185</td>\n",
       "      <td>24 176</td>\n",
       "      <td>25 195</td>\n",
       "      <td>25 195</td>\n",
       "      <td>+ 3 010</td>\n",
       "      <td>+ 13,56 %</td>\n",
       "    </tr>\n",
       "    <tr>\n",
       "      <th>3</th>\n",
       "      <td>4.0</td>\n",
       "      <td>Ville de Bruxelles : Bruxelles Laeken Neder-Ov...</td>\n",
       "      <td>Plusieurs : 1000, 1040, 1050 1020 1120 1130</td>\n",
       "      <td>3261</td>\n",
       "      <td>153 377</td>\n",
       "      <td>157 673</td>\n",
       "      <td>176 512</td>\n",
       "      <td>179 797</td>\n",
       "      <td>183 287</td>\n",
       "      <td>+ 25 614</td>\n",
       "      <td>+ 16,24 %</td>\n",
       "    </tr>\n",
       "    <tr>\n",
       "      <th>4</th>\n",
       "      <td>5.0</td>\n",
       "      <td>Etterbeek</td>\n",
       "      <td>1040</td>\n",
       "      <td>315</td>\n",
       "      <td>43 512</td>\n",
       "      <td>44 352</td>\n",
       "      <td>47 023</td>\n",
       "      <td>48 008</td>\n",
       "      <td>48 194</td>\n",
       "      <td>+ 3 842</td>\n",
       "      <td>+ 8,66 %</td>\n",
       "    </tr>\n",
       "  </tbody>\n",
       "</table>\n",
       "</div>"
      ],
      "text/plain": [
       "   Repèresur lacarte                                            Commune  \\\n",
       "0                1.0                                         Anderlecht   \n",
       "1                2.0                                          Auderghem   \n",
       "2                3.0                              Berchem-Sainte-Agathe   \n",
       "3                4.0  Ville de Bruxelles : Bruxelles Laeken Neder-Ov...   \n",
       "4                5.0                                          Etterbeek   \n",
       "\n",
       "                                   Code postal  Superficie(en km2)  \\\n",
       "0                                         1070                1774   \n",
       "1                                         1160                 903   \n",
       "2                                         1082                 295   \n",
       "3  Plusieurs : 1000, 1040, 1050 1020 1120 1130                3261   \n",
       "4                                         1040                 315   \n",
       "\n",
       "  Population(au 1/1/2009) Population(au 1/1/2010) Population(au 1/1/2016)  \\\n",
       "0                 101 371                 104 647                 116 494   \n",
       "1                  30 456                  30 811                  33 085   \n",
       "2                  21 669                  22 185                  24 176   \n",
       "3                 153 377                 157 673                 176 512   \n",
       "4                  43 512                  44 352                  47 023   \n",
       "\n",
       "  Population(au 1/1/2019)[36] Population(au 1/1/2020)[37] Évolution 2010-2020  \\\n",
       "0                     118 920                     120 009            + 15 362   \n",
       "1                      33 970                      34 342             + 3 531   \n",
       "2                      25 195                      25 195             + 3 010   \n",
       "3                     179 797                     183 287            + 25 614   \n",
       "4                      48 008                      48 194             + 3 842   \n",
       "\n",
       "          Δ%  \n",
       "0  + 14,68 %  \n",
       "1  + 11,46 %  \n",
       "2  + 13,56 %  \n",
       "3  + 16,24 %  \n",
       "4   + 8,66 %  "
      ]
     },
     "execution_count": 3,
     "metadata": {},
     "output_type": "execute_result"
    }
   ],
   "source": [
    "brussels_list = df_list[1]\n",
    "\n",
    "brussels_list.head()"
   ]
  },
  {
   "cell_type": "markdown",
   "metadata": {},
   "source": [
    "From the above DataFrame we can see that the table includes a lot of information that we don't need for the moment. Let's only keep the relevant columns, \"Commune\" and \"Code postal\" which translates into \"municipalities\" and \"Postal Code\". "
   ]
  },
  {
   "cell_type": "code",
   "execution_count": 4,
   "metadata": {},
   "outputs": [
    {
     "data": {
      "text/html": [
       "<div>\n",
       "<style scoped>\n",
       "    .dataframe tbody tr th:only-of-type {\n",
       "        vertical-align: middle;\n",
       "    }\n",
       "\n",
       "    .dataframe tbody tr th {\n",
       "        vertical-align: top;\n",
       "    }\n",
       "\n",
       "    .dataframe thead th {\n",
       "        text-align: right;\n",
       "    }\n",
       "</style>\n",
       "<table border=\"1\" class=\"dataframe\">\n",
       "  <thead>\n",
       "    <tr style=\"text-align: right;\">\n",
       "      <th></th>\n",
       "      <th>Commune</th>\n",
       "      <th>Code postal</th>\n",
       "    </tr>\n",
       "  </thead>\n",
       "  <tbody>\n",
       "    <tr>\n",
       "      <th>0</th>\n",
       "      <td>Anderlecht</td>\n",
       "      <td>1070</td>\n",
       "    </tr>\n",
       "    <tr>\n",
       "      <th>1</th>\n",
       "      <td>Auderghem</td>\n",
       "      <td>1160</td>\n",
       "    </tr>\n",
       "    <tr>\n",
       "      <th>2</th>\n",
       "      <td>Berchem-Sainte-Agathe</td>\n",
       "      <td>1082</td>\n",
       "    </tr>\n",
       "    <tr>\n",
       "      <th>3</th>\n",
       "      <td>Ville de Bruxelles : Bruxelles Laeken Neder-Ov...</td>\n",
       "      <td>Plusieurs : 1000, 1040, 1050 1020 1120 1130</td>\n",
       "    </tr>\n",
       "    <tr>\n",
       "      <th>4</th>\n",
       "      <td>Etterbeek</td>\n",
       "      <td>1040</td>\n",
       "    </tr>\n",
       "    <tr>\n",
       "      <th>5</th>\n",
       "      <td>Evere</td>\n",
       "      <td>1140</td>\n",
       "    </tr>\n",
       "    <tr>\n",
       "      <th>6</th>\n",
       "      <td>Forest</td>\n",
       "      <td>1190</td>\n",
       "    </tr>\n",
       "    <tr>\n",
       "      <th>7</th>\n",
       "      <td>Ganshoren</td>\n",
       "      <td>1083</td>\n",
       "    </tr>\n",
       "    <tr>\n",
       "      <th>8</th>\n",
       "      <td>Ixelles</td>\n",
       "      <td>1050</td>\n",
       "    </tr>\n",
       "    <tr>\n",
       "      <th>9</th>\n",
       "      <td>Jette</td>\n",
       "      <td>1090</td>\n",
       "    </tr>\n",
       "    <tr>\n",
       "      <th>10</th>\n",
       "      <td>Koekelberg</td>\n",
       "      <td>1081</td>\n",
       "    </tr>\n",
       "    <tr>\n",
       "      <th>11</th>\n",
       "      <td>Molenbeek-Saint-Jean</td>\n",
       "      <td>1080</td>\n",
       "    </tr>\n",
       "    <tr>\n",
       "      <th>12</th>\n",
       "      <td>Saint-Gilles</td>\n",
       "      <td>1060</td>\n",
       "    </tr>\n",
       "    <tr>\n",
       "      <th>13</th>\n",
       "      <td>Saint-Josse-ten-Noode</td>\n",
       "      <td>1210</td>\n",
       "    </tr>\n",
       "    <tr>\n",
       "      <th>14</th>\n",
       "      <td>Schaerbeek</td>\n",
       "      <td>1030</td>\n",
       "    </tr>\n",
       "    <tr>\n",
       "      <th>15</th>\n",
       "      <td>Uccle</td>\n",
       "      <td>1180</td>\n",
       "    </tr>\n",
       "    <tr>\n",
       "      <th>16</th>\n",
       "      <td>Watermael-Boitsfort</td>\n",
       "      <td>1170</td>\n",
       "    </tr>\n",
       "    <tr>\n",
       "      <th>17</th>\n",
       "      <td>Woluwe-Saint-Lambert</td>\n",
       "      <td>1200</td>\n",
       "    </tr>\n",
       "    <tr>\n",
       "      <th>18</th>\n",
       "      <td>Woluwe-Saint-Pierre</td>\n",
       "      <td>1150</td>\n",
       "    </tr>\n",
       "    <tr>\n",
       "      <th>19</th>\n",
       "      <td>Totaux</td>\n",
       "      <td>NaN</td>\n",
       "    </tr>\n",
       "  </tbody>\n",
       "</table>\n",
       "</div>"
      ],
      "text/plain": [
       "                                              Commune  \\\n",
       "0                                          Anderlecht   \n",
       "1                                           Auderghem   \n",
       "2                               Berchem-Sainte-Agathe   \n",
       "3   Ville de Bruxelles : Bruxelles Laeken Neder-Ov...   \n",
       "4                                           Etterbeek   \n",
       "5                                               Evere   \n",
       "6                                              Forest   \n",
       "7                                           Ganshoren   \n",
       "8                                             Ixelles   \n",
       "9                                               Jette   \n",
       "10                                         Koekelberg   \n",
       "11                               Molenbeek-Saint-Jean   \n",
       "12                                       Saint-Gilles   \n",
       "13                              Saint-Josse-ten-Noode   \n",
       "14                                         Schaerbeek   \n",
       "15                                              Uccle   \n",
       "16                                Watermael-Boitsfort   \n",
       "17                               Woluwe-Saint-Lambert   \n",
       "18                                Woluwe-Saint-Pierre   \n",
       "19                                             Totaux   \n",
       "\n",
       "                                    Code postal  \n",
       "0                                          1070  \n",
       "1                                          1160  \n",
       "2                                          1082  \n",
       "3   Plusieurs : 1000, 1040, 1050 1020 1120 1130  \n",
       "4                                          1040  \n",
       "5                                          1140  \n",
       "6                                          1190  \n",
       "7                                          1083  \n",
       "8                                          1050  \n",
       "9                                          1090  \n",
       "10                                         1081  \n",
       "11                                         1080  \n",
       "12                                         1060  \n",
       "13                                         1210  \n",
       "14                                         1030  \n",
       "15                                         1180  \n",
       "16                                         1170  \n",
       "17                                         1200  \n",
       "18                                         1150  \n",
       "19                                          NaN  "
      ]
     },
     "execution_count": 4,
     "metadata": {},
     "output_type": "execute_result"
    }
   ],
   "source": [
    "brussels_list =  brussels_list [['Commune', 'Code postal']]\n",
    "\n",
    "brussels_list"
   ]
  },
  {
   "cell_type": "markdown",
   "metadata": {},
   "source": [
    "The table looks clean. However, we can see that the fourth row has more than one name and more than one postal code. That's because the central municipality of Brussels includes, aside of itself 3 other regions that formerly were seperate municipalities but are now attached to the municipality of Brussels. As they were formerly municipalities these 3 regions have distinct postal codes.  \n",
    "\n",
    "Therefore, we will add these regions to the complete DataFrame.  \n",
    "\n",
    "First let's have a look to the fourth row in detail."
   ]
  },
  {
   "cell_type": "code",
   "execution_count": 5,
   "metadata": {},
   "outputs": [
    {
     "data": {
      "text/plain": [
       "Commune        Ville de Bruxelles : Bruxelles Laeken Neder-Ov...\n",
       "Code postal          Plusieurs : 1000, 1040, 1050 1020 1120 1130\n",
       "Name: 3, dtype: object"
      ]
     },
     "execution_count": 5,
     "metadata": {},
     "output_type": "execute_result"
    }
   ],
   "source": [
    "city_brussels_PostalCode = brussels_list.iloc[3]\n",
    "\n",
    "city_brussels_PostalCode"
   ]
  },
  {
   "cell_type": "code",
   "execution_count": 6,
   "metadata": {},
   "outputs": [
    {
     "name": "stdout",
     "output_type": "stream",
     "text": [
      "Ville de Bruxelles : Bruxelles Laeken Neder-Over-Heembeek Haren\n"
     ]
    }
   ],
   "source": [
    "city_brussels_name = city_brussels_PostalCode['Commune']\n",
    "\n",
    "print(city_brussels_name)"
   ]
  },
  {
   "cell_type": "markdown",
   "metadata": {},
   "source": [
    "We can see that the row includes 4 distinct names. Namely: Bruxelles, Laeken, Neder-Over-Heembeek, and Haren. Therefore, let's create a list that includes these 4 municipalities names. "
   ]
  },
  {
   "cell_type": "code",
   "execution_count": 7,
   "metadata": {},
   "outputs": [
    {
     "data": {
      "text/plain": [
       "['Ville',\n",
       " 'de',\n",
       " 'Bruxelles\\xa0:',\n",
       " 'Bruxelles',\n",
       " 'Laeken',\n",
       " 'Neder-Over-Heembeek',\n",
       " 'Haren']"
      ]
     },
     "execution_count": 7,
     "metadata": {},
     "output_type": "execute_result"
    }
   ],
   "source": [
    "city_brussels_name_list = city_brussels_name.split(\" \")\n",
    "city_brussels_name_list"
   ]
  },
  {
   "cell_type": "code",
   "execution_count": 8,
   "metadata": {},
   "outputs": [
    {
     "data": {
      "text/plain": [
       "['Bruxelles', 'Laeken', 'Neder-Over-Heembeek', 'Haren']"
      ]
     },
     "execution_count": 8,
     "metadata": {},
     "output_type": "execute_result"
    }
   ],
   "source": [
    "city_brussels_name_lists = city_brussels_name_list[3:7]\n",
    "\n",
    "city_brussels_name_lists"
   ]
  },
  {
   "cell_type": "markdown",
   "metadata": {},
   "source": [
    "Let's have a look at the postal codes in this row. "
   ]
  },
  {
   "cell_type": "code",
   "execution_count": 9,
   "metadata": {},
   "outputs": [
    {
     "data": {
      "text/plain": [
       "['Plusieurs\\xa0:', '1000,', '1040,', '1050', '1020', '1120', '1130']"
      ]
     },
     "execution_count": 9,
     "metadata": {},
     "output_type": "execute_result"
    }
   ],
   "source": [
    "city_brussels_PostalCode_lists = city_brussels_PostalCode['Code postal'].split(\" \")\n",
    "\n",
    "city_brussels_PostalCode_lists"
   ]
  },
  {
   "cell_type": "markdown",
   "metadata": {},
   "source": [
    "We can see that there are more postal codes than names. That's because \"Bruxelles\" had a sub-list of postal codes; 1000, 1040, and 1050. "
   ]
  },
  {
   "cell_type": "code",
   "execution_count": 10,
   "metadata": {},
   "outputs": [
    {
     "data": {
      "text/plain": [
       "['1000,', '1040,', '1050', '1020', '1120', '1130']"
      ]
     },
     "execution_count": 10,
     "metadata": {},
     "output_type": "execute_result"
    }
   ],
   "source": [
    "city_brussels_PostalCode_lists = city_brussels_PostalCode_lists[1:7]\n",
    "\n",
    "city_brussels_PostalCode_lists"
   ]
  },
  {
   "cell_type": "markdown",
   "metadata": {},
   "source": [
    "Upon further inspection we can see that two of these postal codes; 1040 and 1050, are already present in the table. Therefore, we will only keep 1000 for Bruxelles."
   ]
  },
  {
   "cell_type": "code",
   "execution_count": 11,
   "metadata": {},
   "outputs": [],
   "source": [
    "del city_brussels_PostalCode_lists[1:3]"
   ]
  },
  {
   "cell_type": "markdown",
   "metadata": {},
   "source": [
    "The last step is to remove the comma that appears after 1000."
   ]
  },
  {
   "cell_type": "code",
   "execution_count": 12,
   "metadata": {},
   "outputs": [
    {
     "data": {
      "text/plain": [
       "['1000', '1020', '1120', '1130']"
      ]
     },
     "execution_count": 12,
     "metadata": {},
     "output_type": "execute_result"
    }
   ],
   "source": [
    "city_brussels_PostalCode_lists = [city_brussels_PostalCode_lists[0].replace('1000,', '1000'), city_brussels_PostalCode_lists[1],city_brussels_PostalCode_lists[2], city_brussels_PostalCode_lists[3]]\n",
    "\n",
    "city_brussels_PostalCode_lists"
   ]
  },
  {
   "cell_type": "markdown",
   "metadata": {},
   "source": [
    "With both list clean we are ready to merge them and create a sub-DataFrame."
   ]
  },
  {
   "cell_type": "code",
   "execution_count": 13,
   "metadata": {},
   "outputs": [
    {
     "data": {
      "text/html": [
       "<div>\n",
       "<style scoped>\n",
       "    .dataframe tbody tr th:only-of-type {\n",
       "        vertical-align: middle;\n",
       "    }\n",
       "\n",
       "    .dataframe tbody tr th {\n",
       "        vertical-align: top;\n",
       "    }\n",
       "\n",
       "    .dataframe thead th {\n",
       "        text-align: right;\n",
       "    }\n",
       "</style>\n",
       "<table border=\"1\" class=\"dataframe\">\n",
       "  <thead>\n",
       "    <tr style=\"text-align: right;\">\n",
       "      <th></th>\n",
       "      <th>Commune</th>\n",
       "      <th>Code postal</th>\n",
       "    </tr>\n",
       "  </thead>\n",
       "  <tbody>\n",
       "    <tr>\n",
       "      <th>0</th>\n",
       "      <td>Bruxelles</td>\n",
       "      <td>1000</td>\n",
       "    </tr>\n",
       "    <tr>\n",
       "      <th>1</th>\n",
       "      <td>Laeken</td>\n",
       "      <td>1020</td>\n",
       "    </tr>\n",
       "    <tr>\n",
       "      <th>2</th>\n",
       "      <td>Neder-Over-Heembeek</td>\n",
       "      <td>1120</td>\n",
       "    </tr>\n",
       "    <tr>\n",
       "      <th>3</th>\n",
       "      <td>Haren</td>\n",
       "      <td>1130</td>\n",
       "    </tr>\n",
       "  </tbody>\n",
       "</table>\n",
       "</div>"
      ],
      "text/plain": [
       "               Commune Code postal\n",
       "0            Bruxelles        1000\n",
       "1               Laeken        1020\n",
       "2  Neder-Over-Heembeek        1120\n",
       "3                Haren        1130"
      ]
     },
     "execution_count": 13,
     "metadata": {},
     "output_type": "execute_result"
    }
   ],
   "source": [
    "brussels_city_df = pd.DataFrame({'Commune':city_brussels_name_lists, 'Code postal': city_brussels_PostalCode_lists})\n",
    "\n",
    "brussels_city_df"
   ]
  },
  {
   "cell_type": "markdown",
   "metadata": {},
   "source": [
    "Now its time to fuse the two DataFrames together."
   ]
  },
  {
   "cell_type": "code",
   "execution_count": 14,
   "metadata": {},
   "outputs": [
    {
     "data": {
      "text/html": [
       "<div>\n",
       "<style scoped>\n",
       "    .dataframe tbody tr th:only-of-type {\n",
       "        vertical-align: middle;\n",
       "    }\n",
       "\n",
       "    .dataframe tbody tr th {\n",
       "        vertical-align: top;\n",
       "    }\n",
       "\n",
       "    .dataframe thead th {\n",
       "        text-align: right;\n",
       "    }\n",
       "</style>\n",
       "<table border=\"1\" class=\"dataframe\">\n",
       "  <thead>\n",
       "    <tr style=\"text-align: right;\">\n",
       "      <th></th>\n",
       "      <th>Commune</th>\n",
       "      <th>Code postal</th>\n",
       "    </tr>\n",
       "  </thead>\n",
       "  <tbody>\n",
       "    <tr>\n",
       "      <th>0</th>\n",
       "      <td>Anderlecht</td>\n",
       "      <td>1070</td>\n",
       "    </tr>\n",
       "    <tr>\n",
       "      <th>1</th>\n",
       "      <td>Auderghem</td>\n",
       "      <td>1160</td>\n",
       "    </tr>\n",
       "    <tr>\n",
       "      <th>2</th>\n",
       "      <td>Berchem-Sainte-Agathe</td>\n",
       "      <td>1082</td>\n",
       "    </tr>\n",
       "    <tr>\n",
       "      <th>3</th>\n",
       "      <td>Ville de Bruxelles : Bruxelles Laeken Neder-Ov...</td>\n",
       "      <td>Plusieurs : 1000, 1040, 1050 1020 1120 1130</td>\n",
       "    </tr>\n",
       "    <tr>\n",
       "      <th>4</th>\n",
       "      <td>Etterbeek</td>\n",
       "      <td>1040</td>\n",
       "    </tr>\n",
       "    <tr>\n",
       "      <th>5</th>\n",
       "      <td>Evere</td>\n",
       "      <td>1140</td>\n",
       "    </tr>\n",
       "    <tr>\n",
       "      <th>6</th>\n",
       "      <td>Forest</td>\n",
       "      <td>1190</td>\n",
       "    </tr>\n",
       "    <tr>\n",
       "      <th>7</th>\n",
       "      <td>Ganshoren</td>\n",
       "      <td>1083</td>\n",
       "    </tr>\n",
       "    <tr>\n",
       "      <th>8</th>\n",
       "      <td>Ixelles</td>\n",
       "      <td>1050</td>\n",
       "    </tr>\n",
       "    <tr>\n",
       "      <th>9</th>\n",
       "      <td>Jette</td>\n",
       "      <td>1090</td>\n",
       "    </tr>\n",
       "    <tr>\n",
       "      <th>10</th>\n",
       "      <td>Koekelberg</td>\n",
       "      <td>1081</td>\n",
       "    </tr>\n",
       "    <tr>\n",
       "      <th>11</th>\n",
       "      <td>Molenbeek-Saint-Jean</td>\n",
       "      <td>1080</td>\n",
       "    </tr>\n",
       "    <tr>\n",
       "      <th>12</th>\n",
       "      <td>Saint-Gilles</td>\n",
       "      <td>1060</td>\n",
       "    </tr>\n",
       "    <tr>\n",
       "      <th>13</th>\n",
       "      <td>Saint-Josse-ten-Noode</td>\n",
       "      <td>1210</td>\n",
       "    </tr>\n",
       "    <tr>\n",
       "      <th>14</th>\n",
       "      <td>Schaerbeek</td>\n",
       "      <td>1030</td>\n",
       "    </tr>\n",
       "    <tr>\n",
       "      <th>15</th>\n",
       "      <td>Uccle</td>\n",
       "      <td>1180</td>\n",
       "    </tr>\n",
       "    <tr>\n",
       "      <th>16</th>\n",
       "      <td>Watermael-Boitsfort</td>\n",
       "      <td>1170</td>\n",
       "    </tr>\n",
       "    <tr>\n",
       "      <th>17</th>\n",
       "      <td>Woluwe-Saint-Lambert</td>\n",
       "      <td>1200</td>\n",
       "    </tr>\n",
       "    <tr>\n",
       "      <th>18</th>\n",
       "      <td>Woluwe-Saint-Pierre</td>\n",
       "      <td>1150</td>\n",
       "    </tr>\n",
       "    <tr>\n",
       "      <th>19</th>\n",
       "      <td>Totaux</td>\n",
       "      <td>NaN</td>\n",
       "    </tr>\n",
       "    <tr>\n",
       "      <th>20</th>\n",
       "      <td>Bruxelles</td>\n",
       "      <td>1000</td>\n",
       "    </tr>\n",
       "    <tr>\n",
       "      <th>21</th>\n",
       "      <td>Laeken</td>\n",
       "      <td>1020</td>\n",
       "    </tr>\n",
       "    <tr>\n",
       "      <th>22</th>\n",
       "      <td>Neder-Over-Heembeek</td>\n",
       "      <td>1120</td>\n",
       "    </tr>\n",
       "    <tr>\n",
       "      <th>23</th>\n",
       "      <td>Haren</td>\n",
       "      <td>1130</td>\n",
       "    </tr>\n",
       "  </tbody>\n",
       "</table>\n",
       "</div>"
      ],
      "text/plain": [
       "                                              Commune  \\\n",
       "0                                          Anderlecht   \n",
       "1                                           Auderghem   \n",
       "2                               Berchem-Sainte-Agathe   \n",
       "3   Ville de Bruxelles : Bruxelles Laeken Neder-Ov...   \n",
       "4                                           Etterbeek   \n",
       "5                                               Evere   \n",
       "6                                              Forest   \n",
       "7                                           Ganshoren   \n",
       "8                                             Ixelles   \n",
       "9                                               Jette   \n",
       "10                                         Koekelberg   \n",
       "11                               Molenbeek-Saint-Jean   \n",
       "12                                       Saint-Gilles   \n",
       "13                              Saint-Josse-ten-Noode   \n",
       "14                                         Schaerbeek   \n",
       "15                                              Uccle   \n",
       "16                                Watermael-Boitsfort   \n",
       "17                               Woluwe-Saint-Lambert   \n",
       "18                                Woluwe-Saint-Pierre   \n",
       "19                                             Totaux   \n",
       "20                                          Bruxelles   \n",
       "21                                             Laeken   \n",
       "22                                Neder-Over-Heembeek   \n",
       "23                                              Haren   \n",
       "\n",
       "                                    Code postal  \n",
       "0                                          1070  \n",
       "1                                          1160  \n",
       "2                                          1082  \n",
       "3   Plusieurs : 1000, 1040, 1050 1020 1120 1130  \n",
       "4                                          1040  \n",
       "5                                          1140  \n",
       "6                                          1190  \n",
       "7                                          1083  \n",
       "8                                          1050  \n",
       "9                                          1090  \n",
       "10                                         1081  \n",
       "11                                         1080  \n",
       "12                                         1060  \n",
       "13                                         1210  \n",
       "14                                         1030  \n",
       "15                                         1180  \n",
       "16                                         1170  \n",
       "17                                         1200  \n",
       "18                                         1150  \n",
       "19                                          NaN  \n",
       "20                                         1000  \n",
       "21                                         1020  \n",
       "22                                         1120  \n",
       "23                                         1130  "
      ]
     },
     "execution_count": 14,
     "metadata": {},
     "output_type": "execute_result"
    }
   ],
   "source": [
    "full_df = brussels_list.append(brussels_city_df, ignore_index=True)\n",
    "\n",
    "full_df"
   ]
  },
  {
   "cell_type": "markdown",
   "metadata": {},
   "source": [
    "We can see that this Dataframe still includes the 'faulty' row. Furthermore, it includes a Total row that has a *NaN* value. Therefore, let's drop these two rows."
   ]
  },
  {
   "cell_type": "code",
   "execution_count": 15,
   "metadata": {},
   "outputs": [],
   "source": [
    "full_df.drop([3, 19], inplace=True)"
   ]
  },
  {
   "cell_type": "markdown",
   "metadata": {},
   "source": [
    "Lastly, let's sort the DataFrame by increasing number of postal code."
   ]
  },
  {
   "cell_type": "code",
   "execution_count": 16,
   "metadata": {},
   "outputs": [
    {
     "data": {
      "text/html": [
       "<div>\n",
       "<style scoped>\n",
       "    .dataframe tbody tr th:only-of-type {\n",
       "        vertical-align: middle;\n",
       "    }\n",
       "\n",
       "    .dataframe tbody tr th {\n",
       "        vertical-align: top;\n",
       "    }\n",
       "\n",
       "    .dataframe thead th {\n",
       "        text-align: right;\n",
       "    }\n",
       "</style>\n",
       "<table border=\"1\" class=\"dataframe\">\n",
       "  <thead>\n",
       "    <tr style=\"text-align: right;\">\n",
       "      <th></th>\n",
       "      <th>Commune</th>\n",
       "      <th>Code postal</th>\n",
       "    </tr>\n",
       "  </thead>\n",
       "  <tbody>\n",
       "    <tr>\n",
       "      <th>0</th>\n",
       "      <td>Bruxelles</td>\n",
       "      <td>1000</td>\n",
       "    </tr>\n",
       "    <tr>\n",
       "      <th>1</th>\n",
       "      <td>Laeken</td>\n",
       "      <td>1020</td>\n",
       "    </tr>\n",
       "    <tr>\n",
       "      <th>2</th>\n",
       "      <td>Schaerbeek</td>\n",
       "      <td>1030</td>\n",
       "    </tr>\n",
       "    <tr>\n",
       "      <th>3</th>\n",
       "      <td>Etterbeek</td>\n",
       "      <td>1040</td>\n",
       "    </tr>\n",
       "    <tr>\n",
       "      <th>4</th>\n",
       "      <td>Ixelles</td>\n",
       "      <td>1050</td>\n",
       "    </tr>\n",
       "    <tr>\n",
       "      <th>5</th>\n",
       "      <td>Saint-Gilles</td>\n",
       "      <td>1060</td>\n",
       "    </tr>\n",
       "    <tr>\n",
       "      <th>6</th>\n",
       "      <td>Anderlecht</td>\n",
       "      <td>1070</td>\n",
       "    </tr>\n",
       "    <tr>\n",
       "      <th>7</th>\n",
       "      <td>Molenbeek-Saint-Jean</td>\n",
       "      <td>1080</td>\n",
       "    </tr>\n",
       "    <tr>\n",
       "      <th>8</th>\n",
       "      <td>Koekelberg</td>\n",
       "      <td>1081</td>\n",
       "    </tr>\n",
       "    <tr>\n",
       "      <th>9</th>\n",
       "      <td>Berchem-Sainte-Agathe</td>\n",
       "      <td>1082</td>\n",
       "    </tr>\n",
       "    <tr>\n",
       "      <th>10</th>\n",
       "      <td>Ganshoren</td>\n",
       "      <td>1083</td>\n",
       "    </tr>\n",
       "    <tr>\n",
       "      <th>11</th>\n",
       "      <td>Jette</td>\n",
       "      <td>1090</td>\n",
       "    </tr>\n",
       "    <tr>\n",
       "      <th>12</th>\n",
       "      <td>Neder-Over-Heembeek</td>\n",
       "      <td>1120</td>\n",
       "    </tr>\n",
       "    <tr>\n",
       "      <th>13</th>\n",
       "      <td>Haren</td>\n",
       "      <td>1130</td>\n",
       "    </tr>\n",
       "    <tr>\n",
       "      <th>14</th>\n",
       "      <td>Evere</td>\n",
       "      <td>1140</td>\n",
       "    </tr>\n",
       "    <tr>\n",
       "      <th>15</th>\n",
       "      <td>Woluwe-Saint-Pierre</td>\n",
       "      <td>1150</td>\n",
       "    </tr>\n",
       "    <tr>\n",
       "      <th>16</th>\n",
       "      <td>Auderghem</td>\n",
       "      <td>1160</td>\n",
       "    </tr>\n",
       "    <tr>\n",
       "      <th>17</th>\n",
       "      <td>Watermael-Boitsfort</td>\n",
       "      <td>1170</td>\n",
       "    </tr>\n",
       "    <tr>\n",
       "      <th>18</th>\n",
       "      <td>Uccle</td>\n",
       "      <td>1180</td>\n",
       "    </tr>\n",
       "    <tr>\n",
       "      <th>19</th>\n",
       "      <td>Forest</td>\n",
       "      <td>1190</td>\n",
       "    </tr>\n",
       "    <tr>\n",
       "      <th>20</th>\n",
       "      <td>Woluwe-Saint-Lambert</td>\n",
       "      <td>1200</td>\n",
       "    </tr>\n",
       "    <tr>\n",
       "      <th>21</th>\n",
       "      <td>Saint-Josse-ten-Noode</td>\n",
       "      <td>1210</td>\n",
       "    </tr>\n",
       "  </tbody>\n",
       "</table>\n",
       "</div>"
      ],
      "text/plain": [
       "                  Commune Code postal\n",
       "0               Bruxelles        1000\n",
       "1                  Laeken        1020\n",
       "2              Schaerbeek        1030\n",
       "3               Etterbeek        1040\n",
       "4                 Ixelles        1050\n",
       "5            Saint-Gilles        1060\n",
       "6              Anderlecht        1070\n",
       "7    Molenbeek-Saint-Jean        1080\n",
       "8              Koekelberg        1081\n",
       "9   Berchem-Sainte-Agathe        1082\n",
       "10              Ganshoren        1083\n",
       "11                  Jette        1090\n",
       "12    Neder-Over-Heembeek        1120\n",
       "13                  Haren        1130\n",
       "14                  Evere        1140\n",
       "15    Woluwe-Saint-Pierre        1150\n",
       "16              Auderghem        1160\n",
       "17    Watermael-Boitsfort        1170\n",
       "18                  Uccle        1180\n",
       "19                 Forest        1190\n",
       "20   Woluwe-Saint-Lambert        1200\n",
       "21  Saint-Josse-ten-Noode        1210"
      ]
     },
     "execution_count": 16,
     "metadata": {},
     "output_type": "execute_result"
    }
   ],
   "source": [
    "full_df.sort_values(by=['Code postal'], ignore_index=True)"
   ]
  },
  {
   "cell_type": "code",
   "execution_count": 17,
   "metadata": {},
   "outputs": [
    {
     "data": {
      "text/plain": [
       "(22, 2)"
      ]
     },
     "execution_count": 17,
     "metadata": {},
     "output_type": "execute_result"
    }
   ],
   "source": [
    "full_df.shape"
   ]
  },
  {
   "cell_type": "markdown",
   "metadata": {},
   "source": [
    "We see that the DataFrame now includes 21 postal codes, which corresponds to the 19 municipalities of Brussels plus the two added sub-regions of the Brussels municipality."
   ]
  },
  {
   "cell_type": "markdown",
   "metadata": {},
   "source": [
    "In order to get the longitutde and latitude coordinates of the 19 different municipalities, the Real Estate company has access to the Open Data website of Wallonia and Brussels that hosts a CSV file listing all Belgian Postal Codes with the names of the municipalities as well as their longitude and latitudes.\n",
    "\n",
    "\n",
    "## 2.2 Adding the Latitude and Longitude data to the municipalities. <a class=\"anchor\" id=\"Latitude_and_Longitude\"></a>\n",
    "\n",
    "In this section we will explore how to add the Latitude and Longitude coordinates to the municipalities using the postal codes as an index. \n",
    "\n",
    "The CSV used is openly accessible from the Open Data Wallonie-Bruxelles platform. [Link](https://www.odwb.be/explore/dataset/code-postaux-belge/information/)\n",
    "\n",
    "As this CSV uses a semicolon to seperate the data we will have to specify this when reading the CSV into a DataFrame."
   ]
  },
  {
   "cell_type": "code",
   "execution_count": 18,
   "metadata": {},
   "outputs": [
    {
     "data": {
      "text/html": [
       "<div>\n",
       "<style scoped>\n",
       "    .dataframe tbody tr th:only-of-type {\n",
       "        vertical-align: middle;\n",
       "    }\n",
       "\n",
       "    .dataframe tbody tr th {\n",
       "        vertical-align: top;\n",
       "    }\n",
       "\n",
       "    .dataframe thead th {\n",
       "        text-align: right;\n",
       "    }\n",
       "</style>\n",
       "<table border=\"1\" class=\"dataframe\">\n",
       "  <thead>\n",
       "    <tr style=\"text-align: right;\">\n",
       "      <th></th>\n",
       "      <th>Code</th>\n",
       "      <th>Localite</th>\n",
       "      <th>Longitude</th>\n",
       "      <th>Latitude</th>\n",
       "      <th>Coordonnees</th>\n",
       "      <th>Geom</th>\n",
       "    </tr>\n",
       "  </thead>\n",
       "  <tbody>\n",
       "    <tr>\n",
       "      <th>0</th>\n",
       "      <td>1020</td>\n",
       "      <td>Laeken</td>\n",
       "      <td>4.348713</td>\n",
       "      <td>50.883392</td>\n",
       "      <td>50.883392,4.3487134</td>\n",
       "      <td>NaN</td>\n",
       "    </tr>\n",
       "    <tr>\n",
       "      <th>1</th>\n",
       "      <td>1030</td>\n",
       "      <td>Schaerbeek</td>\n",
       "      <td>4.373712</td>\n",
       "      <td>50.867604</td>\n",
       "      <td>50.8676041,4.3737121</td>\n",
       "      <td>NaN</td>\n",
       "    </tr>\n",
       "    <tr>\n",
       "      <th>2</th>\n",
       "      <td>1090</td>\n",
       "      <td>Jette</td>\n",
       "      <td>4.326090</td>\n",
       "      <td>50.877763</td>\n",
       "      <td>50.8777634,4.3260903</td>\n",
       "      <td>NaN</td>\n",
       "    </tr>\n",
       "    <tr>\n",
       "      <th>3</th>\n",
       "      <td>1140</td>\n",
       "      <td>Evere</td>\n",
       "      <td>4.402160</td>\n",
       "      <td>50.870452</td>\n",
       "      <td>50.8704524,4.4021602</td>\n",
       "      <td>NaN</td>\n",
       "    </tr>\n",
       "    <tr>\n",
       "      <th>4</th>\n",
       "      <td>1170</td>\n",
       "      <td>Watermael-Boitsfort</td>\n",
       "      <td>4.415818</td>\n",
       "      <td>50.799394</td>\n",
       "      <td>50.799394,4.4158177</td>\n",
       "      <td>NaN</td>\n",
       "    </tr>\n",
       "  </tbody>\n",
       "</table>\n",
       "</div>"
      ],
      "text/plain": [
       "   Code             Localite  Longitude   Latitude           Coordonnees  Geom\n",
       "0  1020               Laeken   4.348713  50.883392   50.883392,4.3487134   NaN\n",
       "1  1030           Schaerbeek   4.373712  50.867604  50.8676041,4.3737121   NaN\n",
       "2  1090                Jette   4.326090  50.877763  50.8777634,4.3260903   NaN\n",
       "3  1140                Evere   4.402160  50.870452  50.8704524,4.4021602   NaN\n",
       "4  1170  Watermael-Boitsfort   4.415818  50.799394   50.799394,4.4158177   NaN"
      ]
     },
     "execution_count": 18,
     "metadata": {},
     "output_type": "execute_result"
    }
   ],
   "source": [
    "csv = 'https://www.odwb.be/explore/dataset/code-postaux-belge/download/?format=csv&timezone=Europe/Berlin&lang=fr&use_labels_for_header=true&csv_separator=%3B'\n",
    "\n",
    "lat_long = pd.read_csv(csv, sep=';')\n",
    "\n",
    "lat_long.head()"
   ]
  },
  {
   "cell_type": "markdown",
   "metadata": {},
   "source": [
    "Like before, we don't need all the columns present in the CSV. The columns that interest us are the Longitude and Latitude. Furthermore, we will need one column to act as a key when we will merge the two DataFrame together. As the postal code is unique the 'Code' column will also have to be kept."
   ]
  },
  {
   "cell_type": "code",
   "execution_count": 19,
   "metadata": {},
   "outputs": [],
   "source": [
    "lat_long = lat_long[['Code', 'Latitude', 'Longitude']]"
   ]
  },
  {
   "cell_type": "markdown",
   "metadata": {},
   "source": [
    "Moreover, in order to use the postal code as an index we will have to rename the column to match the column of the postal code in our **brussels_df** DataFrame. "
   ]
  },
  {
   "cell_type": "code",
   "execution_count": 20,
   "metadata": {},
   "outputs": [],
   "source": [
    "lat_long.rename(columns = {'Code': 'Code postal'}, inplace = True)"
   ]
  },
  {
   "cell_type": "markdown",
   "metadata": {},
   "source": [
    "We are ready to merge the **full_df** DataFrame with the **lat_long** DataFrame on the common column 'Code postal'. \n",
    "This will add the latitude and longitude coordinate to each municipality identified previously."
   ]
  },
  {
   "cell_type": "code",
   "execution_count": 21,
   "metadata": {},
   "outputs": [],
   "source": [
    "# brussels_df = full_df.merge(lat_long,on=['Code postal'])"
   ]
  },
  {
   "cell_type": "markdown",
   "metadata": {},
   "source": [
    "The error message indicated that the columns in the two DataFrames 'Code postal' used as a unique key don't have the same datatype. Let's have a look at both DataFrames and identify the data types of each column."
   ]
  },
  {
   "cell_type": "code",
   "execution_count": 22,
   "metadata": {},
   "outputs": [
    {
     "data": {
      "text/plain": [
       "Commune        object\n",
       "Code postal    object\n",
       "dtype: object"
      ]
     },
     "execution_count": 22,
     "metadata": {},
     "output_type": "execute_result"
    }
   ],
   "source": [
    "full_df.dtypes"
   ]
  },
  {
   "cell_type": "markdown",
   "metadata": {},
   "source": [
    "We can see that the two columns of the **full_df** DataFrame have the data type object. This is correct for the 'Commune' columns as we are speaking about the names of the municipalities. However, the 'Code postal' column should not have the object datatype but a numeric data type.  \n",
    "\n",
    "Now let's look at the data types of the **lat_long** DataFrame."
   ]
  },
  {
   "cell_type": "code",
   "execution_count": 23,
   "metadata": {},
   "outputs": [
    {
     "data": {
      "text/plain": [
       "Code postal      int64\n",
       "Latitude       float64\n",
       "Longitude      float64\n",
       "dtype: object"
      ]
     },
     "execution_count": 23,
     "metadata": {},
     "output_type": "execute_result"
    }
   ],
   "source": [
    "lat_long.dtypes"
   ]
  },
  {
   "cell_type": "markdown",
   "metadata": {},
   "source": [
    "We see that the column 'Code postal' of the **lat_long** DataFrame has the data type *int64*. Therefore, let's convert the 'Code postal' of the **full_df** DataFrame to int64.  \n",
    "That way can then finally merge both DataFrames. "
   ]
  },
  {
   "cell_type": "code",
   "execution_count": 24,
   "metadata": {},
   "outputs": [],
   "source": [
    "full_df = full_df.astype({'Code postal':'int64'})"
   ]
  },
  {
   "cell_type": "markdown",
   "metadata": {},
   "source": [
    "Let's verify if the data type has been well converted."
   ]
  },
  {
   "cell_type": "code",
   "execution_count": 25,
   "metadata": {},
   "outputs": [
    {
     "data": {
      "text/plain": [
       "Commune        object\n",
       "Code postal     int64\n",
       "dtype: object"
      ]
     },
     "execution_count": 25,
     "metadata": {},
     "output_type": "execute_result"
    }
   ],
   "source": [
    "full_df.dtypes"
   ]
  },
  {
   "cell_type": "markdown",
   "metadata": {},
   "source": [
    "We can see now that the 'Code postal' column in both DataFrames have the same data type and can be safely merged on this column."
   ]
  },
  {
   "cell_type": "code",
   "execution_count": 26,
   "metadata": {},
   "outputs": [],
   "source": [
    "brussels_df = full_df.merge(lat_long,on=['Code postal'])"
   ]
  },
  {
   "cell_type": "code",
   "execution_count": 27,
   "metadata": {},
   "outputs": [
    {
     "data": {
      "text/html": [
       "<div>\n",
       "<style scoped>\n",
       "    .dataframe tbody tr th:only-of-type {\n",
       "        vertical-align: middle;\n",
       "    }\n",
       "\n",
       "    .dataframe tbody tr th {\n",
       "        vertical-align: top;\n",
       "    }\n",
       "\n",
       "    .dataframe thead th {\n",
       "        text-align: right;\n",
       "    }\n",
       "</style>\n",
       "<table border=\"1\" class=\"dataframe\">\n",
       "  <thead>\n",
       "    <tr style=\"text-align: right;\">\n",
       "      <th></th>\n",
       "      <th>Commune</th>\n",
       "      <th>Code postal</th>\n",
       "      <th>Latitude</th>\n",
       "      <th>Longitude</th>\n",
       "    </tr>\n",
       "  </thead>\n",
       "  <tbody>\n",
       "    <tr>\n",
       "      <th>0</th>\n",
       "      <td>Anderlecht</td>\n",
       "      <td>1070</td>\n",
       "      <td>50.838141</td>\n",
       "      <td>4.312340</td>\n",
       "    </tr>\n",
       "    <tr>\n",
       "      <th>1</th>\n",
       "      <td>Auderghem</td>\n",
       "      <td>1160</td>\n",
       "      <td>50.815657</td>\n",
       "      <td>4.433139</td>\n",
       "    </tr>\n",
       "    <tr>\n",
       "      <th>2</th>\n",
       "      <td>Berchem-Sainte-Agathe</td>\n",
       "      <td>1082</td>\n",
       "      <td>50.863984</td>\n",
       "      <td>4.292702</td>\n",
       "    </tr>\n",
       "    <tr>\n",
       "      <th>3</th>\n",
       "      <td>Etterbeek</td>\n",
       "      <td>1040</td>\n",
       "      <td>50.836851</td>\n",
       "      <td>4.389510</td>\n",
       "    </tr>\n",
       "    <tr>\n",
       "      <th>4</th>\n",
       "      <td>Evere</td>\n",
       "      <td>1140</td>\n",
       "      <td>50.870452</td>\n",
       "      <td>4.402160</td>\n",
       "    </tr>\n",
       "    <tr>\n",
       "      <th>5</th>\n",
       "      <td>Forest</td>\n",
       "      <td>1190</td>\n",
       "      <td>50.809143</td>\n",
       "      <td>4.317751</td>\n",
       "    </tr>\n",
       "    <tr>\n",
       "      <th>6</th>\n",
       "      <td>Ganshoren</td>\n",
       "      <td>1083</td>\n",
       "      <td>50.871240</td>\n",
       "      <td>4.317510</td>\n",
       "    </tr>\n",
       "    <tr>\n",
       "      <th>7</th>\n",
       "      <td>Ixelles</td>\n",
       "      <td>1050</td>\n",
       "      <td>50.822285</td>\n",
       "      <td>4.381571</td>\n",
       "    </tr>\n",
       "    <tr>\n",
       "      <th>8</th>\n",
       "      <td>Jette</td>\n",
       "      <td>1090</td>\n",
       "      <td>50.877763</td>\n",
       "      <td>4.326090</td>\n",
       "    </tr>\n",
       "    <tr>\n",
       "      <th>9</th>\n",
       "      <td>Koekelberg</td>\n",
       "      <td>1081</td>\n",
       "      <td>50.862263</td>\n",
       "      <td>4.325708</td>\n",
       "    </tr>\n",
       "    <tr>\n",
       "      <th>10</th>\n",
       "      <td>Molenbeek-Saint-Jean</td>\n",
       "      <td>1080</td>\n",
       "      <td>50.854355</td>\n",
       "      <td>4.322778</td>\n",
       "    </tr>\n",
       "    <tr>\n",
       "      <th>11</th>\n",
       "      <td>Saint-Gilles</td>\n",
       "      <td>1060</td>\n",
       "      <td>50.826741</td>\n",
       "      <td>4.345668</td>\n",
       "    </tr>\n",
       "    <tr>\n",
       "      <th>12</th>\n",
       "      <td>Saint-Josse-ten-Noode</td>\n",
       "      <td>1210</td>\n",
       "      <td>50.853074</td>\n",
       "      <td>4.372336</td>\n",
       "    </tr>\n",
       "    <tr>\n",
       "      <th>13</th>\n",
       "      <td>Schaerbeek</td>\n",
       "      <td>1030</td>\n",
       "      <td>50.867604</td>\n",
       "      <td>4.373712</td>\n",
       "    </tr>\n",
       "    <tr>\n",
       "      <th>14</th>\n",
       "      <td>Uccle</td>\n",
       "      <td>1180</td>\n",
       "      <td>50.801820</td>\n",
       "      <td>4.337235</td>\n",
       "    </tr>\n",
       "    <tr>\n",
       "      <th>15</th>\n",
       "      <td>Watermael-Boitsfort</td>\n",
       "      <td>1170</td>\n",
       "      <td>50.799394</td>\n",
       "      <td>4.415818</td>\n",
       "    </tr>\n",
       "    <tr>\n",
       "      <th>16</th>\n",
       "      <td>Woluwe-Saint-Lambert</td>\n",
       "      <td>1200</td>\n",
       "      <td>50.846693</td>\n",
       "      <td>4.428484</td>\n",
       "    </tr>\n",
       "    <tr>\n",
       "      <th>17</th>\n",
       "      <td>Woluwe-Saint-Pierre</td>\n",
       "      <td>1150</td>\n",
       "      <td>50.829243</td>\n",
       "      <td>4.443297</td>\n",
       "    </tr>\n",
       "    <tr>\n",
       "      <th>18</th>\n",
       "      <td>Bruxelles</td>\n",
       "      <td>1000</td>\n",
       "      <td>50.846557</td>\n",
       "      <td>4.351697</td>\n",
       "    </tr>\n",
       "    <tr>\n",
       "      <th>19</th>\n",
       "      <td>Laeken</td>\n",
       "      <td>1020</td>\n",
       "      <td>50.883392</td>\n",
       "      <td>4.348713</td>\n",
       "    </tr>\n",
       "    <tr>\n",
       "      <th>20</th>\n",
       "      <td>Neder-Over-Heembeek</td>\n",
       "      <td>1120</td>\n",
       "      <td>50.897796</td>\n",
       "      <td>4.390489</td>\n",
       "    </tr>\n",
       "    <tr>\n",
       "      <th>21</th>\n",
       "      <td>Haren</td>\n",
       "      <td>1130</td>\n",
       "      <td>50.891966</td>\n",
       "      <td>4.412571</td>\n",
       "    </tr>\n",
       "  </tbody>\n",
       "</table>\n",
       "</div>"
      ],
      "text/plain": [
       "                  Commune  Code postal   Latitude  Longitude\n",
       "0              Anderlecht         1070  50.838141   4.312340\n",
       "1               Auderghem         1160  50.815657   4.433139\n",
       "2   Berchem-Sainte-Agathe         1082  50.863984   4.292702\n",
       "3               Etterbeek         1040  50.836851   4.389510\n",
       "4                   Evere         1140  50.870452   4.402160\n",
       "5                  Forest         1190  50.809143   4.317751\n",
       "6               Ganshoren         1083  50.871240   4.317510\n",
       "7                 Ixelles         1050  50.822285   4.381571\n",
       "8                   Jette         1090  50.877763   4.326090\n",
       "9              Koekelberg         1081  50.862263   4.325708\n",
       "10   Molenbeek-Saint-Jean         1080  50.854355   4.322778\n",
       "11           Saint-Gilles         1060  50.826741   4.345668\n",
       "12  Saint-Josse-ten-Noode         1210  50.853074   4.372336\n",
       "13             Schaerbeek         1030  50.867604   4.373712\n",
       "14                  Uccle         1180  50.801820   4.337235\n",
       "15    Watermael-Boitsfort         1170  50.799394   4.415818\n",
       "16   Woluwe-Saint-Lambert         1200  50.846693   4.428484\n",
       "17    Woluwe-Saint-Pierre         1150  50.829243   4.443297\n",
       "18              Bruxelles         1000  50.846557   4.351697\n",
       "19                 Laeken         1020  50.883392   4.348713\n",
       "20    Neder-Over-Heembeek         1120  50.897796   4.390489\n",
       "21                  Haren         1130  50.891966   4.412571"
      ]
     },
     "execution_count": 27,
     "metadata": {},
     "output_type": "execute_result"
    }
   ],
   "source": [
    "brussels_df"
   ]
  },
  {
   "cell_type": "markdown",
   "metadata": {},
   "source": [
    "The brussels_df DataFrame now includes the names of the municipalities, their corresponding postal code, and their latitude and longitude coordinates. This DataFrame can then be used to identify the municipalities on a map."
   ]
  },
  {
   "cell_type": "markdown",
   "metadata": {},
   "source": [
    "## 2.3 Visualization of the municipalities on a map <a class=\"anchor\" id=\"Visualize_Map\"></a>\n",
    "\n",
    "In this section we will visualize the identified municipalities on a Map of Brussels.  \n",
    "\n",
    "First lets install and import the need packages and modules."
   ]
  },
  {
   "cell_type": "code",
   "execution_count": 28,
   "metadata": {},
   "outputs": [
    {
     "name": "stdout",
     "output_type": "stream",
     "text": [
      "packages installed and imported\n"
     ]
    }
   ],
   "source": [
    "import folium #package used to visualize a map\n",
    "\n",
    "from geopy.geocoders import Nominatim # convert an address into latitude and longitude values\n",
    "\n",
    "# Matplotlib and associated plotting modules\n",
    "import matplotlib.cm as cm\n",
    "import matplotlib.colors as colors\n",
    "\n",
    "# import k-means from clustering stage\n",
    "from sklearn.cluster import KMeans\n",
    "\n",
    "import numpy as np # library to handle data in a vectorized manner\n",
    "\n",
    "print('packages installed and imported')\n",
    "\n",
    "import json\n",
    "\n",
    "import requests"
   ]
  },
  {
   "cell_type": "markdown",
   "metadata": {},
   "source": [
    "Let's use the Nominatim geolocator to find out the latitude and longitude of Brussels. "
   ]
  },
  {
   "cell_type": "code",
   "execution_count": 29,
   "metadata": {},
   "outputs": [
    {
     "name": "stdout",
     "output_type": "stream",
     "text": [
      "The geograpical coordinate of Brussels are: 50.8465573, 4.351697.\n"
     ]
    }
   ],
   "source": [
    "address = 'Brussels'\n",
    "\n",
    "geolocator = Nominatim(user_agent=\"br_explorer\")\n",
    "location = geolocator.geocode(address)\n",
    "latitude = location.latitude\n",
    "longitude = location.longitude\n",
    "print('The geograpical coordinate of Brussels are: {}, {}.'.format(latitude, longitude))"
   ]
  },
  {
   "cell_type": "markdown",
   "metadata": {},
   "source": [
    "We'll use Brussels latitude and longtiude to center the Folium map and add markers to the identified municipalities on the map. "
   ]
  },
  {
   "cell_type": "code",
   "execution_count": 30,
   "metadata": {},
   "outputs": [
    {
     "data": {
      "text/html": [
       "<div style=\"width:100%;\"><div style=\"position:relative;width:100%;height:0;padding-bottom:60%;\"><span style=\"color:#565656\">Make this Notebook Trusted to load map: File -> Trust Notebook</span><iframe src=\"about:blank\" style=\"position:absolute;width:100%;height:100%;left:0;top:0;border:none !important;\" data-html=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 onload=\"this.contentDocument.open();this.contentDocument.write(atob(this.getAttribute('data-html')));this.contentDocument.close();\" allowfullscreen webkitallowfullscreen mozallowfullscreen></iframe></div></div>"
      ],
      "text/plain": [
       "<folium.folium.Map at 0x2594a70f5e0>"
      ]
     },
     "execution_count": 30,
     "metadata": {},
     "output_type": "execute_result"
    }
   ],
   "source": [
    "map_brussels = folium.Map(location=[latitude, longitude], zoom_start=10)\n",
    "\n",
    "# add markers to map\n",
    "for lat, lng, municipality in zip(brussels_df['Latitude'], brussels_df['Longitude'], brussels_df['Commune']):\n",
    "    label = '{}'.format(municipality)\n",
    "    label = folium.Popup(label, parse_html=True)\n",
    "    folium.CircleMarker(\n",
    "        [lat, lng],\n",
    "        radius=5,\n",
    "        popup=label,\n",
    "        color='blue',\n",
    "        fill=True,\n",
    "        fill_color='#3186cc',\n",
    "        fill_opacity=0.7,\n",
    "        parse_html=False).add_to(map_brussels)  \n",
    "    \n",
    "map_brussels"
   ]
  },
  {
   "cell_type": "markdown",
   "metadata": {},
   "source": [
    "Once we have the latitude and longitude of the identified municipalities of Brussels we can then use Foursquare's location data to identify the type of venues in the different municipalities. The type of venues combined with the frequency of these venues inside of the identified municipalities could give us a good idea of which municipality would match the best the criteria's given by the young couple."
   ]
  },
  {
   "cell_type": "markdown",
   "metadata": {},
   "source": [
    "## 2.4 List of venues in the municipalities by Category <a class=\"anchor\" id=\"Foursquare_venues\"></a>\n",
    "\n",
    "In this section we will make an API call to the Foursquare API in order to get information about the venues that are located within the municipalities we identifed earlier. For this we will create a function called getNearbyVenues and that will read into a new DataFrame the name of the venue combined with the municipality in which it is located and the coordinates of that municipality as well as the coordinates of the venues location and its category. "
   ]
  },
  {
   "cell_type": "markdown",
   "metadata": {},
   "source": [
    "First lets define the Foursquare API credentials to make it easier afterwards to recall the needed information."
   ]
  },
  {
   "cell_type": "code",
   "execution_count": 31,
   "metadata": {},
   "outputs": [],
   "source": [
    "CLIENT_ID = 'NIDDKXAR0Y1JRGEEWFFQHC234U455BN21PQDFE3EFDRP1GJC' # your Foursquare ID\n",
    "CLIENT_SECRET = '2FO3JXOSKZJLNJKOYE3L120JFVE1T2S5UKDCJC5NGP2PKVST' # your Foursquare Secret\n",
    "VERSION = '20180605' # Foursquare API version\n",
    "LIMIT = 100 # A default Foursquare API limit value"
   ]
  },
  {
   "cell_type": "markdown",
   "metadata": {},
   "source": [
    "Secondly, we will define the function called getNearbyVenues that will loop through the names of the municipalities and return data about the venues that are located within these municipalities. The radius was set at 500m and the API limit is set at 100. "
   ]
  },
  {
   "cell_type": "code",
   "execution_count": 32,
   "metadata": {},
   "outputs": [],
   "source": [
    "def getNearbyVenues(names, latitudes, longitudes, radius=500):\n",
    "    \n",
    "    venues_list=[]\n",
    "    for name, lat, lng in zip(names, latitudes, longitudes):\n",
    "        print(name)\n",
    "            \n",
    "        # create the API request URL\n",
    "        url = 'https://api.foursquare.com/v2/venues/explore?&client_id={}&client_secret={}&v={}&ll={},{}&radius={}&limit={}'.format(\n",
    "            CLIENT_ID, \n",
    "            CLIENT_SECRET, \n",
    "            VERSION, \n",
    "            lat, \n",
    "            lng, \n",
    "            radius, \n",
    "            LIMIT)\n",
    "            \n",
    "        # make the GET request\n",
    "        results = requests.get(url).json()[\"response\"]['groups'][0]['items']\n",
    "        \n",
    "        # return only relevant information for each nearby venue\n",
    "        venues_list.append([(\n",
    "            name, \n",
    "            lat, \n",
    "            lng, \n",
    "            v['venue']['name'], \n",
    "            v['venue']['location']['lat'], \n",
    "            v['venue']['location']['lng'],  \n",
    "            v['venue']['categories'][0]['name']) for v in results])\n",
    "\n",
    "    nearby_venues = pd.DataFrame([item for venue_list in venues_list for item in venue_list])\n",
    "    nearby_venues.columns = ['Commune', \n",
    "                  'Commune Latitude', \n",
    "                  'Commune Longitude', \n",
    "                  'Venue', \n",
    "                  'Venue Latitude', \n",
    "                  'Venue Longitude', \n",
    "                  'Venue Category']\n",
    "    \n",
    "    return(nearby_venues)"
   ]
  },
  {
   "cell_type": "markdown",
   "metadata": {},
   "source": [
    "Now let's make use of this new function and read the **brussels_df** into it."
   ]
  },
  {
   "cell_type": "code",
   "execution_count": 33,
   "metadata": {},
   "outputs": [
    {
     "name": "stdout",
     "output_type": "stream",
     "text": [
      "Anderlecht\n",
      "Auderghem\n",
      "Berchem-Sainte-Agathe\n",
      "Etterbeek\n",
      "Evere\n",
      "Forest\n",
      "Ganshoren\n",
      "Ixelles\n",
      "Jette\n",
      "Koekelberg\n",
      "Molenbeek-Saint-Jean\n",
      "Saint-Gilles\n"
     ]
    },
    {
     "ename": "KeyError",
     "evalue": "'groups'",
     "output_type": "error",
     "traceback": [
      "\u001b[1;31m---------------------------------------------------------------------------\u001b[0m",
      "\u001b[1;31mKeyError\u001b[0m                                  Traceback (most recent call last)",
      "\u001b[1;32m<ipython-input-33-d51e59f57223>\u001b[0m in \u001b[0;36m<module>\u001b[1;34m\u001b[0m\n\u001b[1;32m----> 1\u001b[1;33m \u001b[0mbrussels_venues\u001b[0m \u001b[1;33m=\u001b[0m \u001b[0mgetNearbyVenues\u001b[0m\u001b[1;33m(\u001b[0m\u001b[0mnames\u001b[0m\u001b[1;33m=\u001b[0m\u001b[0mbrussels_df\u001b[0m\u001b[1;33m[\u001b[0m\u001b[1;34m'Commune'\u001b[0m\u001b[1;33m]\u001b[0m\u001b[1;33m,\u001b[0m \u001b[0mlatitudes\u001b[0m \u001b[1;33m=\u001b[0m \u001b[0mbrussels_df\u001b[0m\u001b[1;33m[\u001b[0m\u001b[1;34m'Latitude'\u001b[0m\u001b[1;33m]\u001b[0m\u001b[1;33m,\u001b[0m \u001b[0mlongitudes\u001b[0m\u001b[1;33m=\u001b[0m\u001b[0mbrussels_df\u001b[0m\u001b[1;33m[\u001b[0m\u001b[1;34m'Longitude'\u001b[0m\u001b[1;33m]\u001b[0m\u001b[1;33m)\u001b[0m\u001b[1;33m\u001b[0m\u001b[1;33m\u001b[0m\u001b[0m\n\u001b[0m",
      "\u001b[1;32m<ipython-input-32-bdac38aeb5de>\u001b[0m in \u001b[0;36mgetNearbyVenues\u001b[1;34m(names, latitudes, longitudes, radius)\u001b[0m\n\u001b[0;32m     16\u001b[0m \u001b[1;33m\u001b[0m\u001b[0m\n\u001b[0;32m     17\u001b[0m         \u001b[1;31m# make the GET request\u001b[0m\u001b[1;33m\u001b[0m\u001b[1;33m\u001b[0m\u001b[1;33m\u001b[0m\u001b[0m\n\u001b[1;32m---> 18\u001b[1;33m         \u001b[0mresults\u001b[0m \u001b[1;33m=\u001b[0m \u001b[0mrequests\u001b[0m\u001b[1;33m.\u001b[0m\u001b[0mget\u001b[0m\u001b[1;33m(\u001b[0m\u001b[0murl\u001b[0m\u001b[1;33m)\u001b[0m\u001b[1;33m.\u001b[0m\u001b[0mjson\u001b[0m\u001b[1;33m(\u001b[0m\u001b[1;33m)\u001b[0m\u001b[1;33m[\u001b[0m\u001b[1;34m\"response\"\u001b[0m\u001b[1;33m]\u001b[0m\u001b[1;33m[\u001b[0m\u001b[1;34m'groups'\u001b[0m\u001b[1;33m]\u001b[0m\u001b[1;33m[\u001b[0m\u001b[1;36m0\u001b[0m\u001b[1;33m]\u001b[0m\u001b[1;33m[\u001b[0m\u001b[1;34m'items'\u001b[0m\u001b[1;33m]\u001b[0m\u001b[1;33m\u001b[0m\u001b[1;33m\u001b[0m\u001b[0m\n\u001b[0m\u001b[0;32m     19\u001b[0m \u001b[1;33m\u001b[0m\u001b[0m\n\u001b[0;32m     20\u001b[0m         \u001b[1;31m# return only relevant information for each nearby venue\u001b[0m\u001b[1;33m\u001b[0m\u001b[1;33m\u001b[0m\u001b[1;33m\u001b[0m\u001b[0m\n",
      "\u001b[1;31mKeyError\u001b[0m: 'groups'"
     ]
    }
   ],
   "source": [
    "brussels_venues = getNearbyVenues(names=brussels_df['Commune'], latitudes = brussels_df['Latitude'], longitudes=brussels_df['Longitude'])"
   ]
  },
  {
   "cell_type": "markdown",
   "metadata": {},
   "source": [
    "Let's have look at the first 5 rows of the venues identified thanks to the Foursquare API call. "
   ]
  },
  {
   "cell_type": "code",
   "execution_count": null,
   "metadata": {},
   "outputs": [],
   "source": [
    "brussels_venues.head()"
   ]
  },
  {
   "cell_type": "markdown",
   "metadata": {},
   "source": [
    "Furthermore, let's see how many venues were identified for all the municipalities of Brussels."
   ]
  },
  {
   "cell_type": "code",
   "execution_count": null,
   "metadata": {},
   "outputs": [],
   "source": [
    "print(brussels_venues.shape)"
   ]
  },
  {
   "cell_type": "markdown",
   "metadata": {},
   "source": [
    "We see that we identified **684** different venues located in the municipalities of Brussels.  \n",
    "\n",
    "In the next steps we will analyse these venues and identify the municipalities that include the most venues corresponding to the criterias stated by the young couple."
   ]
  },
  {
   "cell_type": "markdown",
   "metadata": {},
   "source": [
    "## 3. Methodology <a class=\"anchor\" id=\"Methodology\"></a>\n",
    "\n",
    "This section will use the Foursquare API to identify the different types of venues present in the different municipalities. Calculating the frequency of appearance of the different types of venues by municipalities will in turn be used to cluster the municipalities in similar municipalities.  \n",
    "From there we wil analyze the different clusters in order to identify the clusters that respond the best to the criteria's given by the young couple. "
   ]
  },
  {
   "cell_type": "markdown",
   "metadata": {},
   "source": [
    "Let's first identify how many different categories of venues were identified in Brussels. "
   ]
  },
  {
   "cell_type": "code",
   "execution_count": null,
   "metadata": {},
   "outputs": [],
   "source": [
    "brussels_venues_grouped = pd.DataFrame(brussels_venues.groupby('Commune')['Venue Category'].count())\n",
    "\n",
    "brussels_venues_grouped.head()"
   ]
  },
  {
   "cell_type": "code",
   "execution_count": null,
   "metadata": {},
   "outputs": [],
   "source": [
    "print('There are {} uniques categories in Brussels.'.format(len(brussels_venues['Venue Category'].unique())))"
   ]
  },
  {
   "cell_type": "markdown",
   "metadata": {},
   "source": [
    "In order to identify which municipality houses to most of venues relevant for our young couple we will transform the DataFrame to have the categories of venues in columns, which will make it easier afterwards to determine the frequency of each category of venue inside the different municipalities."
   ]
  },
  {
   "cell_type": "code",
   "execution_count": null,
   "metadata": {},
   "outputs": [],
   "source": [
    "# one hot encoding\n",
    "brussels_onehot = pd.get_dummies(brussels_venues[['Venue Category']], prefix=\"\", prefix_sep=\"\")\n",
    "\n",
    "# add neighborhood column back to dataframe\n",
    "brussels_onehot['Commune'] = brussels_venues['Commune'] \n",
    "\n",
    "# move neighborhood column to the first column\n",
    "fixed_columns = [brussels_onehot.columns[-1]] + list(brussels_onehot.columns[:-1])\n",
    "brussels_onehot = brussels_onehot[fixed_columns]\n",
    "\n",
    "brussels_onehot.head(20)"
   ]
  },
  {
   "cell_type": "code",
   "execution_count": null,
   "metadata": {},
   "outputs": [],
   "source": [
    "brussels_onehot.shape"
   ]
  },
  {
   "cell_type": "markdown",
   "metadata": {},
   "source": [
    "We can see that we have the **684** different venues listed and the **179** unique venue categories in the columns. Now we will group these venues by municipality and calculate the frequency of the different categories inside of the different municipalities."
   ]
  },
  {
   "cell_type": "code",
   "execution_count": null,
   "metadata": {},
   "outputs": [],
   "source": [
    "brussels_venues_grouped = brussels_onehot.groupby('Commune').mean().reset_index()\n",
    "\n",
    "brussels_venues_grouped"
   ]
  },
  {
   "cell_type": "markdown",
   "metadata": {},
   "source": [
    "Now that we have the frequency of occurence of the different categories of venues grouped by the municipalities of Brussels we can merge this DataFrame with the previous **brussels_df** DataFrame to get the Latitude and Longitude of each municiaplity as well as it's postal code. "
   ]
  },
  {
   "cell_type": "code",
   "execution_count": null,
   "metadata": {},
   "outputs": [],
   "source": [
    "brussels_venues_grouped_full = brussels_venues_grouped.merge(brussels_df, on = ['Commune'])\n",
    "\n",
    "brussels_venues_grouped_full"
   ]
  },
  {
   "cell_type": "markdown",
   "metadata": {},
   "source": [
    "As there are quite some Venue types and the Real Estate company is mainly interested in venues that correspond to the 3 criterias given by the young couple they perform a preliminary analysis taking into account only Italian Restaurants as this is an already present venue category."
   ]
  },
  {
   "cell_type": "code",
   "execution_count": null,
   "metadata": {},
   "outputs": [],
   "source": [
    "from folium import plugins\n",
    "from folium.plugins import HeatMap\n",
    "\n",
    "map_italian_restaurant = folium.Map(location=[latitude, longitude], zoom_start=12) \n",
    "\n",
    "# Ensure you're handing it floats\n",
    "brussels_venues['Venue Latitude'] = brussels_venues['Venue Latitude'].astype(float)\n",
    "brussels_venues['Venue Longitude'] = brussels_venues['Venue Longitude'].astype(float)\n",
    "\n",
    "# Filter the DF for columns, then remove NaNs\n",
    "heat_df = brussels_venues[brussels_venues['Venue Category']=='Italian Restaurant'] # Reducing data size so it runs faster\n",
    "heat_df = heat_df[['Venue Latitude', 'Venue Longitude']]\n",
    "heat_df = heat_df.dropna(axis=0, subset=['Venue Latitude','Venue Longitude'])\n",
    "\n",
    "# List comprehension to make out list of lists\n",
    "heat_data = [[row['Venue Latitude'],row['Venue Longitude']] for index, row in heat_df.iterrows()]\n",
    "\n",
    "# Plot it on the map\n",
    "HeatMap(heat_data).add_to(map_italian_restaurant)\n",
    "\n",
    "# Display the map\n",
    "map_italian_restaurant"
   ]
  },
  {
   "cell_type": "markdown",
   "metadata": {},
   "source": [
    "From the map we can see that there is a concentration of Italian Restaurants in the centre of Brussels in the Commune of Saint Josse, in Saint Gilles, and between the municipalities of Ganshoren and Jette. This can already give us some indication about the ideal municipalities for the young couple. However, we will need to also compare this information with the frequency of the outdoor and cultural venues in the different municipalities. Therefore, we will start by listing the different types of venues we could find using the Foursquare API. "
   ]
  },
  {
   "cell_type": "code",
   "execution_count": null,
   "metadata": {},
   "outputs": [],
   "source": [
    "print(brussels_venues['Venue Category'].unique())"
   ]
  },
  {
   "cell_type": "markdown",
   "metadata": {},
   "source": [
    "From this list we can see that several venue categories are related to cultural or outdoor venues. We will first determine which venues are related to cultural activities as well as which are related to outdoor activities. \n",
    "\n",
    "From the above list we can see that we have several theaters and musuems as well as Jazz and Comedy clubs. Let's combine these in a list called *matching_culture*. \n",
    "\n",
    "Afterwards, we'll do the same for the outdoor venues. From the above list we can see that we have Parks and Playgrounds but also Basketball Courts and Hockey Fields. Let's group these venues under the list called *matching_outdoors*.\n",
    "\n",
    "To finish off we will put the Italian Restaurants into a seperate list called *matching_IT_Restaurants*. "
   ]
  },
  {
   "cell_type": "code",
   "execution_count": null,
   "metadata": {},
   "outputs": [],
   "source": [
    "matchers_culture = ['Historic', 'Museum', 'Theater', 'Opera', 'Art', 'Arts', 'Exhibit', 'Concert', 'Music', 'Comedy', 'Jazz']\n",
    "matching_culture = [s for s in brussels_venues['Venue Category'].unique() if any(xs in s for xs in matchers_culture)]\n",
    "\n",
    "print(matching_culture)\n",
    "\n",
    "matchers_outdoor = ['Park', 'Playground', 'Court', 'Field', 'Trail', 'Skating', 'Pitch']\n",
    "matching_outdoor = [s for s in brussels_venues['Venue Category'].unique() if any(xs in s for xs in matchers_outdoor)]\n",
    "\n",
    "print(matching_outdoor)\n",
    "\n",
    "matching_IT_Restaurant =['Italian Restaurant']\n",
    "print(matching_IT_Restaurant)\n"
   ]
  },
  {
   "cell_type": "markdown",
   "metadata": {},
   "source": [
    "Once we finished this we can join these 3 lists into one list that we will call *matching_list* as we will use this list to filter out only the venues that fall into these categories. "
   ]
  },
  {
   "cell_type": "code",
   "execution_count": null,
   "metadata": {},
   "outputs": [],
   "source": [
    "matching_list = matching_culture + matching_outdoor + matching_IT_Restaurant\n",
    "\n",
    "print(matching_list)"
   ]
  },
  {
   "cell_type": "markdown",
   "metadata": {},
   "source": [
    "Now let's slice our **brussels_venues** DataFrame and only consider the relevant venues for our young couple. We will call this new DataFrame **brussels_venues_focused**. "
   ]
  },
  {
   "cell_type": "code",
   "execution_count": null,
   "metadata": {},
   "outputs": [],
   "source": [
    "brussels_venues_focused = brussels_venues[brussels_venues['Venue Category'].isin(matching_list)]\n",
    "\n",
    "brussels_venues_focused.head()"
   ]
  },
  {
   "cell_type": "markdown",
   "metadata": {},
   "source": [
    "We can see that we now have less venues and only venues that correspond to our criteria. \n",
    "\n",
    "Now we would like to group the different venue types into only 3 different categories. To do this we will create a new column in the **brussels_venues_focused** DataFrame called *Venue Grouped Category*. For each Venue Category we will assign a parameter called *Culture*, *Outdoor*, or *Italian Restaurant*. "
   ]
  },
  {
   "cell_type": "code",
   "execution_count": null,
   "metadata": {},
   "outputs": [],
   "source": [
    "conditions = [brussels_venues_focused['Venue Category'].isin(matching_culture), brussels_venues_focused['Venue Category'].isin(matching_outdoor), brussels_venues_focused['Venue Category'].isin(matching_IT_Restaurant)]\n",
    "\n",
    "choices = ['Culture', 'Outdoor', 'Italian Restaurant']\n",
    "\n",
    "brussels_venues_focused['Venue Grouped Category'] = np.select(conditions, choices, default=0)\n",
    "\n",
    "brussels_venues_focused"
   ]
  },
  {
   "cell_type": "markdown",
   "metadata": {},
   "source": [
    "As before we are more interested in the category of venue and the municipality. So let's transform the DataFame by having the Grouped Venue Categories in the columns. This will help us calculating the number of times a certain category of venue is present in each municipalities."
   ]
  },
  {
   "cell_type": "code",
   "execution_count": null,
   "metadata": {},
   "outputs": [],
   "source": [
    "# one hot encoding\n",
    "brussels_onehot_focused = pd.get_dummies(brussels_venues_focused[['Venue Grouped Category']], prefix=\"\", prefix_sep=\"\")\n",
    "\n",
    "# add neighborhood column back to dataframe\n",
    "brussels_onehot_focused['Commune'] = brussels_venues_focused['Commune'] \n",
    "\n",
    "# move neighborhood column to the first column\n",
    "fixed_columns_focused = [brussels_onehot_focused.columns[-1]] + list(brussels_onehot_focused.columns[:-1])\n",
    "brussels_onehot_focused = brussels_onehot_focused[fixed_columns_focused]\n",
    "\n",
    "brussels_onehot_focused.head(20)"
   ]
  },
  {
   "cell_type": "code",
   "execution_count": null,
   "metadata": {},
   "outputs": [],
   "source": [
    "brussels_onehot_focused.shape"
   ]
  },
  {
   "cell_type": "markdown",
   "metadata": {},
   "source": [
    "We can see from the shape of the new DataFrame **brussels_onehot_focused** that we are now only considering 92 different venues. Now let us group the different categories of venues by municipality in order to determine which municipality is the most attractive for our young couple.  "
   ]
  },
  {
   "cell_type": "code",
   "execution_count": null,
   "metadata": {},
   "outputs": [],
   "source": [
    "brussels_grouped = brussels_onehot_focused.groupby('Commune').mean().reset_index()\n",
    "\n",
    "brussels_grouped"
   ]
  },
  {
   "cell_type": "markdown",
   "metadata": {},
   "source": [
    "From the new DataFrame **brussels_grouped** we can see that some municipalities only have one or two of the categories of venues that the young couple is looking for. Therefore, let's clean out this new DataFrame to only keep the municipalities that have at least all three categories of venues. "
   ]
  },
  {
   "cell_type": "code",
   "execution_count": null,
   "metadata": {},
   "outputs": [],
   "source": [
    "top_brussels = brussels_grouped[(brussels_grouped != 0).all(1)].sort_values(by='Outdoor', ascending=False)"
   ]
  },
  {
   "cell_type": "markdown",
   "metadata": {},
   "source": [
    "Our DataFrame is seriously reduced as we are only left with 4 different municipalities. As the young couple is mostly interested in Outdoor activities we sorted the DataFrame in descending order of Outdoor venue frequencies. This shows us that Jette is the muncipality with the most Outdoor venues and is the best municipality for our young couple.\n",
    "\n",
    "Sorting by Outdoor venues frequency the top 3 municipalities for our young coupled are Jette, Saint-Gilles, and Saint-Josse-ten-Noode, which also corresponded to the heatmap of Italian Restaurants inside Brussels. "
   ]
  },
  {
   "cell_type": "markdown",
   "metadata": {},
   "source": [
    "To finish let's add the longitude and latitudes of the municipalities to this DataFrame as well as a column that tells us the rank of each municipality."
   ]
  },
  {
   "cell_type": "code",
   "execution_count": null,
   "metadata": {},
   "outputs": [],
   "source": [
    "final_df = top_brussels.merge(brussels_df, on = 'Commune')\n",
    "\n",
    "final_df['Rank'] = final_df.index+1\n",
    "\n",
    "final_df"
   ]
  },
  {
   "cell_type": "markdown",
   "metadata": {},
   "source": [
    "## 4. Results <a class=\"anchor\" id=\"Results\"></a>\n",
    "\n",
    "The Real Estate company now has narrowed down the 3 top municipalities for our young couple and is ready to present them with appartements in these 3 specific municipalities. \n",
    "\n",
    "Furthermore, they noted that the results matched the preleminary analysis of Italian Restaurants frequency in the different municipalities, as this was the second most important criteria it was interesting to see that the final result was a 100% match with this analysis. "
   ]
  },
  {
   "cell_type": "markdown",
   "metadata": {},
   "source": [
    "As there were only 4 municipalities that actually incorporated the 3 different venues categories asked for by the young couple, the Real Estate company decided to include the 4th municipality of Etterbeek in their search for appartements. "
   ]
  },
  {
   "cell_type": "markdown",
   "metadata": {},
   "source": [
    "Finally, they decided to present a map of these 4 municipalities to the young couple for them to have a better idea of where these are situated and to make a better decision based on their needs of commuting to work. "
   ]
  },
  {
   "cell_type": "code",
   "execution_count": null,
   "metadata": {},
   "outputs": [],
   "source": [
    "final_map = folium.Map(location=[latitude, longitude], zoom_start=12) \n",
    "\n",
    "for lat, lng, municipality, rank in zip(final_df['Latitude'], final_df['Longitude'], final_df['Commune'], final_df['Rank']):\n",
    "    label = '{}, {}'.format(municipality, rank)\n",
    "    label = folium.Popup(label, parse_html=True)\n",
    "    folium.CircleMarker(\n",
    "        [lat, lng],\n",
    "        radius=5,\n",
    "        popup=label,\n",
    "        color='blue',\n",
    "        fill=True,\n",
    "        fill_color='#3186cc',\n",
    "        fill_opacity=0.7,\n",
    "        parse_html=False).add_to(final_map)  \n",
    "    \n",
    "final_map"
   ]
  },
  {
   "cell_type": "markdown",
   "metadata": {},
   "source": [
    "## 5. Discussion <a class=\"anchor\" id=\"Discussion\"></a>\n",
    "\n",
    "Based on the criterias stated by the young couple the best municipality to find an appartment would be Jette as it is the municipality that has the highest frequency of Outdoor venues and second highest frequency of Cultural venues. However, based on the map, Jette is one of the municiaplities that is the furthest away from the center of Brussels and could therefore pose a problem in terms of commuting.  \n",
    "Therefore, the second best option, Saint-Gilles, would be a better fit should the young couple not have a car. Depending on the workplace the two last municipalities could be also more advantageous in terms of location. "
   ]
  },
  {
   "cell_type": "markdown",
   "metadata": {},
   "source": [
    "## Conclusion <a class=\"anchor\" id=\"Conclusion\"></a>\n",
    "\n",
    "During this exercise I got to learn more in detail on how to pars information from different sources as well as how to use the Foursquare API to extract interesting location data. Crossing this with pre-determined criterias I was able to conclude on what municipalities were best suited based on the given criterias. \n",
    "\n",
    "Furthermore, in order to visually analyze some patterns I could make a more in-depth use of the Folium package.\n",
    "\n",
    "However, as I started out wanting to do a k-mean clustering I figured through out the exercise that this would not be needed in the end as the set problem already narrowed down the different solutions. Therefore, I decided to skip the clustering of the different municipalities of Brussels. Moreover, when clustering using all the available venues given by Foursquare I was not satisfied with the clustering made as it took into account to many different categories of venues and did not reply to the question at hand. "
   ]
  },
  {
   "cell_type": "code",
   "execution_count": null,
   "metadata": {},
   "outputs": [],
   "source": []
  }
 ],
 "metadata": {
  "kernelspec": {
   "display_name": "Python 3",
   "language": "python",
   "name": "python3"
  },
  "language_info": {
   "codemirror_mode": {
    "name": "ipython",
    "version": 3
   },
   "file_extension": ".py",
   "mimetype": "text/x-python",
   "name": "python",
   "nbconvert_exporter": "python",
   "pygments_lexer": "ipython3",
   "version": "3.8.3"
  }
 },
 "nbformat": 4,
 "nbformat_minor": 4
}
